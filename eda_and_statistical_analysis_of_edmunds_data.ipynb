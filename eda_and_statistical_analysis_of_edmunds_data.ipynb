{
 "cells": [
  {
   "cell_type": "markdown",
   "metadata": {},
   "source": [
    "# EDA and Statistical Analysis of Second Hand car Data (Edmunds.com)"
   ]
  },
  {
   "cell_type": "code",
   "execution_count": 2,
   "metadata": {},
   "outputs": [],
   "source": [
    "import pandas as pd\n",
    "import numpy as np\n",
    "import matplotlib.pyplot as plt\n",
    "import seaborn as sns\n",
    "from scipy import stats\n",
    "import warnings\n",
    "pd.options.display.float_format = '{:.2f}'.format\n",
    "import plotly.express as px\n",
    "from plotly.subplots import make_subplots\n",
    "import plotly.graph_objects as go\n",
    "\n",
    "warnings.filterwarnings(\"ignore\")\n",
    "pd.set_option(\"display.max_column\",100)\n",
    "from scipy.stats import shapiro\n",
    "from scipy.stats import kruskal\n"
   ]
  },
  {
   "cell_type": "markdown",
   "metadata": {},
   "source": [
    "# This notebook contains used car data from Edmunds.com \n",
    "\n",
    "* Data has been scraped from Edmunds.com in March 2024 by me\n",
    "\n",
    "* We have 264k rows of data\n",
    "\n",
    "* Throughout the notebook I have applied Statistical Analysis and Exploratory Data Analysis in order to gain insights from the Second Hand Car Market in the US.\n",
    "\n",
    "## * You can feel free to reach out to me on Linkedin --> linkedin.com/in/emir-tatlici\n"
   ]
  },
  {
   "cell_type": "code",
   "execution_count": 3,
   "metadata": {},
   "outputs": [],
   "source": [
    "data = pd.read_csv(\"edmunds_son_veri.csv\",index_col=0)\n",
    "df=data.copy()\n",
    "df.drop(columns=[\"publish_date\",\"first_published_date\",\"guaranteed_price_expire_date\",\"guaranteed_price_delta\",\"display_price_delta\",\"loan_payment\",\"dealer_phone\",\"display_price_delta_timestamp\",\"in_transit\"],inplace=True)\n",
    "df[[\"make\",\"model\"]] =df[\"make_model\"].str.split(\"|\",expand=True)"
   ]
  },
  {
   "cell_type": "code",
   "execution_count": 4,
   "metadata": {},
   "outputs": [],
   "source": [
    "country_dict = {\n",
    "    'Toyota': 'Japan', 'Ford': 'USA',\n",
    "    'Chevrolet': 'USA','Honda': 'Japan',\n",
    "    'Nissan': 'Japan',   'Jeep': 'USA',   'BMW': 'Germany',   'Hyundai': 'South Korea',   'Mercedes-Benz': 'Germany',\n",
    "    'Kia': 'South Korea',   'Volkswagen': 'Germany',   'Ram': 'USA',   'Subaru': 'Japan',   'Audi': 'Germany',  'GMC': 'USA',  'Lexus': 'Japan',  'Mazda': 'Japan',  'Tesla': 'USA',  'Cadillac': 'USA',  'Chrysler': 'USA',  'Acura': 'Japan',\n",
    "    'Porsche': 'Germany',   'Land Rover': 'UK','INFINITI': 'Japan','Buick': 'USA',  'Volvo': 'Sweden',  'MINI': 'UK',  'Mitsubishi': 'Japan',  'Jaguar': 'UK',  'Genesis': 'South Korea',  'Alfa Romeo': 'Italy',  'Maserati': 'Italy',  'FIAT': 'Italy',\n",
    "    'Ferrari': 'Italy', 'Lamborghini': 'Italy',  'Rolls-Royce': 'UK',  'Aston Martin': 'UK',  'HUMMER': 'USA',  'McLaren': 'UK',  'Bentley': 'UK', 'Rivian': 'USA'\n",
    "}\n",
    "df['country'] = df['make'].map(country_dict)"
   ]
  },
  {
   "cell_type": "code",
   "execution_count": 5,
   "metadata": {},
   "outputs": [
    {
     "data": {
      "text/html": [
       "<div>\n",
       "<style scoped>\n",
       "    .dataframe tbody tr th:only-of-type {\n",
       "        vertical-align: middle;\n",
       "    }\n",
       "\n",
       "    .dataframe tbody tr th {\n",
       "        vertical-align: top;\n",
       "    }\n",
       "\n",
       "    .dataframe thead th {\n",
       "        text-align: right;\n",
       "    }\n",
       "</style>\n",
       "<table border=\"1\" class=\"dataframe\">\n",
       "  <thead>\n",
       "    <tr style=\"text-align: right;\">\n",
       "      <th></th>\n",
       "      <th>stock_number</th>\n",
       "      <th>type</th>\n",
       "      <th>seller_comments</th>\n",
       "      <th>dealer_address</th>\n",
       "      <th>dealer_city</th>\n",
       "      <th>dealer_state</th>\n",
       "      <th>dealer_zip</th>\n",
       "      <th>dealer_name</th>\n",
       "      <th>mileage</th>\n",
       "      <th>exterior_color</th>\n",
       "      <th>interior_color</th>\n",
       "      <th>drive_train</th>\n",
       "      <th>cylinders</th>\n",
       "      <th>engine_size</th>\n",
       "      <th>engine_type</th>\n",
       "      <th>fuel_type</th>\n",
       "      <th>transmission</th>\n",
       "      <th>style</th>\n",
       "      <th>year</th>\n",
       "      <th>epa_combined_mpg</th>\n",
       "      <th>epa_city_mpg</th>\n",
       "      <th>epa_highway_mpg</th>\n",
       "      <th>base_msrp</th>\n",
       "      <th>total_msrp</th>\n",
       "      <th>display_price</th>\n",
       "      <th>make_model</th>\n",
       "      <th>model_id</th>\n",
       "      <th>trim</th>\n",
       "      <th>style_id</th>\n",
       "      <th>style_description</th>\n",
       "      <th>sub_models</th>\n",
       "      <th>body_type</th>\n",
       "      <th>vehicle_style</th>\n",
       "      <th>oem_model_code</th>\n",
       "      <th>make</th>\n",
       "      <th>model</th>\n",
       "      <th>country</th>\n",
       "    </tr>\n",
       "  </thead>\n",
       "  <tbody>\n",
       "    <tr>\n",
       "      <th>0</th>\n",
       "      <td>300669T</td>\n",
       "      <td>USED</td>\n",
       "      <td>Estimated monthly payment and estimated total ...</td>\n",
       "      <td>4608 St Barnabas Rd</td>\n",
       "      <td>Temple Hills</td>\n",
       "      <td>MD</td>\n",
       "      <td>20748</td>\n",
       "      <td>Global Auto Outlet</td>\n",
       "      <td>170912.00</td>\n",
       "      <td>Blizzard Pearl</td>\n",
       "      <td>Black leather</td>\n",
       "      <td>four wheel drive</td>\n",
       "      <td>6.00</td>\n",
       "      <td>4.00</td>\n",
       "      <td>gas</td>\n",
       "      <td>regular unleaded</td>\n",
       "      <td>Automatic</td>\n",
       "      <td>Limited 4dr SUV 4WD (4.0L 6cyl 5A)</td>\n",
       "      <td>2016</td>\n",
       "      <td>18.00</td>\n",
       "      <td>17.00</td>\n",
       "      <td>21.00</td>\n",
       "      <td>44360.00</td>\n",
       "      <td>46245.00</td>\n",
       "      <td>16966.00</td>\n",
       "      <td>Toyota|4Runner</td>\n",
       "      <td>200747158</td>\n",
       "      <td>Limited</td>\n",
       "      <td>200747162.00</td>\n",
       "      <td>Limited 4dr SUV 4WD (4.0L 6cyl 5A)</td>\n",
       "      <td>4Runner SUV</td>\n",
       "      <td>SUV</td>\n",
       "      <td>4dr SUV</td>\n",
       "      <td>8668</td>\n",
       "      <td>Toyota</td>\n",
       "      <td>4Runner</td>\n",
       "      <td>Japan</td>\n",
       "    </tr>\n",
       "    <tr>\n",
       "      <th>1</th>\n",
       "      <td>297313</td>\n",
       "      <td>USED</td>\n",
       "      <td>The 2019 Toyota Highlander LE is a well-built ...</td>\n",
       "      <td>14524 Richmond Hwy</td>\n",
       "      <td>Woodbridge</td>\n",
       "      <td>VA</td>\n",
       "      <td>22191</td>\n",
       "      <td>Carget Motors</td>\n",
       "      <td>96990.00</td>\n",
       "      <td>Predawn Gray Mica</td>\n",
       "      <td>Ash cloth</td>\n",
       "      <td>front wheel drive</td>\n",
       "      <td>6.00</td>\n",
       "      <td>3.50</td>\n",
       "      <td>gas</td>\n",
       "      <td>regular unleaded</td>\n",
       "      <td>Automatic</td>\n",
       "      <td>LE 4dr SUV (3.5L 6cyl 8A)</td>\n",
       "      <td>2019</td>\n",
       "      <td>23.00</td>\n",
       "      <td>20.00</td>\n",
       "      <td>27.00</td>\n",
       "      <td>33880.00</td>\n",
       "      <td>35000.00</td>\n",
       "      <td>18999.00</td>\n",
       "      <td>Toyota|Highlander</td>\n",
       "      <td>401778550</td>\n",
       "      <td>LE</td>\n",
       "      <td>401778553.00</td>\n",
       "      <td>LE 4dr SUV (3.5L 6cyl 8A)</td>\n",
       "      <td>Highlander SUV</td>\n",
       "      <td>SUV</td>\n",
       "      <td>4dr SUV</td>\n",
       "      <td>6946</td>\n",
       "      <td>Toyota</td>\n",
       "      <td>Highlander</td>\n",
       "      <td>Japan</td>\n",
       "    </tr>\n",
       "    <tr>\n",
       "      <th>2</th>\n",
       "      <td>LP071998</td>\n",
       "      <td>USED</td>\n",
       "      <td>Recent Arrival! 4WD. *WELL MAINTAINED FJ CRUSE...</td>\n",
       "      <td>9215 Harford Rd</td>\n",
       "      <td>Baltimore</td>\n",
       "      <td>MD</td>\n",
       "      <td>21234</td>\n",
       "      <td>Heritage Volkswagen Parkville</td>\n",
       "      <td>122598.00</td>\n",
       "      <td>Silver Fresco Metallic/White Roof</td>\n",
       "      <td>Dark Charcoal premium cloth</td>\n",
       "      <td>four wheel drive</td>\n",
       "      <td>6.00</td>\n",
       "      <td>4.00</td>\n",
       "      <td>gas</td>\n",
       "      <td>premium unleaded (recommended)</td>\n",
       "      <td>Automatic</td>\n",
       "      <td>4dr SUV 4WD (4.0L 6cyl 5A)</td>\n",
       "      <td>2010</td>\n",
       "      <td>18.00</td>\n",
       "      <td>17.00</td>\n",
       "      <td>21.00</td>\n",
       "      <td>25770.00</td>\n",
       "      <td>26580.00</td>\n",
       "      <td>19400.00</td>\n",
       "      <td>Toyota|FJ Cruiser</td>\n",
       "      <td>100529049</td>\n",
       "      <td>Base</td>\n",
       "      <td>101200686.00</td>\n",
       "      <td>4dr SUV 4WD (4.0L 6cyl 5A)</td>\n",
       "      <td>FJ Cruiser SUV</td>\n",
       "      <td>SUV</td>\n",
       "      <td>4dr SUV</td>\n",
       "      <td>4704</td>\n",
       "      <td>Toyota</td>\n",
       "      <td>FJ Cruiser</td>\n",
       "      <td>Japan</td>\n",
       "    </tr>\n",
       "    <tr>\n",
       "      <th>3</th>\n",
       "      <td>79304</td>\n",
       "      <td>USED</td>\n",
       "      <td>This 2018 Toyota Tundra 4dr features a 5.7L 8 ...</td>\n",
       "      <td>518 520 S Broad St</td>\n",
       "      <td>Elizabeth</td>\n",
       "      <td>NJ</td>\n",
       "      <td>7201</td>\n",
       "      <td>JD Motors</td>\n",
       "      <td>75098.00</td>\n",
       "      <td>Midnight Black Metallic</td>\n",
       "      <td>Black cloth</td>\n",
       "      <td>four wheel drive</td>\n",
       "      <td>8.00</td>\n",
       "      <td>5.70</td>\n",
       "      <td>gas</td>\n",
       "      <td>regular unleaded</td>\n",
       "      <td>Automatic</td>\n",
       "      <td>SR5 4dr CrewMax 4WD SB (5.7L 8cyl 6A)</td>\n",
       "      <td>2018</td>\n",
       "      <td>14.00</td>\n",
       "      <td>13.00</td>\n",
       "      <td>17.00</td>\n",
       "      <td>39770.00</td>\n",
       "      <td>41165.00</td>\n",
       "      <td>26900.00</td>\n",
       "      <td>Toyota|Tundra</td>\n",
       "      <td>401728856</td>\n",
       "      <td>SR5</td>\n",
       "      <td>401728912.00</td>\n",
       "      <td>SR5 4dr CrewMax 4WD SB (5.7L 8cyl 6A)</td>\n",
       "      <td>Tundra CrewMax Cab</td>\n",
       "      <td>Pickup</td>\n",
       "      <td>Crew Cab Pickup</td>\n",
       "      <td>8361</td>\n",
       "      <td>Toyota</td>\n",
       "      <td>Tundra</td>\n",
       "      <td>Japan</td>\n",
       "    </tr>\n",
       "    <tr>\n",
       "      <th>4</th>\n",
       "      <td>39296</td>\n",
       "      <td>USED</td>\n",
       "      <td>This 2017 Toyota Corolla 4dr features a 1.8L 4...</td>\n",
       "      <td>674 Garden St</td>\n",
       "      <td>Elizabeth</td>\n",
       "      <td>NJ</td>\n",
       "      <td>7202</td>\n",
       "      <td>Auto Outlet</td>\n",
       "      <td>54862.00</td>\n",
       "      <td>Classic Silver Metallic</td>\n",
       "      <td>Black Mixed Media Fabric w/Black Cherry Stitch...</td>\n",
       "      <td>front wheel drive</td>\n",
       "      <td>4.00</td>\n",
       "      <td>1.80</td>\n",
       "      <td>gas</td>\n",
       "      <td>regular unleaded</td>\n",
       "      <td>Automatic</td>\n",
       "      <td>50th Anniversary Special Edition 4dr Sedan (1....</td>\n",
       "      <td>2017</td>\n",
       "      <td>31.00</td>\n",
       "      <td>28.00</td>\n",
       "      <td>35.00</td>\n",
       "      <td>21900.00</td>\n",
       "      <td>23770.00</td>\n",
       "      <td>12057.00</td>\n",
       "      <td>Toyota|Corolla</td>\n",
       "      <td>401668008</td>\n",
       "      <td>50th Anniversary Special Edition</td>\n",
       "      <td>401668048.00</td>\n",
       "      <td>50th Anniversary Special Edition 4dr Sedan (1....</td>\n",
       "      <td>Corolla Sedan</td>\n",
       "      <td>Sedan</td>\n",
       "      <td>Sedan</td>\n",
       "      <td>1865</td>\n",
       "      <td>Toyota</td>\n",
       "      <td>Corolla</td>\n",
       "      <td>Japan</td>\n",
       "    </tr>\n",
       "  </tbody>\n",
       "</table>\n",
       "</div>"
      ],
      "text/plain": [
       "  stock_number  type                                    seller_comments  \\\n",
       "0      300669T  USED  Estimated monthly payment and estimated total ...   \n",
       "1       297313  USED  The 2019 Toyota Highlander LE is a well-built ...   \n",
       "2     LP071998  USED  Recent Arrival! 4WD. *WELL MAINTAINED FJ CRUSE...   \n",
       "3        79304  USED  This 2018 Toyota Tundra 4dr features a 5.7L 8 ...   \n",
       "4        39296  USED  This 2017 Toyota Corolla 4dr features a 1.8L 4...   \n",
       "\n",
       "        dealer_address   dealer_city dealer_state  dealer_zip  \\\n",
       "0  4608 St Barnabas Rd  Temple Hills           MD       20748   \n",
       "1   14524 Richmond Hwy    Woodbridge           VA       22191   \n",
       "2      9215 Harford Rd     Baltimore           MD       21234   \n",
       "3   518 520 S Broad St     Elizabeth           NJ        7201   \n",
       "4        674 Garden St     Elizabeth           NJ        7202   \n",
       "\n",
       "                     dealer_name   mileage                     exterior_color  \\\n",
       "0             Global Auto Outlet 170912.00                     Blizzard Pearl   \n",
       "1                  Carget Motors  96990.00                  Predawn Gray Mica   \n",
       "2  Heritage Volkswagen Parkville 122598.00  Silver Fresco Metallic/White Roof   \n",
       "3                      JD Motors  75098.00            Midnight Black Metallic   \n",
       "4                    Auto Outlet  54862.00            Classic Silver Metallic   \n",
       "\n",
       "                                      interior_color        drive_train  \\\n",
       "0                                      Black leather   four wheel drive   \n",
       "1                                          Ash cloth  front wheel drive   \n",
       "2                        Dark Charcoal premium cloth   four wheel drive   \n",
       "3                                        Black cloth   four wheel drive   \n",
       "4  Black Mixed Media Fabric w/Black Cherry Stitch...  front wheel drive   \n",
       "\n",
       "   cylinders  engine_size engine_type                       fuel_type  \\\n",
       "0       6.00         4.00         gas                regular unleaded   \n",
       "1       6.00         3.50         gas                regular unleaded   \n",
       "2       6.00         4.00         gas  premium unleaded (recommended)   \n",
       "3       8.00         5.70         gas                regular unleaded   \n",
       "4       4.00         1.80         gas                regular unleaded   \n",
       "\n",
       "  transmission                                              style  year  \\\n",
       "0    Automatic                 Limited 4dr SUV 4WD (4.0L 6cyl 5A)  2016   \n",
       "1    Automatic                          LE 4dr SUV (3.5L 6cyl 8A)  2019   \n",
       "2    Automatic                         4dr SUV 4WD (4.0L 6cyl 5A)  2010   \n",
       "3    Automatic              SR5 4dr CrewMax 4WD SB (5.7L 8cyl 6A)  2018   \n",
       "4    Automatic  50th Anniversary Special Edition 4dr Sedan (1....  2017   \n",
       "\n",
       "   epa_combined_mpg  epa_city_mpg  epa_highway_mpg  base_msrp  total_msrp  \\\n",
       "0             18.00         17.00            21.00   44360.00    46245.00   \n",
       "1             23.00         20.00            27.00   33880.00    35000.00   \n",
       "2             18.00         17.00            21.00   25770.00    26580.00   \n",
       "3             14.00         13.00            17.00   39770.00    41165.00   \n",
       "4             31.00         28.00            35.00   21900.00    23770.00   \n",
       "\n",
       "   display_price         make_model   model_id  \\\n",
       "0       16966.00     Toyota|4Runner  200747158   \n",
       "1       18999.00  Toyota|Highlander  401778550   \n",
       "2       19400.00  Toyota|FJ Cruiser  100529049   \n",
       "3       26900.00      Toyota|Tundra  401728856   \n",
       "4       12057.00     Toyota|Corolla  401668008   \n",
       "\n",
       "                               trim     style_id  \\\n",
       "0                           Limited 200747162.00   \n",
       "1                                LE 401778553.00   \n",
       "2                              Base 101200686.00   \n",
       "3                               SR5 401728912.00   \n",
       "4  50th Anniversary Special Edition 401668048.00   \n",
       "\n",
       "                                   style_description          sub_models  \\\n",
       "0                 Limited 4dr SUV 4WD (4.0L 6cyl 5A)         4Runner SUV   \n",
       "1                          LE 4dr SUV (3.5L 6cyl 8A)      Highlander SUV   \n",
       "2                         4dr SUV 4WD (4.0L 6cyl 5A)      FJ Cruiser SUV   \n",
       "3              SR5 4dr CrewMax 4WD SB (5.7L 8cyl 6A)  Tundra CrewMax Cab   \n",
       "4  50th Anniversary Special Edition 4dr Sedan (1....       Corolla Sedan   \n",
       "\n",
       "  body_type    vehicle_style oem_model_code    make       model country  \n",
       "0       SUV          4dr SUV           8668  Toyota     4Runner   Japan  \n",
       "1       SUV          4dr SUV           6946  Toyota  Highlander   Japan  \n",
       "2       SUV          4dr SUV           4704  Toyota  FJ Cruiser   Japan  \n",
       "3    Pickup  Crew Cab Pickup           8361  Toyota      Tundra   Japan  \n",
       "4     Sedan            Sedan           1865  Toyota     Corolla   Japan  "
      ]
     },
     "execution_count": 5,
     "metadata": {},
     "output_type": "execute_result"
    }
   ],
   "source": [
    "df.drop(columns=[\"vin\",\"vid\"],inplace=True)\n",
    "df.head()"
   ]
  },
  {
   "cell_type": "markdown",
   "metadata": {},
   "source": [
    "## TL;DR\n",
    "\n",
    "### CONCLUSIONS OF THE ANALYSIS HAS BEEN CONDUCTED BELOW\n",
    "----- \n",
    "Statistical Analysis \n",
    "* At 99% of significance level there are price differences between body types\n",
    "\n",
    "* At 99% of significance level there are no price differences between prices in different states.\n",
    "\n",
    "* Engine Types and Transmisson types are causing price difference between cars.\n",
    "\n",
    "\n",
    "-----\n",
    "\n",
    "Correlation \n",
    "\n",
    "* There is a Spearman correlation coefficient of -0.79 between Year and Mileage. In our dataset, as the year increases (newer cars), the mileage decreases\n",
    "\n",
    "* There is a Spearman correlation coefficient of -0.71 between Display Price and Mileage. This indicates that as the mileage of the vehicle increases, the price decreases.\n",
    "\n",
    "* There is a Pearson correlation coefficient of +0.93 between Engine Size and Cylinders. This means that as the engine size increases, the number of cylinders also increases.\n",
    "\n",
    "* There is a Spearman correlation coefficient of +0.71 between Display Price and Year. This indicates a non-linear positive relationship, where the price increases as the year progresses (approaching the present).\n",
    "\n",
    "------\n",
    "Data Analysis\n",
    "\n",
    "* SUV's are the most frequent body type of the cars in the US\n",
    "\n",
    "* Average price of a car in the US is 27k USD\n",
    "\n",
    "* WA(Washington) has the highest average price in the United States\n",
    "\n",
    "* MO(Missouri) has the lowest average price in the United States\n",
    "\n",
    "\n",
    "* Ferrari has the highest average price in the dataset(Between the makes that occured at least 50 times in the dataset.)\n",
    "\n",
    "*  FIAT has the lowest average price in the dataset(Between the makes that occured at least 50 times in the dataset.)\n",
    "\n",
    "* McLaren Senna has highest Price in the Dataset with a price a tag of 1.1 million usd.\n",
    "\n",
    "\n",
    "\n",
    "------\n",
    "Data Analysis Part 2\n",
    "* Honda is the most frequent car in the United States used car Market.\n",
    "\n",
    "* Rivian is the least frequent car in the United States used car Market.\n",
    "\n",
    "* Most frequent cars are generally in the Very-High Mileage segment While rare cars in Low Mileage segment.\n",
    "\n",
    "* Most frequent cars has significantly much lower prices than the Rare cars.\n",
    "\n",
    "------\n",
    "Data Analysis Part 3\n",
    "*  Cars with higher average mileage tends to be in a low price segment. In the other hand low mileage puts the cars in to higher price segments based on the data we have.\n",
    "\n",
    "*  Hummer takes the lead in terms of average mileage and average age.\n",
    "\n",
    "* Ferrari and McLaren has the lowest average mileage in the dataset.\n",
    "\n",
    "*  Vehicles with higher average mileage tends to be SUV.\n",
    "------\n",
    "Data Analysis Part 4\n",
    "* Electric-included cars are generally in the low and medium mileage segments. We might say that owners of these cars aim to sell them at a high value while their batteries are still in good condition.\n",
    "\n",
    "* Electric-included cars are generally more expensive than non-electric cars(except diesel.)\n",
    "\n",
    "--------\n",
    "Data Analysis Part 5\n",
    "*  We see that Coupe Body Type takes the lead in terms of average Price, and Most Common brand is BMW in this group. Also, In terms of average mileage coupe cars has the lowest mean mileage.\n",
    "\n",
    "*  Station wagon and Hatchbacks has the lowest average price.\n",
    "\n",
    "* South Korean and Japanese cars are the cheapest cars in the dataset \n",
    "\n",
    "* Italian and English cars are the most expensive cars.\n",
    "\n",
    "--------------------\n",
    "Data Analysis Part 6\n",
    "\n",
    "* Higher the price segment is lower the mean/median mileage we have.\n",
    "\n",
    "* As mileage goes up our price segment goes low."
   ]
  },
  {
   "cell_type": "code",
   "execution_count": 6,
   "metadata": {},
   "outputs": [],
   "source": [
    "sample_df = df.sample(n=1000, random_state=43) "
   ]
  },
  {
   "cell_type": "markdown",
   "metadata": {},
   "source": [
    "## Do the prices in the population and sample follow a normal distribution?"
   ]
  },
  {
   "cell_type": "code",
   "execution_count": 7,
   "metadata": {},
   "outputs": [
    {
     "name": "stdout",
     "output_type": "stream",
     "text": [
      "Population Normality Test Results:\n",
      "Test Statistic: 0.5331149101257324\n",
      "P-value: 0.0\n",
      "\n",
      "Sample Normality Test Results:\n",
      "Test Statistic: 0.6210414171218872\n",
      "P-value: 3.3603137174509113e-42\n",
      "\n",
      "The vehicle price data in the population does not follow a normal distribution.\n",
      "The vehicle price data in the sample does not follow a normal distribution.\n"
     ]
    }
   ],
   "source": [
    "\n",
    "population = df[\"display_price\"]\n",
    "\n",
    "stat, p_value = shapiro(population)\n",
    "\n",
    "print(\"Population Normality Test Results:\")\n",
    "print(\"Test Statistic:\", stat)\n",
    "print(\"P-value:\", p_value)\n",
    "\n",
    "sample = sample_df[\"display_price\"]\n",
    "\n",
    "stat, p_value = shapiro(sample)\n",
    "\n",
    "print(\"\\nSample Normality Test Results:\")\n",
    "print(\"Test Statistic:\", stat)\n",
    "print(\"P-value:\", p_value)\n",
    "\n",
    "if p_value < 0.05:\n",
    "    print(\"\\nThe vehicle price data in the population does not follow a normal distribution.\")\n",
    "else:\n",
    "    print(\"\\nThe vehicle price data in the population follows a normal distribution.\")\n",
    "\n",
    "if p_value < 0.05:\n",
    "    print(\"The vehicle price data in the sample does not follow a normal distribution.\")\n",
    "else:\n",
    "    print(\"The vehicle price data in the sample follows a normal distribution.\")"
   ]
  },
  {
   "cell_type": "markdown",
   "metadata": {},
   "source": [
    "## Since the population does not follow a normal distribution, the tests we use will be non-parametric.\n",
    "----------------------------------------------------------------------------------------------------------\n",
    "\n",
    "\n",
    "\n",
    "\n"
   ]
  },
  {
   "cell_type": "markdown",
   "metadata": {},
   "source": [
    "## Let's examine the distribution of vehicle prices in our population and sample\n",
    "\n",
    "* Log transformation was applied to prices to prevent the graph from becoming meaningless due to outliers in our data\n",
    "* After log transformation, the price distributions in the population and sample were similar\n"
   ]
  },
  {
   "cell_type": "code",
   "execution_count": 8,
   "metadata": {},
   "outputs": [
    {
     "data": {
      "image/png": "[encoded data removed]",
      "text/plain": [
       "<Figure size 1000x600 with 1 Axes>"
      ]
     },
     "metadata": {},
     "output_type": "display_data"
    }
   ],
   "source": [
    "population_price = df[\"display_price\"]\n",
    "sample_price = sample_df[\"display_price\"]\n",
    "\n",
    "population_price_log = np.log10(population_price)\n",
    "sample_price_log = np.log10(sample_price)\n",
    "\n",
    "plt.figure(figsize=(10, 6))\n",
    "\n",
    "sns.kdeplot(population_price_log, color='blue', label='Population Price (Log)', fill=True)\n",
    "sns.kdeplot(sample_price_log, color='red', label='Sample Price (Log)', fill=False)\n",
    "\n",
    "plt.xlabel('Price (Log)')\n",
    "plt.ylabel('Density')\n",
    "plt.title('Population and Sample Price Distribution (After Log Transformation)')\n",
    "plt.legend()\n",
    "plt.ticklabel_format(style='plain')\n",
    "\n",
    "plt.show()"
   ]
  },
  {
   "cell_type": "markdown",
   "metadata": {},
   "source": [
    "## Is there a significant price difference based on the body types of vehicles?"
   ]
  },
  {
   "cell_type": "code",
   "execution_count": 9,
   "metadata": {},
   "outputs": [
    {
     "name": "stdout",
     "output_type": "stream",
     "text": [
      "Kruskal-Wallis Test Result:\n",
      "H-Statistic: 114.30062398276154\n",
      "p-value: 4.96397179235599e-21\n",
      "At a 99% confidence level, there is a significant price difference between vehicle types (Sedan, SUV, etc.).\n"
     ]
    }
   ],
   "source": [
    "groups = [group[\"display_price\"] for name, group in sample_df.groupby(\"body_type\")]\n",
    "\n",
    "h_statistic, p_value = kruskal(*groups)\n",
    "\n",
    "print(\"Kruskal-Wallis Test Result:\")\n",
    "print(\"H-Statistic:\", h_statistic)\n",
    "print(\"p-value:\", p_value)\n",
    "\n",
    "if p_value < 0.01:\n",
    "    print(\"At a 99% confidence level, there is a significant price difference between vehicle types (Sedan, SUV, etc.).\")\n",
    "else:\n",
    "    print(\"There is no significant price difference between vehicle types (Sedan, SUV, etc.).\")\n"
   ]
  },
  {
   "cell_type": "markdown",
   "metadata": {},
   "source": [
    "## Is there a significant price difference based on the engine types of vehicles?\n"
   ]
  },
  {
   "cell_type": "code",
   "execution_count": 10,
   "metadata": {},
   "outputs": [
    {
     "name": "stdout",
     "output_type": "stream",
     "text": [
      "Kruskal-Wallis Test Result:\n",
      "H-Statistic: 134.22677216849937\n",
      "p-value: 1.6540754153152745e-26\n",
      "There is a significant price difference based on the engine types of vehicles.\n"
     ]
    }
   ],
   "source": [
    "groups = [group[\"display_price\"] for name, group in sample_df.groupby(\"engine_type\")]\n",
    "\n",
    "h_statistic, p_value = kruskal(*groups)\n",
    "\n",
    "print(\"Kruskal-Wallis Test Result:\")\n",
    "print(\"H-Statistic:\", h_statistic)\n",
    "print(\"p-value:\", p_value)\n",
    "\n",
    "if p_value < 0.01:\n",
    "    print(\"There is a significant price difference based on the engine types of vehicles.\")\n",
    "else:\n",
    "    print(\"There is no significant price difference based on the engine types of vehicles.\")"
   ]
  },
  {
   "cell_type": "markdown",
   "metadata": {},
   "source": [
    "## Is there a significant price difference based on the states of the vehicles?\n"
   ]
  },
  {
   "cell_type": "code",
   "execution_count": 11,
   "metadata": {},
   "outputs": [
    {
     "name": "stdout",
     "output_type": "stream",
     "text": [
      "Kruskal-Wallis Test Result:\n",
      "H-Statistic: 44.193407789692706\n",
      "p-value: 0.05870058678152295\n",
      "There is no significant price difference based on the states of the vehicles.\n"
     ]
    }
   ],
   "source": [
    "\n",
    "groups = [group[\"display_price\"] for name, group in sample_df.groupby(\"dealer_state\")]\n",
    "\n",
    "h_statistic, p_value = kruskal(*groups)\n",
    "\n",
    "print(\"Kruskal-Wallis Test Result:\")\n",
    "print(\"H-Statistic:\", h_statistic)\n",
    "print(\"p-value:\", p_value)\n",
    "\n",
    "if p_value < 0.01:\n",
    "    print(\"There is a significant price difference based on the states of the vehicles.\")\n",
    "else:\n",
    "    print(\"There is no significant price difference based on the states of the vehicles.\")\n"
   ]
  },
  {
   "cell_type": "markdown",
   "metadata": {},
   "source": [
    "## Is there a significant price difference based on the interior colors of vehicles?"
   ]
  },
  {
   "cell_type": "code",
   "execution_count": 12,
   "metadata": {},
   "outputs": [
    {
     "name": "stdout",
     "output_type": "stream",
     "text": [
      "Kruskal-Wallis Test Result:\n",
      "H-Statistic: 512.9354246345156\n",
      "p-value: 7.460184478324424e-15\n",
      "There is a significant price difference based on the interior colors of vehicles.\n"
     ]
    }
   ],
   "source": [
    "groups = [group[\"display_price\"] for name, group in sample_df.groupby(\"interior_color\")]\n",
    "\n",
    "h_statistic, p_value = kruskal(*groups)\n",
    "\n",
    "print(\"Kruskal-Wallis Test Result:\")\n",
    "print(\"H-Statistic:\", h_statistic)\n",
    "print(\"p-value:\", p_value)\n",
    "\n",
    "if p_value < 0.01:\n",
    "    print(\"There is a significant price difference based on the interior colors of vehicles.\")\n",
    "else:\n",
    "    print(\"There is no significant price difference based on the interior colors of vehicles.\")\n"
   ]
  },
  {
   "cell_type": "markdown",
   "metadata": {},
   "source": [
    "## Is there a significant price difference based on the transmission types of vehicles?"
   ]
  },
  {
   "cell_type": "code",
   "execution_count": 13,
   "metadata": {},
   "outputs": [
    {
     "name": "stdout",
     "output_type": "stream",
     "text": [
      "Kruskal-Wallis Test Result:\n",
      "H-Statistic: 25.17870017988306\n",
      "p-value: 1.4167495595562402e-05\n",
      "There is a significant price difference based on the transmission types of vehicles.\n"
     ]
    }
   ],
   "source": [
    "groups = [group[\"display_price\"] for name, group in sample_df.groupby(\"transmission\")]\n",
    "\n",
    "h_statistic, p_value = kruskal(*groups)\n",
    "\n",
    "print(\"Kruskal-Wallis Test Result:\")\n",
    "print(\"H-Statistic:\", h_statistic)\n",
    "print(\"p-value:\", p_value)\n",
    "\n",
    "if p_value < 0.01:\n",
    "    print(\"There is a significant price difference based on the transmission types of vehicles.\")\n",
    "else:\n",
    "    print(\"There is no significant price difference based on the transmission types of vehicles.\")"
   ]
  },
  {
   "cell_type": "markdown",
   "metadata": {},
   "source": [
    "## Is there a significant price difference based on the countries of vehicle brands?"
   ]
  },
  {
   "cell_type": "code",
   "execution_count": 14,
   "metadata": {},
   "outputs": [
    {
     "name": "stdout",
     "output_type": "stream",
     "text": [
      "Kruskal-Wallis Test Result:\n",
      "H-Statistic: 105.80634343763562\n",
      "p-value: 1.5374200377191272e-20\n",
      "There is a significant price difference based on the countries of vehicle brands.\n"
     ]
    }
   ],
   "source": [
    "\n",
    "groups = [group[\"display_price\"] for name, group in sample_df.groupby(\"country\")]\n",
    "\n",
    "h_statistic, p_value = kruskal(*groups)\n",
    "\n",
    "print(\"Kruskal-Wallis Test Result:\")\n",
    "print(\"H-Statistic:\", h_statistic)\n",
    "print(\"p-value:\", p_value)\n",
    "\n",
    "if p_value < 0.01:\n",
    "    print(\"There is a significant price difference based on the countries of vehicle brands.\")\n",
    "else:\n",
    "    print(\"There is no significant price difference based on the countries of vehicle brands.\")\n"
   ]
  },
  {
   "cell_type": "markdown",
   "metadata": {},
   "source": [
    "## Average price of the cars based on body types(Population and Sample(n=1000))\n"
   ]
  },
  {
   "cell_type": "code",
   "execution_count": 15,
   "metadata": {},
   "outputs": [
    {
     "data": {
      "image/png": "[encoded data removed]",
      "text/plain": [
       "<Figure size 2000x800 with 2 Axes>"
      ]
     },
     "metadata": {},
     "output_type": "display_data"
    }
   ],
   "source": [
    "vehicle_types = df['body_type'].unique()\n",
    "palette = sns.color_palette(\"hls\", len(vehicle_types))\n",
    "\n",
    "plt.figure(figsize=(20, 8))\n",
    "\n",
    "plt.subplot(1, 2, 1)\n",
    "for i, vehicle_type in enumerate(vehicle_types):\n",
    "    subset = df[df['body_type'] == vehicle_type]\n",
    "    mean_prices = subset.groupby('year')['display_price'].mean()\n",
    "    plt.plot(mean_prices.index, mean_prices.values, label=vehicle_type, color=palette[i], linewidth=2)\n",
    "plt.title('Average Vehicle Prices Time Series (Population)', fontsize=16)\n",
    "plt.xlabel('Year', fontsize=14)\n",
    "plt.ylabel('Average Price', fontsize=14)\n",
    "plt.legend(title='Vehicle Type', loc='upper left', fontsize=12)\n",
    "plt.grid(True)\n",
    "plt.xticks(fontsize=12)\n",
    "plt.yticks(fontsize=12)\n",
    "\n",
    "plt.subplot(1, 2, 2)\n",
    "for i, vehicle_type in enumerate(vehicle_types):\n",
    "    subset = sample_df[sample_df['body_type'] == vehicle_type]\n",
    "    mean_prices = subset.groupby('year')['display_price'].mean()\n",
    "    plt.plot(mean_prices.index, mean_prices.values, label=vehicle_type, color=palette[i], linewidth=2)\n",
    "plt.title('Average Vehicle Prices Time Series (Sample n=1000)', fontsize=16)\n",
    "plt.xlabel('Year', fontsize=14)\n",
    "plt.ylabel('Average Price', fontsize=14)\n",
    "plt.legend(title='Vehicle Type', loc='upper left', fontsize=12)\n",
    "plt.grid(True)\n",
    "plt.xticks(fontsize=12)\n",
    "plt.yticks(fontsize=12)\n",
    "\n",
    "plt.tight_layout()\n",
    "plt.show()\n"
   ]
  },
  {
   "cell_type": "markdown",
   "metadata": {},
   "source": [
    "## Let's Look at the Distribution of some categorical variables in our dataset."
   ]
  },
  {
   "cell_type": "markdown",
   "metadata": {},
   "source": [
    "## Let's take a look at Spearman and Pearson Correlations "
   ]
  },
  {
   "cell_type": "code",
   "execution_count": 16,
   "metadata": {},
   "outputs": [
    {
     "data": {
      "image/png": "[encoded data removed]",
      "text/plain": [
       "<Figure size 2400x1000 with 4 Axes>"
      ]
     },
     "metadata": {},
     "output_type": "display_data"
    }
   ],
   "source": [
    "\n",
    "corr_spearman = df.drop(columns=[\"dealer_zip\", \"model_id\", \"style_id\"]).select_dtypes(include=\"number\").corr(\"spearman\")\n",
    "corr_pearson = df.drop(columns=[\"dealer_zip\", \"model_id\", \"style_id\"]).select_dtypes(include=\"number\").corr(\"pearson\")\n",
    "\n",
    "\n",
    "plt.figure(figsize=(24, 10))\n",
    "\n",
    "plt.subplot(1, 2, 1)  \n",
    "mask = np.triu(np.ones_like(corr_spearman, dtype=bool))\n",
    "sns.heatmap(corr_spearman, annot=True, cmap='Blues', square=True, cbar=True, mask=mask)\n",
    "plt.title('Spearman Correlation Matrix')\n",
    "\n",
    "plt.subplot(1, 2, 2)  \n",
    "mask = np.triu(np.ones_like(corr_pearson, dtype=bool))\n",
    "sns.heatmap(corr_pearson, annot=True, cmap='Greens', square=True, cbar=True, mask=mask)\n",
    "plt.title('Pearson Correlation Matrix')\n",
    "plt.show()"
   ]
  },
  {
   "cell_type": "markdown",
   "metadata": {},
   "source": [
    "## The Pearson Correlation Coefficient is used to measure linear relationships, the Spearman Correlation Coefficient is used to measure both non-linear and linear relationships.\n",
    "\n",
    "## Positive Relationships\n",
    "\n",
    "* There is a Pearson correlation coefficient of +0.93 between Engine Size and Cylinders. This means that as the engine size increases, the number of cylinders also increases.\n",
    "\n",
    "* There is a Spearman correlation coefficient of +0.71 between Display Price and Year. This indicates a non-linear positive relationship, where the price increases as the year progresses (approaching the present).\n",
    "\n",
    "* There is a Spearman correlation coefficient of +0.60 between Total MSRP and Cylinders. This shows a moderate non-linear relationship, where the number of cylinders affects the manufacturer's suggested retail price.\n",
    "\n",
    "* There is a Pearson correlation coefficient of +0.77 between Total MSRP and Display Price. This indicates a moderate-high linear relationship, suggesting that the higher the manufacturer's suggested price, the higher the second-hand listing price.\n",
    "\n",
    "------------------------------------------------------------------------------------------------------------------------\n",
    "\n",
    "##  Negative Relationships\n",
    "\n",
    "* There is a Spearman correlation coefficient of -0.79 between Year and Mileage. In our dataset, as the year increases (newer cars), the mileage decreases.\n",
    "\n",
    "* There is a Spearman correlation coefficient of -0.78 between EPA Combined MPG (miles per gallon) and Cylinders. This means that as the number of cylinders increases, the miles per gallon decrease.\n",
    "\n",
    "* There is a Spearman correlation coefficient of -0.78 between EPA Combined MPG (miles per gallon) and Engine Size. This means that as the engine size increases, the miles per gallon decrease.\n",
    "\n",
    "* There is a Spearman correlation coefficient of -0.71 between Display Price and Mileage. This indicates that as the mileage of the vehicle increases, the price decreases."
   ]
  },
  {
   "cell_type": "markdown",
   "metadata": {},
   "source": [
    "------------------------------------------------------------------------------------------------\n",
    "\n",
    "## I am going to apply segmentation for numerical values in order to enhance our analysis"
   ]
  },
  {
   "cell_type": "code",
   "execution_count": 17,
   "metadata": {},
   "outputs": [],
   "source": [
    "#Segment by year\n",
    "df['vehicle_age'] = 2024 - df['year']\n",
    "age_bins = [-1, 3, 6, 10, float('inf')]\n",
    "age_labels = ['New', 'Recent', 'Old', 'Very Old']\n",
    "df['age_segment'] = pd.cut(df['vehicle_age'], bins=age_bins, labels=age_labels)\n",
    "\n",
    "\n",
    "# Segment by mileage\n",
    "mileage_bins = [0, 20000, 50000, 80000, float('inf')]\n",
    "mileage_labels = ['Low Mileage', 'Medium Mileage', 'High Mileage', 'Very High Mileage']\n",
    "df['mileage_segment'] = pd.cut(df['mileage'], bins=mileage_bins, labels=mileage_labels)\n",
    "\n",
    "#Segment by engine\n",
    "df['engine_segment'] = df['engine_type'] + ' ' + df['engine_size'].astype(str)\n",
    "\n",
    "#Segment by price\n",
    "price_bins = [0, 20000, 40000, 60000, 80000, float('inf')]\n",
    "price_labels = ['0-20k', '20k-40k', '40k-60k', '60k-80k', '80k+']\n",
    "df['price_segment'] = pd.cut(df['display_price'], bins=price_bins, labels=price_labels, right=False)\n"
   ]
  },
  {
   "cell_type": "markdown",
   "metadata": {},
   "source": [
    "# Q/A Part.\n",
    "----------------------------------------"
   ]
  },
  {
   "cell_type": "markdown",
   "metadata": {},
   "source": [
    "## Q1- List the highest and lowest 5 states with highest display_price based on mean\n",
    "\n",
    "* Answer 1.1: WA(Washington) has the highest average price in the United States\n",
    "\n",
    "* Answer 1.2 : MO(Missouri) has the lowest average price in the United States\n",
    "------------------------------------------------------------------------------------------\n",
    "* Insight 1.1 : We see that both groups are using new cars based in our segmentation\n",
    "\n",
    "* Insight 1.2 : We also see that both groups are using mostly SUV's\n"
   ]
  },
  {
   "cell_type": "code",
   "execution_count": 18,
   "metadata": {},
   "outputs": [
    {
     "data": {
      "text/html": [
       "<div>\n",
       "<style scoped>\n",
       "    .dataframe tbody tr th:only-of-type {\n",
       "        vertical-align: middle;\n",
       "    }\n",
       "\n",
       "    .dataframe tbody tr th {\n",
       "        vertical-align: top;\n",
       "    }\n",
       "\n",
       "    .dataframe thead th {\n",
       "        text-align: right;\n",
       "    }\n",
       "</style>\n",
       "<table border=\"1\" class=\"dataframe\">\n",
       "  <thead>\n",
       "    <tr style=\"text-align: right;\">\n",
       "      <th></th>\n",
       "      <th>avg_price</th>\n",
       "      <th>most_common_body_type</th>\n",
       "      <th>most_common_country_of_cars</th>\n",
       "      <th>most_common_brand</th>\n",
       "      <th>most_common_age_segment</th>\n",
       "      <th>vehicle_age_avg</th>\n",
       "    </tr>\n",
       "    <tr>\n",
       "      <th>dealer_state</th>\n",
       "      <th></th>\n",
       "      <th></th>\n",
       "      <th></th>\n",
       "      <th></th>\n",
       "      <th></th>\n",
       "      <th></th>\n",
       "    </tr>\n",
       "  </thead>\n",
       "  <tbody>\n",
       "    <tr>\n",
       "      <th>WA</th>\n",
       "      <td>32749.73</td>\n",
       "      <td>SUV</td>\n",
       "      <td>Germany</td>\n",
       "      <td>BMW</td>\n",
       "      <td>New</td>\n",
       "      <td>3.75</td>\n",
       "    </tr>\n",
       "    <tr>\n",
       "      <th>DE</th>\n",
       "      <td>31790.37</td>\n",
       "      <td>SUV</td>\n",
       "      <td>USA</td>\n",
       "      <td>Jeep</td>\n",
       "      <td>New</td>\n",
       "      <td>5.53</td>\n",
       "    </tr>\n",
       "    <tr>\n",
       "      <th>OR</th>\n",
       "      <td>31001.40</td>\n",
       "      <td>SUV</td>\n",
       "      <td>Germany</td>\n",
       "      <td>Mercedes-Benz</td>\n",
       "      <td>New</td>\n",
       "      <td>4.56</td>\n",
       "    </tr>\n",
       "    <tr>\n",
       "      <th>NY</th>\n",
       "      <td>30048.14</td>\n",
       "      <td>SUV</td>\n",
       "      <td>Japan</td>\n",
       "      <td>Honda</td>\n",
       "      <td>New</td>\n",
       "      <td>4.75</td>\n",
       "    </tr>\n",
       "    <tr>\n",
       "      <th>IA</th>\n",
       "      <td>29879.96</td>\n",
       "      <td>SUV</td>\n",
       "      <td>Germany</td>\n",
       "      <td>BMW</td>\n",
       "      <td>New</td>\n",
       "      <td>5.19</td>\n",
       "    </tr>\n",
       "  </tbody>\n",
       "</table>\n",
       "</div>"
      ],
      "text/plain": [
       "              avg_price most_common_body_type most_common_country_of_cars  \\\n",
       "dealer_state                                                                \n",
       "WA             32749.73                   SUV                     Germany   \n",
       "DE             31790.37                   SUV                         USA   \n",
       "OR             31001.40                   SUV                     Germany   \n",
       "NY             30048.14                   SUV                       Japan   \n",
       "IA             29879.96                   SUV                     Germany   \n",
       "\n",
       "             most_common_brand most_common_age_segment  vehicle_age_avg  \n",
       "dealer_state                                                             \n",
       "WA                         BMW                     New             3.75  \n",
       "DE                        Jeep                     New             5.53  \n",
       "OR               Mercedes-Benz                     New             4.56  \n",
       "NY                       Honda                     New             4.75  \n",
       "IA                         BMW                     New             5.19  "
      ]
     },
     "execution_count": 18,
     "metadata": {},
     "output_type": "execute_result"
    }
   ],
   "source": [
    "top_5_states = df.groupby(\"dealer_state\").filter(lambda x: len(x) >= 100)\\\n",
    "                            .groupby('dealer_state')['display_price'].mean()\\\n",
    "                            .nlargest(5)\n",
    "\n",
    "result_top5 = df[df['dealer_state'].isin(top_5_states.index)]\\\n",
    "            .groupby('dealer_state').agg(avg_price=('display_price', 'mean'), \n",
    "                                         most_common_body_type=('body_type', lambda x: x.value_counts().idxmax()),\n",
    "                                         most_common_country_of_cars=('country', lambda x: x.value_counts().idxmax()),\n",
    "                                         most_common_brand=('make', lambda x: x.value_counts().idxmax()),\n",
    "                                         most_common_age_segment=(\"age_segment\",lambda x: x.value_counts().idxmax()),\n",
    "                                         vehicle_age_avg = (\"vehicle_age\",\"mean\")\n",
    "\n",
    "                                         )\n",
    "\n",
    "result_top5= result_top5.loc[top_5_states.index]\n",
    "result_top5"
   ]
  },
  {
   "cell_type": "code",
   "execution_count": 19,
   "metadata": {},
   "outputs": [
    {
     "data": {
      "text/html": [
       "<div>\n",
       "<style scoped>\n",
       "    .dataframe tbody tr th:only-of-type {\n",
       "        vertical-align: middle;\n",
       "    }\n",
       "\n",
       "    .dataframe tbody tr th {\n",
       "        vertical-align: top;\n",
       "    }\n",
       "\n",
       "    .dataframe thead th {\n",
       "        text-align: right;\n",
       "    }\n",
       "</style>\n",
       "<table border=\"1\" class=\"dataframe\">\n",
       "  <thead>\n",
       "    <tr style=\"text-align: right;\">\n",
       "      <th></th>\n",
       "      <th>avg_price</th>\n",
       "      <th>most_common_body_type</th>\n",
       "      <th>most_common_country_of_cars</th>\n",
       "      <th>most_common_brand</th>\n",
       "      <th>most_common_age_segment</th>\n",
       "      <th>vehicle_age_avg</th>\n",
       "    </tr>\n",
       "    <tr>\n",
       "      <th>dealer_state</th>\n",
       "      <th></th>\n",
       "      <th></th>\n",
       "      <th></th>\n",
       "      <th></th>\n",
       "      <th></th>\n",
       "      <th></th>\n",
       "    </tr>\n",
       "  </thead>\n",
       "  <tbody>\n",
       "    <tr>\n",
       "      <th>MO</th>\n",
       "      <td>18869.25</td>\n",
       "      <td>SUV</td>\n",
       "      <td>South Korea</td>\n",
       "      <td>Hyundai</td>\n",
       "      <td>New</td>\n",
       "      <td>3.11</td>\n",
       "    </tr>\n",
       "    <tr>\n",
       "      <th>LA</th>\n",
       "      <td>20286.45</td>\n",
       "      <td>SUV</td>\n",
       "      <td>South Korea</td>\n",
       "      <td>Hyundai</td>\n",
       "      <td>New</td>\n",
       "      <td>3.00</td>\n",
       "    </tr>\n",
       "    <tr>\n",
       "      <th>CO</th>\n",
       "      <td>22057.72</td>\n",
       "      <td>SUV</td>\n",
       "      <td>USA</td>\n",
       "      <td>Hyundai</td>\n",
       "      <td>New</td>\n",
       "      <td>2.86</td>\n",
       "    </tr>\n",
       "    <tr>\n",
       "      <th>WI</th>\n",
       "      <td>22592.68</td>\n",
       "      <td>SUV</td>\n",
       "      <td>Japan</td>\n",
       "      <td>Honda</td>\n",
       "      <td>New</td>\n",
       "      <td>4.41</td>\n",
       "    </tr>\n",
       "    <tr>\n",
       "      <th>NV</th>\n",
       "      <td>22653.87</td>\n",
       "      <td>SUV</td>\n",
       "      <td>USA</td>\n",
       "      <td>Chrysler</td>\n",
       "      <td>New</td>\n",
       "      <td>3.84</td>\n",
       "    </tr>\n",
       "  </tbody>\n",
       "</table>\n",
       "</div>"
      ],
      "text/plain": [
       "              avg_price most_common_body_type most_common_country_of_cars  \\\n",
       "dealer_state                                                                \n",
       "MO             18869.25                   SUV                 South Korea   \n",
       "LA             20286.45                   SUV                 South Korea   \n",
       "CO             22057.72                   SUV                         USA   \n",
       "WI             22592.68                   SUV                       Japan   \n",
       "NV             22653.87                   SUV                         USA   \n",
       "\n",
       "             most_common_brand most_common_age_segment  vehicle_age_avg  \n",
       "dealer_state                                                             \n",
       "MO                     Hyundai                     New             3.11  \n",
       "LA                     Hyundai                     New             3.00  \n",
       "CO                     Hyundai                     New             2.86  \n",
       "WI                       Honda                     New             4.41  \n",
       "NV                    Chrysler                     New             3.84  "
      ]
     },
     "execution_count": 19,
     "metadata": {},
     "output_type": "execute_result"
    }
   ],
   "source": [
    "bottom_5_states = df.groupby(\"dealer_state\").filter(lambda x: len(x) >= 100)\\\n",
    "                            .groupby('dealer_state')['display_price'].mean()\\\n",
    "                            .nsmallest(5)\n",
    "\n",
    "result_bottom5 = df[df['dealer_state'].isin(bottom_5_states.index)]\\\n",
    "            .groupby('dealer_state').agg(avg_price=('display_price', 'mean'), \n",
    "                                         most_common_body_type=('body_type', lambda x: x.value_counts().idxmax()),\n",
    "                                         most_common_country_of_cars=('country', lambda x: x.value_counts().idxmax()),\n",
    "                                         most_common_brand=('make', lambda x: x.value_counts().idxmax()),\n",
    "                                         most_common_age_segment=(\"age_segment\",lambda x: x.value_counts().idxmax()),\n",
    "                                         vehicle_age_avg = (\"vehicle_age\",\"mean\")\n",
    "                                          )\n",
    "\n",
    "result_bottom5= result_bottom5.loc[bottom_5_states.index]\n",
    "result_bottom5"
   ]
  },
  {
   "cell_type": "markdown",
   "metadata": {},
   "source": [
    "## Q2- List the highest and lowest 5 makes based on mean of display price.\n",
    "\n",
    "* Answer 2.1 : Ferrari has the highest average price in the dataset(Between the makes that occured at least 50 times in the dataset.)\n",
    "\n",
    "* Answer 2.2 : FIAT has the lowest average price in the dataset(Between the makes that occured at least 50 times in the dataset.)\n",
    "\n",
    "------------------------------------------------------------------------------------------------------------------------------------------------------------------------\n",
    "* Insight 2.1 : Both Cheapest and Highest priced cars are from Italy.\n",
    "\n",
    "* Insight 2.2 : While highest price cars are in Low Mileage segment we can't say the same thing for the cars with lower price.\n",
    "\n",
    "* Insight 2.3 : Both group cars are in \"New\" segment of age except(FIAT) \n",
    "\n",
    "* Insight 2.4 : When we look at lowest price cars we see a significant price differences between 2 lowest car brands FIAT and Nissan. FIAT has a price nearly 50% lower and it is located in \"Old\" age_segment. When I see this I got suspicious whether FIAT is exporting their brand to US anymore?"
   ]
  },
  {
   "cell_type": "code",
   "execution_count": 20,
   "metadata": {},
   "outputs": [
    {
     "data": {
      "text/html": [
       "<div>\n",
       "<style scoped>\n",
       "    .dataframe tbody tr th:only-of-type {\n",
       "        vertical-align: middle;\n",
       "    }\n",
       "\n",
       "    .dataframe tbody tr th {\n",
       "        vertical-align: top;\n",
       "    }\n",
       "\n",
       "    .dataframe thead th {\n",
       "        text-align: right;\n",
       "    }\n",
       "</style>\n",
       "<table border=\"1\" class=\"dataframe\">\n",
       "  <thead>\n",
       "    <tr style=\"text-align: right;\">\n",
       "      <th></th>\n",
       "      <th>avg_price</th>\n",
       "      <th>most_common_body_type</th>\n",
       "      <th>country_of_the_brand</th>\n",
       "      <th>most_common_age_segment</th>\n",
       "      <th>most_common_mileage_segment</th>\n",
       "      <th>vehicle_age_avg</th>\n",
       "      <th>most_common_model_of_the_brand</th>\n",
       "    </tr>\n",
       "    <tr>\n",
       "      <th>make</th>\n",
       "      <th></th>\n",
       "      <th></th>\n",
       "      <th></th>\n",
       "      <th></th>\n",
       "      <th></th>\n",
       "      <th></th>\n",
       "      <th></th>\n",
       "    </tr>\n",
       "  </thead>\n",
       "  <tbody>\n",
       "    <tr>\n",
       "      <th>Ferrari</th>\n",
       "      <td>310953.39</td>\n",
       "      <td>Convertible</td>\n",
       "      <td>Italy</td>\n",
       "      <td>New</td>\n",
       "      <td>Low Mileage</td>\n",
       "      <td>7.65</td>\n",
       "      <td>488 Spider</td>\n",
       "    </tr>\n",
       "    <tr>\n",
       "      <th>Lamborghini</th>\n",
       "      <td>260392.33</td>\n",
       "      <td>SUV</td>\n",
       "      <td>Italy</td>\n",
       "      <td>New</td>\n",
       "      <td>Low Mileage</td>\n",
       "      <td>5.03</td>\n",
       "      <td>Urus</td>\n",
       "    </tr>\n",
       "    <tr>\n",
       "      <th>Rolls-Royce</th>\n",
       "      <td>258338.22</td>\n",
       "      <td>Sedan</td>\n",
       "      <td>UK</td>\n",
       "      <td>New</td>\n",
       "      <td>Low Mileage</td>\n",
       "      <td>5.87</td>\n",
       "      <td>Ghost</td>\n",
       "    </tr>\n",
       "    <tr>\n",
       "      <th>McLaren</th>\n",
       "      <td>237857.59</td>\n",
       "      <td>Coupe</td>\n",
       "      <td>UK</td>\n",
       "      <td>Recent</td>\n",
       "      <td>Low Mileage</td>\n",
       "      <td>4.89</td>\n",
       "      <td>720S</td>\n",
       "    </tr>\n",
       "    <tr>\n",
       "      <th>Aston Martin</th>\n",
       "      <td>157376.50</td>\n",
       "      <td>Coupe</td>\n",
       "      <td>UK</td>\n",
       "      <td>New</td>\n",
       "      <td>Low Mileage</td>\n",
       "      <td>5.52</td>\n",
       "      <td>Vantage</td>\n",
       "    </tr>\n",
       "  </tbody>\n",
       "</table>\n",
       "</div>"
      ],
      "text/plain": [
       "              avg_price most_common_body_type country_of_the_brand  \\\n",
       "make                                                                 \n",
       "Ferrari       310953.39           Convertible                Italy   \n",
       "Lamborghini   260392.33                   SUV                Italy   \n",
       "Rolls-Royce   258338.22                 Sedan                   UK   \n",
       "McLaren       237857.59                 Coupe                   UK   \n",
       "Aston Martin  157376.50                 Coupe                   UK   \n",
       "\n",
       "             most_common_age_segment most_common_mileage_segment  \\\n",
       "make                                                               \n",
       "Ferrari                          New                 Low Mileage   \n",
       "Lamborghini                      New                 Low Mileage   \n",
       "Rolls-Royce                      New                 Low Mileage   \n",
       "McLaren                       Recent                 Low Mileage   \n",
       "Aston Martin                     New                 Low Mileage   \n",
       "\n",
       "              vehicle_age_avg most_common_model_of_the_brand  \n",
       "make                                                          \n",
       "Ferrari                  7.65                     488 Spider  \n",
       "Lamborghini              5.03                           Urus  \n",
       "Rolls-Royce              5.87                          Ghost  \n",
       "McLaren                  4.89                           720S  \n",
       "Aston Martin             5.52                        Vantage  "
      ]
     },
     "execution_count": 20,
     "metadata": {},
     "output_type": "execute_result"
    }
   ],
   "source": [
    "top_5_makes = df.groupby(\"make\").filter(lambda x: len(x) >= 50)\\\n",
    "                            .groupby('make')['display_price'].mean()\\\n",
    "                            .nlargest(5)\n",
    "\n",
    "result_top5_makes = df[df['make'].isin(top_5_makes.index)]\\\n",
    "            .groupby('make').agg(avg_price=('display_price', 'mean'), \n",
    "                                         most_common_body_type=('body_type', lambda x: x.value_counts().idxmax()),\n",
    "                                         country_of_the_brand=('country', lambda x: x.value_counts().idxmax()),\n",
    "                                         most_common_age_segment=(\"age_segment\",lambda x: x.value_counts().idxmax()),\n",
    "                                         most_common_mileage_segment=(\"mileage_segment\",lambda x: x.value_counts().idxmax()),\n",
    "                                         vehicle_age_avg = (\"vehicle_age\",\"mean\"),\n",
    "                                                         most_common_model_of_the_brand=('model', lambda x: x.value_counts().idxmax()),\n",
    "\n",
    "                                          )\n",
    "\n",
    "result_top5_makes= result_top5_makes.loc[top_5_makes.index]\n",
    "result_top5_makes"
   ]
  },
  {
   "cell_type": "code",
   "execution_count": 21,
   "metadata": {},
   "outputs": [
    {
     "data": {
      "text/html": [
       "<div>\n",
       "<style scoped>\n",
       "    .dataframe tbody tr th:only-of-type {\n",
       "        vertical-align: middle;\n",
       "    }\n",
       "\n",
       "    .dataframe tbody tr th {\n",
       "        vertical-align: top;\n",
       "    }\n",
       "\n",
       "    .dataframe thead th {\n",
       "        text-align: right;\n",
       "    }\n",
       "</style>\n",
       "<table border=\"1\" class=\"dataframe\">\n",
       "  <thead>\n",
       "    <tr style=\"text-align: right;\">\n",
       "      <th></th>\n",
       "      <th>avg_price</th>\n",
       "      <th>most_common_body_type</th>\n",
       "      <th>country_of_the_brand</th>\n",
       "      <th>most_common_age_segment</th>\n",
       "      <th>most_common_mileage_segment</th>\n",
       "      <th>vehicle_age_avg</th>\n",
       "      <th>most_common_model_of_the_brand</th>\n",
       "    </tr>\n",
       "    <tr>\n",
       "      <th>make</th>\n",
       "      <th></th>\n",
       "      <th></th>\n",
       "      <th></th>\n",
       "      <th></th>\n",
       "      <th></th>\n",
       "      <th></th>\n",
       "      <th></th>\n",
       "    </tr>\n",
       "  </thead>\n",
       "  <tbody>\n",
       "    <tr>\n",
       "      <th>FIAT</th>\n",
       "      <td>12995.09</td>\n",
       "      <td>Hatchback</td>\n",
       "      <td>Italy</td>\n",
       "      <td>Old</td>\n",
       "      <td>High Mileage</td>\n",
       "      <td>8.64</td>\n",
       "      <td>500</td>\n",
       "    </tr>\n",
       "    <tr>\n",
       "      <th>Nissan</th>\n",
       "      <td>18058.23</td>\n",
       "      <td>SUV</td>\n",
       "      <td>Japan</td>\n",
       "      <td>New</td>\n",
       "      <td>Very High Mileage</td>\n",
       "      <td>6.09</td>\n",
       "      <td>Rogue</td>\n",
       "    </tr>\n",
       "    <tr>\n",
       "      <th>Hyundai</th>\n",
       "      <td>18102.66</td>\n",
       "      <td>SUV</td>\n",
       "      <td>South Korea</td>\n",
       "      <td>New</td>\n",
       "      <td>Medium Mileage</td>\n",
       "      <td>5.37</td>\n",
       "      <td>Elantra</td>\n",
       "    </tr>\n",
       "    <tr>\n",
       "      <th>Mitsubishi</th>\n",
       "      <td>18427.26</td>\n",
       "      <td>SUV</td>\n",
       "      <td>Japan</td>\n",
       "      <td>New</td>\n",
       "      <td>High Mileage</td>\n",
       "      <td>4.56</td>\n",
       "      <td>Outlander Sport</td>\n",
       "    </tr>\n",
       "    <tr>\n",
       "      <th>MINI</th>\n",
       "      <td>19200.46</td>\n",
       "      <td>Hatchback</td>\n",
       "      <td>UK</td>\n",
       "      <td>New</td>\n",
       "      <td>Medium Mileage</td>\n",
       "      <td>6.83</td>\n",
       "      <td>Cooper</td>\n",
       "    </tr>\n",
       "  </tbody>\n",
       "</table>\n",
       "</div>"
      ],
      "text/plain": [
       "            avg_price most_common_body_type country_of_the_brand  \\\n",
       "make                                                               \n",
       "FIAT         12995.09             Hatchback                Italy   \n",
       "Nissan       18058.23                   SUV                Japan   \n",
       "Hyundai      18102.66                   SUV          South Korea   \n",
       "Mitsubishi   18427.26                   SUV                Japan   \n",
       "MINI         19200.46             Hatchback                   UK   \n",
       "\n",
       "           most_common_age_segment most_common_mileage_segment  \\\n",
       "make                                                             \n",
       "FIAT                           Old                High Mileage   \n",
       "Nissan                         New           Very High Mileage   \n",
       "Hyundai                        New              Medium Mileage   \n",
       "Mitsubishi                     New                High Mileage   \n",
       "MINI                           New              Medium Mileage   \n",
       "\n",
       "            vehicle_age_avg most_common_model_of_the_brand  \n",
       "make                                                        \n",
       "FIAT                   8.64                            500  \n",
       "Nissan                 6.09                          Rogue  \n",
       "Hyundai                5.37                        Elantra  \n",
       "Mitsubishi             4.56                Outlander Sport  \n",
       "MINI                   6.83                         Cooper  "
      ]
     },
     "execution_count": 21,
     "metadata": {},
     "output_type": "execute_result"
    }
   ],
   "source": [
    "lowest_5_makes = df.groupby(\"make\").filter(lambda x: len(x) >= 50)\\\n",
    "                            .groupby('make')['display_price'].mean()\\\n",
    "                            .nsmallest(5)\n",
    "\n",
    "result_lowest5_makes = df[df['make'].isin(lowest_5_makes.index)]\\\n",
    "            .groupby('make').agg(avg_price=('display_price', 'mean'), \n",
    "                                         most_common_body_type=('body_type', lambda x: x.value_counts().idxmax()),\n",
    "                                         country_of_the_brand=('country', lambda x: x.value_counts().idxmax()),\n",
    "                                         most_common_age_segment=(\"age_segment\",lambda x: x.value_counts().idxmax()),\n",
    "                                         most_common_mileage_segment=(\"mileage_segment\",lambda x: x.value_counts().idxmax()),\n",
    "                                         vehicle_age_avg = (\"vehicle_age\",\"mean\")\n",
    "                                          ,                most_common_model_of_the_brand=('model', lambda x: x.value_counts().idxmax()),\n",
    ")\n",
    "\n",
    "result_lowest5_makes= result_lowest5_makes.loc[lowest_5_makes.index]\n",
    "result_lowest5_makes"
   ]
  },
  {
   "cell_type": "markdown",
   "metadata": {},
   "source": [
    "## Q3.2 Analysis of FIAT data.\n",
    "\n",
    "* FIAT car instances range from 2012 to 2023, indicating that FIAT cars have been present in the US market until 2024.\n",
    "\n",
    "* When examining the prices of FIAT cars, 2016 emerges as a pivotal year. This is because the majority of our cars are from before 2016, and there is a noticeable difference in prices before and after this year.\n",
    "\n",
    "* FIAT cars from \"before 2016\" have an average price of $9,200.\n",
    "\n",
    "* FIAT cars from \"after 2016\" have an average price of $19,100.\n",
    "\n",
    "* Since most of our instances occurred before 2016, our average price tends to be closer to these values. Additionally, FIAT produces low-price cars, which means that higher prices do not significantly impact our mean. This is in contrast to supercar models, where higher prices have a more pronounced effect."
   ]
  },
  {
   "cell_type": "code",
   "execution_count": 22,
   "metadata": {},
   "outputs": [
    {
     "name": "stdout",
     "output_type": "stream",
     "text": [
      "Minimum year of FIAT cars 2012\n",
      "Maximum year of FIAT cars 2023\n"
     ]
    },
    {
     "data": {
      "image/png": "[encoded data removed]",
      "text/plain": [
       "<Figure size 1000x600 with 1 Axes>"
      ]
     },
     "metadata": {},
     "output_type": "display_data"
    }
   ],
   "source": [
    "print(\"Minimum year of FIAT cars\",df[df[\"make\"]==\"FIAT\"][\"year\"].min())\n",
    "print(\"Maximum year of FIAT cars\",df[df[\"make\"]==\"FIAT\"][\"year\"].max())\n",
    "\n",
    "fiat_cars = df[df[\"make\"] == \"FIAT\"]\n",
    "plt.figure(figsize=(10, 6))\n",
    "plt.hist(fiat_cars[\"year\"], bins=range(2012, 2025), edgecolor='black', alpha=0.7)\n",
    "plt.title('Distribution of FIAT Car Years')\n",
    "plt.xlabel('Year')\n",
    "plt.ylabel('Frequency')\n",
    "plt.xticks(range(2012, 2025))\n",
    "plt.grid(axis='y', linestyle='--', alpha=0.7)\n",
    "plt.show()"
   ]
  },
  {
   "cell_type": "code",
   "execution_count": 23,
   "metadata": {},
   "outputs": [
    {
     "data": {
      "image/png": "[encoded data removed]",
      "text/plain": [
       "<Figure size 1000x600 with 1 Axes>"
      ]
     },
     "metadata": {},
     "output_type": "display_data"
    }
   ],
   "source": [
    "average_prices = df[df[\"make\"] == \"FIAT\"].groupby(\"year\")[\"display_price\"].mean()\n",
    "plt.figure(figsize=(10, 6))\n",
    "average_prices.plot(kind='bar', color=['blue' if year < 2016 else 'green' for year in average_prices.index])\n",
    "plt.axvline(x=3.5, color='red', linestyle='--', label='Year 2016')  # Adjusted position for 2016\n",
    "plt.title('Average FIAT Car Prices by Year')\n",
    "plt.xlabel('Year')\n",
    "plt.ylabel('Average Price ($)')\n",
    "plt.legend(['2016'])\n",
    "plt.grid(axis='y', linestyle='--', alpha=0.7)\n",
    "plt.show()"
   ]
  },
  {
   "cell_type": "markdown",
   "metadata": {},
   "source": [
    "## Q3- List the 5 most and least frequent cars and their characteristics.\n",
    "\n",
    "* Answer 3.1 : Honda is the most frequent car in the United States used car Market.\n",
    "\n",
    "* Answer 3.2  : Rivian is the least frequent car in the United States used car Market.\n",
    "--------------------------------------------------------------------------------------------------------------------------\n",
    "* Insight 3.1 : Both groups are in \"New\" age segment in most of their cars in the dataset.\n",
    "\n",
    "* Insight 3.2 : SUV's are the most common body type for most frequent car brands\n",
    "\n",
    "* Insight 3.3 : Most frequent cars are generally in the Very-High Mileage segment While rare cars in Low Mileage segment.\n",
    "\n",
    "* Insight 3.4 : Most frequent cars has significantly much lower prices than the Rare cars.\n",
    "\n"
   ]
  },
  {
   "cell_type": "code",
   "execution_count": 24,
   "metadata": {},
   "outputs": [
    {
     "data": {
      "text/html": [
       "<div>\n",
       "<style scoped>\n",
       "    .dataframe tbody tr th:only-of-type {\n",
       "        vertical-align: middle;\n",
       "    }\n",
       "\n",
       "    .dataframe tbody tr th {\n",
       "        vertical-align: top;\n",
       "    }\n",
       "\n",
       "    .dataframe thead th {\n",
       "        text-align: right;\n",
       "    }\n",
       "</style>\n",
       "<table border=\"1\" class=\"dataframe\">\n",
       "  <thead>\n",
       "    <tr style=\"text-align: right;\">\n",
       "      <th></th>\n",
       "      <th>avg_price</th>\n",
       "      <th>most_common_body_type</th>\n",
       "      <th>country_of_the_brand</th>\n",
       "      <th>most_common_age_segment</th>\n",
       "      <th>most_common_mileage_segment</th>\n",
       "      <th>vehicle_age_avg</th>\n",
       "      <th>most_common_model_of_the_brand</th>\n",
       "    </tr>\n",
       "    <tr>\n",
       "      <th>make</th>\n",
       "      <th></th>\n",
       "      <th></th>\n",
       "      <th></th>\n",
       "      <th></th>\n",
       "      <th></th>\n",
       "      <th></th>\n",
       "      <th></th>\n",
       "    </tr>\n",
       "  </thead>\n",
       "  <tbody>\n",
       "    <tr>\n",
       "      <th>Honda</th>\n",
       "      <td>20098.48</td>\n",
       "      <td>SUV</td>\n",
       "      <td>Japan</td>\n",
       "      <td>New</td>\n",
       "      <td>Very High Mileage</td>\n",
       "      <td>6.58</td>\n",
       "      <td>CR-V</td>\n",
       "    </tr>\n",
       "    <tr>\n",
       "      <th>Ford</th>\n",
       "      <td>27018.47</td>\n",
       "      <td>SUV</td>\n",
       "      <td>USA</td>\n",
       "      <td>New</td>\n",
       "      <td>Very High Mileage</td>\n",
       "      <td>5.58</td>\n",
       "      <td>F-150</td>\n",
       "    </tr>\n",
       "    <tr>\n",
       "      <th>Nissan</th>\n",
       "      <td>18058.23</td>\n",
       "      <td>SUV</td>\n",
       "      <td>Japan</td>\n",
       "      <td>New</td>\n",
       "      <td>Very High Mileage</td>\n",
       "      <td>6.09</td>\n",
       "      <td>Rogue</td>\n",
       "    </tr>\n",
       "    <tr>\n",
       "      <th>Jeep</th>\n",
       "      <td>24911.36</td>\n",
       "      <td>SUV</td>\n",
       "      <td>USA</td>\n",
       "      <td>New</td>\n",
       "      <td>Medium Mileage</td>\n",
       "      <td>5.44</td>\n",
       "      <td>Grand Cherokee</td>\n",
       "    </tr>\n",
       "    <tr>\n",
       "      <th>BMW</th>\n",
       "      <td>34660.77</td>\n",
       "      <td>SUV</td>\n",
       "      <td>Germany</td>\n",
       "      <td>New</td>\n",
       "      <td>Medium Mileage</td>\n",
       "      <td>5.38</td>\n",
       "      <td>3 Series</td>\n",
       "    </tr>\n",
       "  </tbody>\n",
       "</table>\n",
       "</div>"
      ],
      "text/plain": [
       "        avg_price most_common_body_type country_of_the_brand  \\\n",
       "make                                                           \n",
       "Honda    20098.48                   SUV                Japan   \n",
       "Ford     27018.47                   SUV                  USA   \n",
       "Nissan   18058.23                   SUV                Japan   \n",
       "Jeep     24911.36                   SUV                  USA   \n",
       "BMW      34660.77                   SUV              Germany   \n",
       "\n",
       "       most_common_age_segment most_common_mileage_segment  vehicle_age_avg  \\\n",
       "make                                                                          \n",
       "Honda                      New           Very High Mileage             6.58   \n",
       "Ford                       New           Very High Mileage             5.58   \n",
       "Nissan                     New           Very High Mileage             6.09   \n",
       "Jeep                       New              Medium Mileage             5.44   \n",
       "BMW                        New              Medium Mileage             5.38   \n",
       "\n",
       "       most_common_model_of_the_brand  \n",
       "make                                   \n",
       "Honda                            CR-V  \n",
       "Ford                            F-150  \n",
       "Nissan                          Rogue  \n",
       "Jeep                   Grand Cherokee  \n",
       "BMW                          3 Series  "
      ]
     },
     "execution_count": 24,
     "metadata": {},
     "output_type": "execute_result"
    }
   ],
   "source": [
    "top_5_frequent_makes = df['make'].value_counts().nlargest(5).index\n",
    "result_top_5_frequent_makes = df[df['make'].isin(top_5_frequent_makes)]\\\n",
    "            .groupby('make').agg(\n",
    "                avg_price=('display_price', 'mean'), \n",
    "                most_common_body_type=('body_type', lambda x: x.value_counts().idxmax()),\n",
    "                country_of_the_brand=('country', lambda x: x.value_counts().idxmax()),\n",
    "                most_common_age_segment=('age_segment', lambda x: x.value_counts().idxmax()),\n",
    "                most_common_mileage_segment=('mileage_segment', lambda x: x.value_counts().idxmax()),            \n",
    "                vehicle_age_avg=('vehicle_age', 'mean'),\n",
    "                most_common_model_of_the_brand=('model', lambda x: x.value_counts().idxmax()),\n",
    "\n",
    "            )\n",
    "\n",
    "result_top_5_frequent_makes = result_top_5_frequent_makes.loc[top_5_frequent_makes]\n",
    "result_top_5_frequent_makes"
   ]
  },
  {
   "cell_type": "code",
   "execution_count": 25,
   "metadata": {},
   "outputs": [
    {
     "data": {
      "text/html": [
       "<div>\n",
       "<style scoped>\n",
       "    .dataframe tbody tr th:only-of-type {\n",
       "        vertical-align: middle;\n",
       "    }\n",
       "\n",
       "    .dataframe tbody tr th {\n",
       "        vertical-align: top;\n",
       "    }\n",
       "\n",
       "    .dataframe thead th {\n",
       "        text-align: right;\n",
       "    }\n",
       "</style>\n",
       "<table border=\"1\" class=\"dataframe\">\n",
       "  <thead>\n",
       "    <tr style=\"text-align: right;\">\n",
       "      <th></th>\n",
       "      <th>avg_price</th>\n",
       "      <th>most_common_body_type</th>\n",
       "      <th>country_of_the_brand</th>\n",
       "      <th>most_common_age_segment</th>\n",
       "      <th>most_common_mileage_segment</th>\n",
       "      <th>vehicle_age_avg</th>\n",
       "      <th>most_common_model_of_the_brand</th>\n",
       "    </tr>\n",
       "    <tr>\n",
       "      <th>make</th>\n",
       "      <th></th>\n",
       "      <th></th>\n",
       "      <th></th>\n",
       "      <th></th>\n",
       "      <th></th>\n",
       "      <th></th>\n",
       "      <th></th>\n",
       "    </tr>\n",
       "  </thead>\n",
       "  <tbody>\n",
       "    <tr>\n",
       "      <th>Rivian</th>\n",
       "      <td>79006.83</td>\n",
       "      <td>SUV</td>\n",
       "      <td>USA</td>\n",
       "      <td>New</td>\n",
       "      <td>Low Mileage</td>\n",
       "      <td>1.34</td>\n",
       "      <td>R1S</td>\n",
       "    </tr>\n",
       "    <tr>\n",
       "      <th>McLaren</th>\n",
       "      <td>237857.59</td>\n",
       "      <td>Coupe</td>\n",
       "      <td>UK</td>\n",
       "      <td>Recent</td>\n",
       "      <td>Low Mileage</td>\n",
       "      <td>4.89</td>\n",
       "      <td>720S</td>\n",
       "    </tr>\n",
       "    <tr>\n",
       "      <th>Rolls-Royce</th>\n",
       "      <td>258338.22</td>\n",
       "      <td>Sedan</td>\n",
       "      <td>UK</td>\n",
       "      <td>New</td>\n",
       "      <td>Low Mileage</td>\n",
       "      <td>5.87</td>\n",
       "      <td>Ghost</td>\n",
       "    </tr>\n",
       "    <tr>\n",
       "      <th>Lamborghini</th>\n",
       "      <td>260392.33</td>\n",
       "      <td>SUV</td>\n",
       "      <td>Italy</td>\n",
       "      <td>New</td>\n",
       "      <td>Low Mileage</td>\n",
       "      <td>5.03</td>\n",
       "      <td>Urus</td>\n",
       "    </tr>\n",
       "    <tr>\n",
       "      <th>Aston Martin</th>\n",
       "      <td>157376.50</td>\n",
       "      <td>Coupe</td>\n",
       "      <td>UK</td>\n",
       "      <td>New</td>\n",
       "      <td>Low Mileage</td>\n",
       "      <td>5.52</td>\n",
       "      <td>Vantage</td>\n",
       "    </tr>\n",
       "  </tbody>\n",
       "</table>\n",
       "</div>"
      ],
      "text/plain": [
       "              avg_price most_common_body_type country_of_the_brand  \\\n",
       "make                                                                 \n",
       "Rivian         79006.83                   SUV                  USA   \n",
       "McLaren       237857.59                 Coupe                   UK   \n",
       "Rolls-Royce   258338.22                 Sedan                   UK   \n",
       "Lamborghini   260392.33                   SUV                Italy   \n",
       "Aston Martin  157376.50                 Coupe                   UK   \n",
       "\n",
       "             most_common_age_segment most_common_mileage_segment  \\\n",
       "make                                                               \n",
       "Rivian                           New                 Low Mileage   \n",
       "McLaren                       Recent                 Low Mileage   \n",
       "Rolls-Royce                      New                 Low Mileage   \n",
       "Lamborghini                      New                 Low Mileage   \n",
       "Aston Martin                     New                 Low Mileage   \n",
       "\n",
       "              vehicle_age_avg most_common_model_of_the_brand  \n",
       "make                                                          \n",
       "Rivian                   1.34                            R1S  \n",
       "McLaren                  4.89                           720S  \n",
       "Rolls-Royce              5.87                          Ghost  \n",
       "Lamborghini              5.03                           Urus  \n",
       "Aston Martin             5.52                        Vantage  "
      ]
     },
     "execution_count": 25,
     "metadata": {},
     "output_type": "execute_result"
    }
   ],
   "source": [
    "lowest_5_frequent_makes = df['make'].value_counts().nsmallest(5).index\n",
    "\n",
    "result_lowest_5_frequent_makes = df[df['make'].isin(lowest_5_frequent_makes)]\\\n",
    "            .groupby('make').agg(\n",
    "                avg_price=('display_price', 'mean'), \n",
    "                most_common_body_type=('body_type', lambda x: x.value_counts().idxmax()),\n",
    "                country_of_the_brand=('country', lambda x: x.value_counts().idxmax()),\n",
    "                most_common_age_segment=('age_segment', lambda x: x.value_counts().idxmax()),\n",
    "                most_common_mileage_segment=('mileage_segment', lambda x: x.value_counts().idxmax()),\n",
    "                vehicle_age_avg=('vehicle_age', 'mean'),\n",
    "                most_common_model_of_the_brand=('model', lambda x: x.value_counts().idxmax()),\n",
    "\n",
    "            )\n",
    "\n",
    "result_lowest_5_frequent_makes = result_lowest_5_frequent_makes.loc[lowest_5_frequent_makes]\n",
    "result_lowest_5_frequent_makes"
   ]
  },
  {
   "cell_type": "markdown",
   "metadata": {},
   "source": [
    "## Q4- List the top and lowest 5 brand characteristics based on mean mileage of the cars.\n",
    "\n",
    "* Insight 4.1 : Hummer takes the lead in terms of average mileage and average age.\n",
    "\n",
    "* Insight 4.2 : Ferrari and McLaren has the lowest average mileage in the dataset.\n",
    "\n",
    "* Insight 4.3 : Cars with higher average mileage tends to be in a low price segment. In the other hand low mileage puts the cars in to higher price segments based on the data we have.\n",
    "\n",
    "* Insight 4.4 : Vehicles with higher average mileage tends to be SUV."
   ]
  },
  {
   "cell_type": "code",
   "execution_count": 26,
   "metadata": {},
   "outputs": [
    {
     "name": "stdout",
     "output_type": "stream",
     "text": [
      "Top 5 makes based on mean of mileage:\n"
     ]
    },
    {
     "data": {
      "text/html": [
       "<div>\n",
       "<style scoped>\n",
       "    .dataframe tbody tr th:only-of-type {\n",
       "        vertical-align: middle;\n",
       "    }\n",
       "\n",
       "    .dataframe tbody tr th {\n",
       "        vertical-align: top;\n",
       "    }\n",
       "\n",
       "    .dataframe thead th {\n",
       "        text-align: right;\n",
       "    }\n",
       "</style>\n",
       "<table border=\"1\" class=\"dataframe\">\n",
       "  <thead>\n",
       "    <tr style=\"text-align: right;\">\n",
       "      <th></th>\n",
       "      <th>avg_mileage</th>\n",
       "      <th>most_common_body_type</th>\n",
       "      <th>country_of_the_brand</th>\n",
       "      <th>most_common_price_segment</th>\n",
       "      <th>most_common_age_segment</th>\n",
       "      <th>vehicle_age_avg</th>\n",
       "      <th>most_common_model_of_the_brand</th>\n",
       "    </tr>\n",
       "    <tr>\n",
       "      <th>make</th>\n",
       "      <th></th>\n",
       "      <th></th>\n",
       "      <th></th>\n",
       "      <th></th>\n",
       "      <th></th>\n",
       "      <th></th>\n",
       "      <th></th>\n",
       "    </tr>\n",
       "  </thead>\n",
       "  <tbody>\n",
       "    <tr>\n",
       "      <th>HUMMER</th>\n",
       "      <td>128507.03</td>\n",
       "      <td>SUV</td>\n",
       "      <td>USA</td>\n",
       "      <td>0-20k</td>\n",
       "      <td>Very Old</td>\n",
       "      <td>17.75</td>\n",
       "      <td>H3</td>\n",
       "    </tr>\n",
       "    <tr>\n",
       "      <th>Toyota</th>\n",
       "      <td>87309.94</td>\n",
       "      <td>SUV</td>\n",
       "      <td>Japan</td>\n",
       "      <td>0-20k</td>\n",
       "      <td>Very Old</td>\n",
       "      <td>8.33</td>\n",
       "      <td>RAV4</td>\n",
       "    </tr>\n",
       "    <tr>\n",
       "      <th>Chrysler</th>\n",
       "      <td>75302.58</td>\n",
       "      <td>Minivan</td>\n",
       "      <td>USA</td>\n",
       "      <td>20k-40k</td>\n",
       "      <td>New</td>\n",
       "      <td>6.35</td>\n",
       "      <td>Pacifica</td>\n",
       "    </tr>\n",
       "    <tr>\n",
       "      <th>Chevrolet</th>\n",
       "      <td>73592.81</td>\n",
       "      <td>SUV</td>\n",
       "      <td>USA</td>\n",
       "      <td>0-20k</td>\n",
       "      <td>Recent</td>\n",
       "      <td>6.90</td>\n",
       "      <td>Silverado 1500</td>\n",
       "    </tr>\n",
       "    <tr>\n",
       "      <th>Honda</th>\n",
       "      <td>67648.14</td>\n",
       "      <td>SUV</td>\n",
       "      <td>Japan</td>\n",
       "      <td>0-20k</td>\n",
       "      <td>New</td>\n",
       "      <td>6.58</td>\n",
       "      <td>CR-V</td>\n",
       "    </tr>\n",
       "  </tbody>\n",
       "</table>\n",
       "</div>"
      ],
      "text/plain": [
       "           avg_mileage most_common_body_type country_of_the_brand  \\\n",
       "make                                                                \n",
       "HUMMER       128507.03                   SUV                  USA   \n",
       "Toyota        87309.94                   SUV                Japan   \n",
       "Chrysler      75302.58               Minivan                  USA   \n",
       "Chevrolet     73592.81                   SUV                  USA   \n",
       "Honda         67648.14                   SUV                Japan   \n",
       "\n",
       "          most_common_price_segment most_common_age_segment  vehicle_age_avg  \\\n",
       "make                                                                           \n",
       "HUMMER                        0-20k                Very Old            17.75   \n",
       "Toyota                        0-20k                Very Old             8.33   \n",
       "Chrysler                    20k-40k                     New             6.35   \n",
       "Chevrolet                     0-20k                  Recent             6.90   \n",
       "Honda                         0-20k                     New             6.58   \n",
       "\n",
       "          most_common_model_of_the_brand  \n",
       "make                                      \n",
       "HUMMER                                H3  \n",
       "Toyota                              RAV4  \n",
       "Chrysler                        Pacifica  \n",
       "Chevrolet                 Silverado 1500  \n",
       "Honda                               CR-V  "
      ]
     },
     "execution_count": 26,
     "metadata": {},
     "output_type": "execute_result"
    }
   ],
   "source": [
    "top_5_makes_mileage = df.groupby('make').filter(lambda x: len(x) >= 50)\\\n",
    "                            .groupby('make')['mileage'].mean()\\\n",
    "                            .nlargest(5)\n",
    "\n",
    "result_top5_makes_mileage = df[df['make'].isin(top_5_makes_mileage.index)]\\\n",
    "            .groupby('make').agg(\n",
    "                avg_mileage=('mileage', 'mean'), \n",
    "                most_common_body_type=('body_type', lambda x: x.value_counts().idxmax()),\n",
    "                country_of_the_brand=('country', lambda x: x.value_counts().idxmax()),\n",
    "                most_common_price_segment=('price_segment', lambda x: x.value_counts().idxmax()),\n",
    "                most_common_age_segment=('age_segment', lambda x: x.value_counts().idxmax()),\n",
    "                vehicle_age_avg=('vehicle_age', 'mean'),\n",
    "                                most_common_model_of_the_brand=('model', lambda x: x.value_counts().idxmax()),\n",
    "\n",
    "            )\n",
    "\n",
    "result_top5_makes_mileage = result_top5_makes_mileage.loc[top_5_makes_mileage.index]\n",
    "\n",
    "print(\"Top 5 makes based on mean of mileage:\")\n",
    "result_top5_makes_mileage\n",
    "\n"
   ]
  },
  {
   "cell_type": "code",
   "execution_count": 27,
   "metadata": {},
   "outputs": [
    {
     "name": "stdout",
     "output_type": "stream",
     "text": [
      "\\Lowest 5 makes based on mean of mileage:\n"
     ]
    },
    {
     "data": {
      "text/html": [
       "<div>\n",
       "<style scoped>\n",
       "    .dataframe tbody tr th:only-of-type {\n",
       "        vertical-align: middle;\n",
       "    }\n",
       "\n",
       "    .dataframe tbody tr th {\n",
       "        vertical-align: top;\n",
       "    }\n",
       "\n",
       "    .dataframe thead th {\n",
       "        text-align: right;\n",
       "    }\n",
       "</style>\n",
       "<table border=\"1\" class=\"dataframe\">\n",
       "  <thead>\n",
       "    <tr style=\"text-align: right;\">\n",
       "      <th></th>\n",
       "      <th>avg_mileage</th>\n",
       "      <th>most_common_body_type</th>\n",
       "      <th>most_common_price_segment</th>\n",
       "      <th>country_of_the_brand</th>\n",
       "      <th>most_common_age_segment</th>\n",
       "      <th>vehicle_age_avg</th>\n",
       "      <th>most_common_model_of_the_brand</th>\n",
       "    </tr>\n",
       "    <tr>\n",
       "      <th>make</th>\n",
       "      <th></th>\n",
       "      <th></th>\n",
       "      <th></th>\n",
       "      <th></th>\n",
       "      <th></th>\n",
       "      <th></th>\n",
       "      <th></th>\n",
       "    </tr>\n",
       "  </thead>\n",
       "  <tbody>\n",
       "    <tr>\n",
       "      <th>Ferrari</th>\n",
       "      <td>9827.66</td>\n",
       "      <td>Convertible</td>\n",
       "      <td>80k+</td>\n",
       "      <td>Italy</td>\n",
       "      <td>New</td>\n",
       "      <td>7.65</td>\n",
       "      <td>488 Spider</td>\n",
       "    </tr>\n",
       "    <tr>\n",
       "      <th>McLaren</th>\n",
       "      <td>9884.38</td>\n",
       "      <td>Coupe</td>\n",
       "      <td>80k+</td>\n",
       "      <td>UK</td>\n",
       "      <td>Recent</td>\n",
       "      <td>4.89</td>\n",
       "      <td>720S</td>\n",
       "    </tr>\n",
       "    <tr>\n",
       "      <th>Aston Martin</th>\n",
       "      <td>12910.59</td>\n",
       "      <td>Coupe</td>\n",
       "      <td>80k+</td>\n",
       "      <td>UK</td>\n",
       "      <td>New</td>\n",
       "      <td>5.52</td>\n",
       "      <td>Vantage</td>\n",
       "    </tr>\n",
       "    <tr>\n",
       "      <th>Lamborghini</th>\n",
       "      <td>13848.24</td>\n",
       "      <td>SUV</td>\n",
       "      <td>80k+</td>\n",
       "      <td>Italy</td>\n",
       "      <td>New</td>\n",
       "      <td>5.03</td>\n",
       "      <td>Urus</td>\n",
       "    </tr>\n",
       "    <tr>\n",
       "      <th>Rolls-Royce</th>\n",
       "      <td>21054.18</td>\n",
       "      <td>Sedan</td>\n",
       "      <td>80k+</td>\n",
       "      <td>UK</td>\n",
       "      <td>New</td>\n",
       "      <td>5.87</td>\n",
       "      <td>Ghost</td>\n",
       "    </tr>\n",
       "  </tbody>\n",
       "</table>\n",
       "</div>"
      ],
      "text/plain": [
       "              avg_mileage most_common_body_type most_common_price_segment  \\\n",
       "make                                                                        \n",
       "Ferrari           9827.66           Convertible                      80k+   \n",
       "McLaren           9884.38                 Coupe                      80k+   \n",
       "Aston Martin     12910.59                 Coupe                      80k+   \n",
       "Lamborghini      13848.24                   SUV                      80k+   \n",
       "Rolls-Royce      21054.18                 Sedan                      80k+   \n",
       "\n",
       "             country_of_the_brand most_common_age_segment  vehicle_age_avg  \\\n",
       "make                                                                         \n",
       "Ferrari                     Italy                     New             7.65   \n",
       "McLaren                        UK                  Recent             4.89   \n",
       "Aston Martin                   UK                     New             5.52   \n",
       "Lamborghini                 Italy                     New             5.03   \n",
       "Rolls-Royce                    UK                     New             5.87   \n",
       "\n",
       "             most_common_model_of_the_brand  \n",
       "make                                         \n",
       "Ferrari                          488 Spider  \n",
       "McLaren                                720S  \n",
       "Aston Martin                        Vantage  \n",
       "Lamborghini                            Urus  \n",
       "Rolls-Royce                           Ghost  "
      ]
     },
     "execution_count": 27,
     "metadata": {},
     "output_type": "execute_result"
    }
   ],
   "source": [
    "bottom_5_makes_mileage = df.groupby('make').filter(lambda x: len(x) >= 50)\\\n",
    "                            .groupby('make')['mileage'].mean()\\\n",
    "                            .nsmallest(5)\n",
    "\n",
    "result_bottom5_makes_mileage = df[df['make'].isin(bottom_5_makes_mileage.index)]\\\n",
    "            .groupby('make').agg(\n",
    "                avg_mileage=('mileage', 'mean'), \n",
    "                most_common_body_type=('body_type', lambda x: x.value_counts().idxmax()),\n",
    "                most_common_price_segment=('price_segment', lambda x: x.value_counts().idxmax()),\n",
    "                country_of_the_brand=('country', lambda x: x.value_counts().idxmax()),\n",
    "                most_common_age_segment=('age_segment', lambda x: x.value_counts().idxmax()),\n",
    "                vehicle_age_avg=('vehicle_age', 'mean'),\n",
    "                                most_common_model_of_the_brand=('model', lambda x: x.value_counts().idxmax()),\n",
    "\n",
    "            )\n",
    "\n",
    "result_bottom5_makes_mileage = result_bottom5_makes_mileage.loc[bottom_5_makes_mileage.index]\n",
    "\n",
    "print(\"\\Lowest 5 makes based on mean of mileage:\")\n",
    "result_bottom5_makes_mileage\n"
   ]
  },
  {
   "cell_type": "markdown",
   "metadata": {},
   "source": [
    "## Q5- List the all of the 8 engine type characteristics based on mean display price of the cars.\n",
    "\n",
    "* Insight 5.1 : Electric-included cars are generally in the low and medium mileage segments. We might say that owners of these cars aim to sell them at a high value while their batteries are still in good condition.\n",
    "\n",
    "* Insight 5.2  Electric-included cars are generally more expensive than non-electric cars(except diesel.)"
   ]
  },
  {
   "cell_type": "code",
   "execution_count": 28,
   "metadata": {},
   "outputs": [
    {
     "data": {
      "text/html": [
       "<div>\n",
       "<style scoped>\n",
       "    .dataframe tbody tr th:only-of-type {\n",
       "        vertical-align: middle;\n",
       "    }\n",
       "\n",
       "    .dataframe tbody tr th {\n",
       "        vertical-align: top;\n",
       "    }\n",
       "\n",
       "    .dataframe thead th {\n",
       "        text-align: right;\n",
       "    }\n",
       "</style>\n",
       "<table border=\"1\" class=\"dataframe\">\n",
       "  <thead>\n",
       "    <tr style=\"text-align: right;\">\n",
       "      <th></th>\n",
       "      <th>avg_price</th>\n",
       "      <th>most_common_body_type</th>\n",
       "      <th>most_common_brand_and_model</th>\n",
       "      <th>most_common_price_segment</th>\n",
       "      <th>most_common_age_segment</th>\n",
       "      <th>vehicle_age_avg</th>\n",
       "      <th>vehicle_avg_mileage</th>\n",
       "      <th>vehicle_mileage_segment</th>\n",
       "    </tr>\n",
       "    <tr>\n",
       "      <th>engine_type</th>\n",
       "      <th></th>\n",
       "      <th></th>\n",
       "      <th></th>\n",
       "      <th></th>\n",
       "      <th></th>\n",
       "      <th></th>\n",
       "      <th></th>\n",
       "      <th></th>\n",
       "    </tr>\n",
       "  </thead>\n",
       "  <tbody>\n",
       "    <tr>\n",
       "      <th>mild hybrid</th>\n",
       "      <td>50595.78</td>\n",
       "      <td>SUV</td>\n",
       "      <td>Ram|1500</td>\n",
       "      <td>40k-60k</td>\n",
       "      <td>New</td>\n",
       "      <td>2.24</td>\n",
       "      <td>24908.54</td>\n",
       "      <td>Low Mileage</td>\n",
       "    </tr>\n",
       "    <tr>\n",
       "      <th>diesel</th>\n",
       "      <td>44624.14</td>\n",
       "      <td>Pickup</td>\n",
       "      <td>Ram|2500</td>\n",
       "      <td>40k-60k</td>\n",
       "      <td>New</td>\n",
       "      <td>5.37</td>\n",
       "      <td>65943.31</td>\n",
       "      <td>Very High Mileage</td>\n",
       "    </tr>\n",
       "    <tr>\n",
       "      <th>electric</th>\n",
       "      <td>38928.37</td>\n",
       "      <td>SUV</td>\n",
       "      <td>Tesla|Model 3</td>\n",
       "      <td>20k-40k</td>\n",
       "      <td>New</td>\n",
       "      <td>3.06</td>\n",
       "      <td>26355.26</td>\n",
       "      <td>Low Mileage</td>\n",
       "    </tr>\n",
       "    <tr>\n",
       "      <th>plug-in hybrid</th>\n",
       "      <td>37231.18</td>\n",
       "      <td>SUV</td>\n",
       "      <td>Chrysler|Pacifica</td>\n",
       "      <td>20k-40k</td>\n",
       "      <td>New</td>\n",
       "      <td>3.31</td>\n",
       "      <td>34924.57</td>\n",
       "      <td>Low Mileage</td>\n",
       "    </tr>\n",
       "    <tr>\n",
       "      <th>hybrid</th>\n",
       "      <td>25354.30</td>\n",
       "      <td>SUV</td>\n",
       "      <td>Toyota|Prius</td>\n",
       "      <td>20k-40k</td>\n",
       "      <td>New</td>\n",
       "      <td>5.52</td>\n",
       "      <td>58395.94</td>\n",
       "      <td>Medium Mileage</td>\n",
       "    </tr>\n",
       "    <tr>\n",
       "      <th>gas</th>\n",
       "      <td>25125.52</td>\n",
       "      <td>SUV</td>\n",
       "      <td>Honda|CR-V</td>\n",
       "      <td>20k-40k</td>\n",
       "      <td>New</td>\n",
       "      <td>5.80</td>\n",
       "      <td>58722.94</td>\n",
       "      <td>Medium Mileage</td>\n",
       "    </tr>\n",
       "    <tr>\n",
       "      <th>flex-fuel (FFV)</th>\n",
       "      <td>19490.58</td>\n",
       "      <td>SUV</td>\n",
       "      <td>Jeep|Grand Cherokee</td>\n",
       "      <td>0-20k</td>\n",
       "      <td>Old</td>\n",
       "      <td>8.86</td>\n",
       "      <td>100061.93</td>\n",
       "      <td>Very High Mileage</td>\n",
       "    </tr>\n",
       "    <tr>\n",
       "      <th>natural gas (CNG)</th>\n",
       "      <td>16086.07</td>\n",
       "      <td>Full Size Van</td>\n",
       "      <td>Chevrolet|Express Cargo</td>\n",
       "      <td>0-20k</td>\n",
       "      <td>Very Old</td>\n",
       "      <td>10.87</td>\n",
       "      <td>52250.07</td>\n",
       "      <td>Medium Mileage</td>\n",
       "    </tr>\n",
       "  </tbody>\n",
       "</table>\n",
       "</div>"
      ],
      "text/plain": [
       "                   avg_price most_common_body_type  \\\n",
       "engine_type                                          \n",
       "mild hybrid         50595.78                   SUV   \n",
       "diesel              44624.14                Pickup   \n",
       "electric            38928.37                   SUV   \n",
       "plug-in hybrid      37231.18                   SUV   \n",
       "hybrid              25354.30                   SUV   \n",
       "gas                 25125.52                   SUV   \n",
       "flex-fuel (FFV)     19490.58                   SUV   \n",
       "natural gas (CNG)   16086.07         Full Size Van   \n",
       "\n",
       "                  most_common_brand_and_model most_common_price_segment  \\\n",
       "engine_type                                                               \n",
       "mild hybrid                          Ram|1500                   40k-60k   \n",
       "diesel                               Ram|2500                   40k-60k   \n",
       "electric                        Tesla|Model 3                   20k-40k   \n",
       "plug-in hybrid              Chrysler|Pacifica                   20k-40k   \n",
       "hybrid                           Toyota|Prius                   20k-40k   \n",
       "gas                                Honda|CR-V                   20k-40k   \n",
       "flex-fuel (FFV)           Jeep|Grand Cherokee                     0-20k   \n",
       "natural gas (CNG)     Chevrolet|Express Cargo                     0-20k   \n",
       "\n",
       "                  most_common_age_segment  vehicle_age_avg  \\\n",
       "engine_type                                                  \n",
       "mild hybrid                           New             2.24   \n",
       "diesel                                New             5.37   \n",
       "electric                              New             3.06   \n",
       "plug-in hybrid                        New             3.31   \n",
       "hybrid                                New             5.52   \n",
       "gas                                   New             5.80   \n",
       "flex-fuel (FFV)                       Old             8.86   \n",
       "natural gas (CNG)                Very Old            10.87   \n",
       "\n",
       "                   vehicle_avg_mileage vehicle_mileage_segment  \n",
       "engine_type                                                     \n",
       "mild hybrid                   24908.54             Low Mileage  \n",
       "diesel                        65943.31       Very High Mileage  \n",
       "electric                      26355.26             Low Mileage  \n",
       "plug-in hybrid                34924.57             Low Mileage  \n",
       "hybrid                        58395.94          Medium Mileage  \n",
       "gas                           58722.94          Medium Mileage  \n",
       "flex-fuel (FFV)              100061.93       Very High Mileage  \n",
       "natural gas (CNG)             52250.07          Medium Mileage  "
      ]
     },
     "execution_count": 28,
     "metadata": {},
     "output_type": "execute_result"
    }
   ],
   "source": [
    "top_5_makes_engine_type = df.groupby('engine_type').filter(lambda x: len(x) >= 5)\\\n",
    "                            .groupby('engine_type')['display_price'].mean()\\\n",
    "                            .nlargest(8)\n",
    "\n",
    "result_top5_makes_engine_type = df[df['engine_type'].isin(top_5_makes_engine_type.index)]\\\n",
    "            .groupby('engine_type').agg(\n",
    "                avg_price=('display_price', 'mean'), \n",
    "                most_common_body_type=('body_type', lambda x: x.value_counts().idxmax()),\n",
    "                most_common_brand_and_model=('make_model', lambda x: x.value_counts().idxmax()),\n",
    "                most_common_price_segment=('price_segment', lambda x: x.value_counts().idxmax()),\n",
    "                most_common_age_segment=('age_segment', lambda x: x.value_counts().idxmax()),\n",
    "                vehicle_age_avg=('vehicle_age', 'mean'),\n",
    "                vehicle_avg_mileage=(\"mileage\",'mean'),\n",
    "                vehicle_mileage_segment=(\"mileage_segment\",lambda x: x.value_counts().idxmax())\n",
    "            )\n",
    "\n",
    "result_top5_makes_engine_type = result_top5_makes_engine_type.loc[top_5_makes_engine_type.index]\n",
    "\n",
    "result_top5_makes_engine_type\n",
    "\n"
   ]
  },
  {
   "cell_type": "markdown",
   "metadata": {},
   "source": [
    "## Q6- List the all of the body types with its characteristics based on mean display price of the cars.\n",
    "\n",
    "* Insight 6.1 : We see that Coupe Body Type takes the lead in terms of average Price, and Most Common brand is BMW in this group. Also, In terms of average mileage coupe cars has the lowest mean mileage.\n",
    "\n",
    "* Insight 6.2 : Station wagon and Hatchbacks has the lowest average price.\n",
    "\n",
    "* Insight 6.3 :  Hyundai and BMW is the most common brand for 4 Body types(2 for each brand.)\n",
    "\n",
    "* Insight 6.4 :While Coupé and Convertible are the most expensive body types, they fall into the old and very old age segments. This raises the question of how these cars can remain expensive despite their age. The explanation lies in the limited manufacturing of Supercars and Luxury cars, leading owners to keep them in garages or drive them sparingly. The rarity of these cars maintains their value over time"
   ]
  },
  {
   "cell_type": "code",
   "execution_count": 29,
   "metadata": {},
   "outputs": [
    {
     "name": "stdout",
     "output_type": "stream",
     "text": [
      "Top 5 body types based on mean of mileage and price:\n"
     ]
    },
    {
     "data": {
      "text/html": [
       "<div>\n",
       "<style scoped>\n",
       "    .dataframe tbody tr th:only-of-type {\n",
       "        vertical-align: middle;\n",
       "    }\n",
       "\n",
       "    .dataframe tbody tr th {\n",
       "        vertical-align: top;\n",
       "    }\n",
       "\n",
       "    .dataframe thead th {\n",
       "        text-align: right;\n",
       "    }\n",
       "</style>\n",
       "<table border=\"1\" class=\"dataframe\">\n",
       "  <thead>\n",
       "    <tr style=\"text-align: right;\">\n",
       "      <th></th>\n",
       "      <th>avg_price</th>\n",
       "      <th>most_common_brand</th>\n",
       "      <th>most_common_age_segment</th>\n",
       "      <th>avg_mileage</th>\n",
       "      <th>most_common_mileage_segment</th>\n",
       "    </tr>\n",
       "    <tr>\n",
       "      <th>body_type</th>\n",
       "      <th></th>\n",
       "      <th></th>\n",
       "      <th></th>\n",
       "      <th></th>\n",
       "      <th></th>\n",
       "    </tr>\n",
       "  </thead>\n",
       "  <tbody>\n",
       "    <tr>\n",
       "      <th>Coupe</th>\n",
       "      <td>49141.90</td>\n",
       "      <td>BMW</td>\n",
       "      <td>Old</td>\n",
       "      <td>49790.77</td>\n",
       "      <td>Low Mileage</td>\n",
       "    </tr>\n",
       "    <tr>\n",
       "      <th>Convertible</th>\n",
       "      <td>41565.64</td>\n",
       "      <td>BMW</td>\n",
       "      <td>Very Old</td>\n",
       "      <td>51277.67</td>\n",
       "      <td>Medium Mileage</td>\n",
       "    </tr>\n",
       "    <tr>\n",
       "      <th>Pickup</th>\n",
       "      <td>33214.57</td>\n",
       "      <td>Ram</td>\n",
       "      <td>New</td>\n",
       "      <td>64387.86</td>\n",
       "      <td>Very High Mileage</td>\n",
       "    </tr>\n",
       "    <tr>\n",
       "      <th>Full Size Van</th>\n",
       "      <td>32396.01</td>\n",
       "      <td>Ford</td>\n",
       "      <td>New</td>\n",
       "      <td>66106.60</td>\n",
       "      <td>Very High Mileage</td>\n",
       "    </tr>\n",
       "    <tr>\n",
       "      <th>SUV</th>\n",
       "      <td>27528.94</td>\n",
       "      <td>Jeep</td>\n",
       "      <td>New</td>\n",
       "      <td>53354.47</td>\n",
       "      <td>Medium Mileage</td>\n",
       "    </tr>\n",
       "    <tr>\n",
       "      <th>Sedan</th>\n",
       "      <td>21540.24</td>\n",
       "      <td>Hyundai</td>\n",
       "      <td>New</td>\n",
       "      <td>62233.62</td>\n",
       "      <td>Very High Mileage</td>\n",
       "    </tr>\n",
       "    <tr>\n",
       "      <th>Minivan</th>\n",
       "      <td>20786.43</td>\n",
       "      <td>Chrysler</td>\n",
       "      <td>New</td>\n",
       "      <td>81977.02</td>\n",
       "      <td>Very High Mileage</td>\n",
       "    </tr>\n",
       "    <tr>\n",
       "      <th>Hatchback</th>\n",
       "      <td>17491.93</td>\n",
       "      <td>Hyundai</td>\n",
       "      <td>New</td>\n",
       "      <td>60953.01</td>\n",
       "      <td>Very High Mileage</td>\n",
       "    </tr>\n",
       "    <tr>\n",
       "      <th>Station Wagon</th>\n",
       "      <td>17355.18</td>\n",
       "      <td>Kia</td>\n",
       "      <td>Old</td>\n",
       "      <td>72223.88</td>\n",
       "      <td>Very High Mileage</td>\n",
       "    </tr>\n",
       "  </tbody>\n",
       "</table>\n",
       "</div>"
      ],
      "text/plain": [
       "               avg_price most_common_brand most_common_age_segment  \\\n",
       "body_type                                                            \n",
       "Coupe           49141.90               BMW                     Old   \n",
       "Convertible     41565.64               BMW                Very Old   \n",
       "Pickup          33214.57               Ram                     New   \n",
       "Full Size Van   32396.01              Ford                     New   \n",
       "SUV             27528.94              Jeep                     New   \n",
       "Sedan           21540.24           Hyundai                     New   \n",
       "Minivan         20786.43          Chrysler                     New   \n",
       "Hatchback       17491.93           Hyundai                     New   \n",
       "Station Wagon   17355.18               Kia                     Old   \n",
       "\n",
       "               avg_mileage most_common_mileage_segment  \n",
       "body_type                                               \n",
       "Coupe             49790.77                 Low Mileage  \n",
       "Convertible       51277.67              Medium Mileage  \n",
       "Pickup            64387.86           Very High Mileage  \n",
       "Full Size Van     66106.60           Very High Mileage  \n",
       "SUV               53354.47              Medium Mileage  \n",
       "Sedan             62233.62           Very High Mileage  \n",
       "Minivan           81977.02           Very High Mileage  \n",
       "Hatchback         60953.01           Very High Mileage  \n",
       "Station Wagon     72223.88           Very High Mileage  "
      ]
     },
     "execution_count": 29,
     "metadata": {},
     "output_type": "execute_result"
    }
   ],
   "source": [
    "top_body_type_price = df.groupby('body_type').filter(lambda x: len(x) >= 1)\\\n",
    "                            .groupby('body_type')['display_price'].mean()\\\n",
    "                            .nlargest(15)\n",
    "\n",
    "result_top_body_type_price = df[df['body_type'].isin(top_body_type_price.index)]\\\n",
    "            .groupby('body_type').agg(\n",
    "                avg_price=('display_price', 'mean'), \n",
    "                most_common_brand=('make', lambda x: x.value_counts().idxmax()),\n",
    "                most_common_age_segment=('age_segment',lambda x: x.value_counts().idxmax()),\n",
    "                avg_mileage=(\"mileage\",\"mean\"),\n",
    "                most_common_mileage_segment=(\"mileage_segment\",lambda x: x.value_counts().idxmax())\n",
    "\n",
    "            )\n",
    "\n",
    "result_top_body_type_price = result_top_body_type_price.loc[top_body_type_price.index]\n",
    "\n",
    "print(\"Top 5 body types based on mean of mileage and price:\")\n",
    "result_top_body_type_price\n",
    "\n"
   ]
  },
  {
   "cell_type": "markdown",
   "metadata": {},
   "source": [
    "## Q7- List the Mean,Median Price of the cars. "
   ]
  },
  {
   "cell_type": "code",
   "execution_count": 30,
   "metadata": {},
   "outputs": [
    {
     "name": "stdout",
     "output_type": "stream",
     "text": [
      "Mean Display Price of the Cars -->   26955.176543100122\n",
      "Median Display Price of the Cars -->   22888.0\n"
     ]
    }
   ],
   "source": [
    "print(\"Mean Display Price of the Cars -->  \" ,df[\"display_price\"].mean())\n",
    "print(\"Median Display Price of the Cars -->  \" ,df[\"display_price\"].median())"
   ]
  },
  {
   "cell_type": "markdown",
   "metadata": {},
   "source": [
    "## Q8- List the cars with Maximum and Minimum prices with its characteristics.\n",
    "\n",
    "* Mclaren Senna is the most expensive car in the dataset with the price tag of $1,117,000.00\n",
    "\n",
    "* Infiniti q50 is the cheapest car in the dataset is INFINITI Q50 with the price tag of 1125$\n"
   ]
  },
  {
   "cell_type": "code",
   "execution_count": 31,
   "metadata": {},
   "outputs": [
    {
     "data": {
      "text/html": [
       "<div>\n",
       "<style scoped>\n",
       "    .dataframe tbody tr th:only-of-type {\n",
       "        vertical-align: middle;\n",
       "    }\n",
       "\n",
       "    .dataframe tbody tr th {\n",
       "        vertical-align: top;\n",
       "    }\n",
       "\n",
       "    .dataframe thead th {\n",
       "        text-align: right;\n",
       "    }\n",
       "</style>\n",
       "<table border=\"1\" class=\"dataframe\">\n",
       "  <thead>\n",
       "    <tr style=\"text-align: right;\">\n",
       "      <th></th>\n",
       "      <th>stock_number</th>\n",
       "      <th>type</th>\n",
       "      <th>seller_comments</th>\n",
       "      <th>dealer_address</th>\n",
       "      <th>dealer_city</th>\n",
       "      <th>dealer_state</th>\n",
       "      <th>dealer_zip</th>\n",
       "      <th>dealer_name</th>\n",
       "      <th>mileage</th>\n",
       "      <th>exterior_color</th>\n",
       "      <th>interior_color</th>\n",
       "      <th>drive_train</th>\n",
       "      <th>cylinders</th>\n",
       "      <th>engine_size</th>\n",
       "      <th>engine_type</th>\n",
       "      <th>fuel_type</th>\n",
       "      <th>transmission</th>\n",
       "      <th>style</th>\n",
       "      <th>year</th>\n",
       "      <th>epa_combined_mpg</th>\n",
       "      <th>epa_city_mpg</th>\n",
       "      <th>epa_highway_mpg</th>\n",
       "      <th>base_msrp</th>\n",
       "      <th>total_msrp</th>\n",
       "      <th>display_price</th>\n",
       "      <th>make_model</th>\n",
       "      <th>model_id</th>\n",
       "      <th>trim</th>\n",
       "      <th>style_id</th>\n",
       "      <th>style_description</th>\n",
       "      <th>sub_models</th>\n",
       "      <th>body_type</th>\n",
       "      <th>vehicle_style</th>\n",
       "      <th>oem_model_code</th>\n",
       "      <th>make</th>\n",
       "      <th>model</th>\n",
       "      <th>country</th>\n",
       "      <th>vehicle_age</th>\n",
       "      <th>age_segment</th>\n",
       "      <th>mileage_segment</th>\n",
       "      <th>engine_segment</th>\n",
       "      <th>price_segment</th>\n",
       "    </tr>\n",
       "  </thead>\n",
       "  <tbody>\n",
       "    <tr>\n",
       "      <th>4648</th>\n",
       "      <td>KW800320</td>\n",
       "      <td>CPO</td>\n",
       "      <td>McLaren Certified! Clean Carfax! Bespoke Optio...</td>\n",
       "      <td>1631 West Chester Pike</td>\n",
       "      <td>West Chester</td>\n",
       "      <td>PA</td>\n",
       "      <td>19382</td>\n",
       "      <td>McLaren Philadelphia</td>\n",
       "      <td>4953.00</td>\n",
       "      <td>NaN</td>\n",
       "      <td>NaN</td>\n",
       "      <td>rear wheel drive</td>\n",
       "      <td>8.00</td>\n",
       "      <td>4.00</td>\n",
       "      <td>gas</td>\n",
       "      <td>premium unleaded (required)</td>\n",
       "      <td>Automated Manual</td>\n",
       "      <td>2dr Coupe (4.0L 8cyl Turbo 7AM)</td>\n",
       "      <td>2019</td>\n",
       "      <td>16.00</td>\n",
       "      <td>14.00</td>\n",
       "      <td>18.00</td>\n",
       "      <td>958966.00</td>\n",
       "      <td>963966.00</td>\n",
       "      <td>1170000.00</td>\n",
       "      <td>McLaren|Senna</td>\n",
       "      <td>401854935</td>\n",
       "      <td>Base</td>\n",
       "      <td>401854939.00</td>\n",
       "      <td>2dr Coupe (4.0L 8cyl Turbo 7AM)</td>\n",
       "      <td>Senna Coupe</td>\n",
       "      <td>Coupe</td>\n",
       "      <td>Coupe</td>\n",
       "      <td>NaN</td>\n",
       "      <td>McLaren</td>\n",
       "      <td>Senna</td>\n",
       "      <td>UK</td>\n",
       "      <td>5</td>\n",
       "      <td>Recent</td>\n",
       "      <td>Low Mileage</td>\n",
       "      <td>gas 4.0</td>\n",
       "      <td>80k+</td>\n",
       "    </tr>\n",
       "  </tbody>\n",
       "</table>\n",
       "</div>"
      ],
      "text/plain": [
       "     stock_number type                                    seller_comments  \\\n",
       "4648     KW800320  CPO  McLaren Certified! Clean Carfax! Bespoke Optio...   \n",
       "\n",
       "              dealer_address   dealer_city dealer_state  dealer_zip  \\\n",
       "4648  1631 West Chester Pike  West Chester           PA       19382   \n",
       "\n",
       "               dealer_name  mileage exterior_color interior_color  \\\n",
       "4648  McLaren Philadelphia  4953.00            NaN            NaN   \n",
       "\n",
       "           drive_train  cylinders  engine_size engine_type  \\\n",
       "4648  rear wheel drive       8.00         4.00         gas   \n",
       "\n",
       "                        fuel_type      transmission  \\\n",
       "4648  premium unleaded (required)  Automated Manual   \n",
       "\n",
       "                                style  year  epa_combined_mpg  epa_city_mpg  \\\n",
       "4648  2dr Coupe (4.0L 8cyl Turbo 7AM)  2019             16.00         14.00   \n",
       "\n",
       "      epa_highway_mpg  base_msrp  total_msrp  display_price     make_model  \\\n",
       "4648            18.00  958966.00   963966.00     1170000.00  McLaren|Senna   \n",
       "\n",
       "       model_id  trim     style_id                style_description  \\\n",
       "4648  401854935  Base 401854939.00  2dr Coupe (4.0L 8cyl Turbo 7AM)   \n",
       "\n",
       "       sub_models body_type vehicle_style oem_model_code     make  model  \\\n",
       "4648  Senna Coupe     Coupe         Coupe            NaN  McLaren  Senna   \n",
       "\n",
       "     country  vehicle_age age_segment mileage_segment engine_segment  \\\n",
       "4648      UK            5      Recent     Low Mileage        gas 4.0   \n",
       "\n",
       "     price_segment  \n",
       "4648          80k+  "
      ]
     },
     "execution_count": 31,
     "metadata": {},
     "output_type": "execute_result"
    }
   ],
   "source": [
    "df[df['display_price'] == df['display_price'].max()]"
   ]
  },
  {
   "cell_type": "code",
   "execution_count": 32,
   "metadata": {},
   "outputs": [
    {
     "data": {
      "text/html": [
       "<div>\n",
       "<style scoped>\n",
       "    .dataframe tbody tr th:only-of-type {\n",
       "        vertical-align: middle;\n",
       "    }\n",
       "\n",
       "    .dataframe tbody tr th {\n",
       "        vertical-align: top;\n",
       "    }\n",
       "\n",
       "    .dataframe thead th {\n",
       "        text-align: right;\n",
       "    }\n",
       "</style>\n",
       "<table border=\"1\" class=\"dataframe\">\n",
       "  <thead>\n",
       "    <tr style=\"text-align: right;\">\n",
       "      <th></th>\n",
       "      <th>stock_number</th>\n",
       "      <th>type</th>\n",
       "      <th>seller_comments</th>\n",
       "      <th>dealer_address</th>\n",
       "      <th>dealer_city</th>\n",
       "      <th>dealer_state</th>\n",
       "      <th>dealer_zip</th>\n",
       "      <th>dealer_name</th>\n",
       "      <th>mileage</th>\n",
       "      <th>exterior_color</th>\n",
       "      <th>interior_color</th>\n",
       "      <th>drive_train</th>\n",
       "      <th>cylinders</th>\n",
       "      <th>engine_size</th>\n",
       "      <th>engine_type</th>\n",
       "      <th>fuel_type</th>\n",
       "      <th>transmission</th>\n",
       "      <th>style</th>\n",
       "      <th>year</th>\n",
       "      <th>epa_combined_mpg</th>\n",
       "      <th>epa_city_mpg</th>\n",
       "      <th>epa_highway_mpg</th>\n",
       "      <th>base_msrp</th>\n",
       "      <th>total_msrp</th>\n",
       "      <th>display_price</th>\n",
       "      <th>make_model</th>\n",
       "      <th>model_id</th>\n",
       "      <th>trim</th>\n",
       "      <th>style_id</th>\n",
       "      <th>style_description</th>\n",
       "      <th>sub_models</th>\n",
       "      <th>body_type</th>\n",
       "      <th>vehicle_style</th>\n",
       "      <th>oem_model_code</th>\n",
       "      <th>make</th>\n",
       "      <th>model</th>\n",
       "      <th>country</th>\n",
       "      <th>vehicle_age</th>\n",
       "      <th>age_segment</th>\n",
       "      <th>mileage_segment</th>\n",
       "      <th>engine_segment</th>\n",
       "      <th>price_segment</th>\n",
       "    </tr>\n",
       "  </thead>\n",
       "  <tbody>\n",
       "    <tr>\n",
       "      <th>23335</th>\n",
       "      <td>C24JOLL9</td>\n",
       "      <td>USED</td>\n",
       "      <td>NaN</td>\n",
       "      <td>251 S Main St</td>\n",
       "      <td>East Windsor</td>\n",
       "      <td>CT</td>\n",
       "      <td>6088</td>\n",
       "      <td>Better Buys Auto</td>\n",
       "      <td>69800.00</td>\n",
       "      <td>Graphite Shadow</td>\n",
       "      <td>Graphite premium leather</td>\n",
       "      <td>all wheel drive</td>\n",
       "      <td>6.00</td>\n",
       "      <td>3.00</td>\n",
       "      <td>gas</td>\n",
       "      <td>premium unleaded (required)</td>\n",
       "      <td>Automatic</td>\n",
       "      <td>RED SPORT 400 4dr Sedan AWD (3.0L 6cyl Turbo 7A)</td>\n",
       "      <td>2018</td>\n",
       "      <td>22.00</td>\n",
       "      <td>19.00</td>\n",
       "      <td>26.00</td>\n",
       "      <td>53000.00</td>\n",
       "      <td>57335.00</td>\n",
       "      <td>1225.00</td>\n",
       "      <td>INFINITI|Q50</td>\n",
       "      <td>401725849</td>\n",
       "      <td>RED SPORT 400</td>\n",
       "      <td>401725852.00</td>\n",
       "      <td>RED SPORT 400 4dr Sedan AWD (3.0L 6cyl Turbo 7A)</td>\n",
       "      <td>Q50 Sedan, Q50 RED SPORT 400</td>\n",
       "      <td>Sedan</td>\n",
       "      <td>Sedan</td>\n",
       "      <td>91618</td>\n",
       "      <td>INFINITI</td>\n",
       "      <td>Q50</td>\n",
       "      <td>Japan</td>\n",
       "      <td>6</td>\n",
       "      <td>Recent</td>\n",
       "      <td>High Mileage</td>\n",
       "      <td>gas 3.0</td>\n",
       "      <td>0-20k</td>\n",
       "    </tr>\n",
       "  </tbody>\n",
       "</table>\n",
       "</div>"
      ],
      "text/plain": [
       "      stock_number  type seller_comments dealer_address   dealer_city  \\\n",
       "23335     C24JOLL9  USED             NaN  251 S Main St  East Windsor   \n",
       "\n",
       "      dealer_state  dealer_zip       dealer_name  mileage   exterior_color  \\\n",
       "23335           CT        6088  Better Buys Auto 69800.00  Graphite Shadow   \n",
       "\n",
       "                 interior_color      drive_train  cylinders  engine_size  \\\n",
       "23335  Graphite premium leather  all wheel drive       6.00         3.00   \n",
       "\n",
       "      engine_type                    fuel_type transmission  \\\n",
       "23335         gas  premium unleaded (required)    Automatic   \n",
       "\n",
       "                                                  style  year  \\\n",
       "23335  RED SPORT 400 4dr Sedan AWD (3.0L 6cyl Turbo 7A)  2018   \n",
       "\n",
       "       epa_combined_mpg  epa_city_mpg  epa_highway_mpg  base_msrp  total_msrp  \\\n",
       "23335             22.00         19.00            26.00   53000.00    57335.00   \n",
       "\n",
       "       display_price    make_model   model_id           trim     style_id  \\\n",
       "23335        1225.00  INFINITI|Q50  401725849  RED SPORT 400 401725852.00   \n",
       "\n",
       "                                      style_description  \\\n",
       "23335  RED SPORT 400 4dr Sedan AWD (3.0L 6cyl Turbo 7A)   \n",
       "\n",
       "                         sub_models body_type vehicle_style oem_model_code  \\\n",
       "23335  Q50 Sedan, Q50 RED SPORT 400     Sedan         Sedan          91618   \n",
       "\n",
       "           make model country  vehicle_age age_segment mileage_segment  \\\n",
       "23335  INFINITI   Q50   Japan            6      Recent    High Mileage   \n",
       "\n",
       "      engine_segment price_segment  \n",
       "23335        gas 3.0         0-20k  "
      ]
     },
     "execution_count": 32,
     "metadata": {},
     "output_type": "execute_result"
    }
   ],
   "source": [
    "df[df['display_price'] == df['display_price'].min()]"
   ]
  },
  {
   "cell_type": "markdown",
   "metadata": {},
   "source": [
    "## Q8 - Visualize and Interpret the Mean and Median of Car Display Prices by Country\n",
    "\n",
    "* Insight 8.1: When we look at both graphs, we see huge differences. For example, when Italian cars have a Median price of 30k, in terms of Mean we see 72k. This can be caused by the fact that there are 3 Supercar brands in Italy, which can cause our mean to rise. For this reason, it's better to look at the median or use metrics based on country characteristics. On the other hand, in other countries, mean and median display prices follow similar prices with small differences.\n",
    "\n",
    "* Insight 8.2 South Korea and Japan has the lowest display prices on both metrics.\n"
   ]
  },
  {
   "cell_type": "code",
   "execution_count": 33,
   "metadata": {},
   "outputs": [
    {
     "data": {
      "application/vnd.plotly.v1+json": {
       "config": {
        "plotlyServerURL": "https://plot.ly"
       },
       "data": [
        {
         "alignmentgroup": "True",
         "hovertemplate": "Median Display Price=%{x}<br>Country=%{y}<extra></extra>",
         "legendgroup": "",
         "marker": {
          "color": "rgb(229, 134, 6)",
          "pattern": {
           "shape": ""
          }
         },
         "name": "",
         "offsetgroup": "",
         "orientation": "h",
         "showlegend": false,
         "textposition": "auto",
         "type": "bar",
         "x": [
          31990,
          29998,
          29995,
          28991,
          24500,
          20500,
          18037
         ],
         "xaxis": "x",
         "y": [
          "Sweden",
          "UK",
          "Italy",
          "Germany",
          "USA",
          "Japan",
          "South Korea"
         ],
         "yaxis": "y"
        },
        {
         "alignmentgroup": "True",
         "hovertemplate": "Mean Display Price=%{x}<br>Country=%{y}<extra></extra>",
         "legendgroup": "",
         "marker": {
          "color": "#3366CC",
          "pattern": {
           "shape": ""
          }
         },
         "name": "",
         "offsetgroup": "",
         "orientation": "h",
         "showlegend": false,
         "textposition": "auto",
         "type": "bar",
         "x": [
          72762.74546222035,
          45730.61591778793,
          35060.04004125848,
          30852.10407461954,
          27079.724869958583,
          21456.20670799666,
          19709.64584727134
         ],
         "xaxis": "x2",
         "y": [
          "Italy",
          "UK",
          "Germany",
          "Sweden",
          "USA",
          "Japan",
          "South Korea"
         ],
         "yaxis": "y2"
        }
       ],
       "layout": {
        "annotations": [
         {
          "font": {
           "size": 16
          },
          "showarrow": false,
          "text": "Median Display Price",
          "x": 0.225,
          "xanchor": "center",
          "xref": "paper",
          "y": 1,
          "yanchor": "bottom",
          "yref": "paper"
         },
         {
          "font": {
           "size": 16
          },
          "showarrow": false,
          "text": "Mean Display Price",
          "x": 0.775,
          "xanchor": "center",
          "xref": "paper",
          "y": 1,
          "yanchor": "bottom",
          "yref": "paper"
         },
         {
          "showarrow": false,
          "text": "Median Price: 31,990",
          "x": 31990,
          "xanchor": "left",
          "xref": "x",
          "y": "Sweden",
          "yanchor": "middle",
          "yref": "y"
         },
         {
          "showarrow": false,
          "text": "Median Price: 29,998",
          "x": 29998,
          "xanchor": "left",
          "xref": "x",
          "y": "UK",
          "yanchor": "middle",
          "yref": "y"
         },
         {
          "showarrow": false,
          "text": "Median Price: 29,995",
          "x": 29995,
          "xanchor": "left",
          "xref": "x",
          "y": "Italy",
          "yanchor": "middle",
          "yref": "y"
         },
         {
          "showarrow": false,
          "text": "Median Price: 28,991",
          "x": 28991,
          "xanchor": "left",
          "xref": "x",
          "y": "Germany",
          "yanchor": "middle",
          "yref": "y"
         },
         {
          "showarrow": false,
          "text": "Median Price: 24,500",
          "x": 24500,
          "xanchor": "left",
          "xref": "x",
          "y": "USA",
          "yanchor": "middle",
          "yref": "y"
         },
         {
          "showarrow": false,
          "text": "Median Price: 20,500",
          "x": 20500,
          "xanchor": "left",
          "xref": "x",
          "y": "Japan",
          "yanchor": "middle",
          "yref": "y"
         },
         {
          "showarrow": false,
          "text": "Median Price: 18,037",
          "x": 18037,
          "xanchor": "left",
          "xref": "x",
          "y": "South Korea",
          "yanchor": "middle",
          "yref": "y"
         },
         {
          "showarrow": false,
          "text": "Mean Price: 72,763",
          "x": 72762.74546222035,
          "xanchor": "left",
          "xref": "x2",
          "y": "Italy",
          "yanchor": "middle",
          "yref": "y2"
         },
         {
          "showarrow": false,
          "text": "Mean Price: 45,731",
          "x": 45730.61591778793,
          "xanchor": "left",
          "xref": "x2",
          "y": "UK",
          "yanchor": "middle",
          "yref": "y2"
         },
         {
          "showarrow": false,
          "text": "Mean Price: 35,060",
          "x": 35060.04004125848,
          "xanchor": "left",
          "xref": "x2",
          "y": "Germany",
          "yanchor": "middle",
          "yref": "y2"
         },
         {
          "showarrow": false,
          "text": "Mean Price: 30,852",
          "x": 30852.10407461954,
          "xanchor": "left",
          "xref": "x2",
          "y": "Sweden",
          "yanchor": "middle",
          "yref": "y2"
         },
         {
          "showarrow": false,
          "text": "Mean Price: 27,080",
          "x": 27079.724869958583,
          "xanchor": "left",
          "xref": "x2",
          "y": "USA",
          "yanchor": "middle",
          "yref": "y2"
         },
         {
          "showarrow": false,
          "text": "Mean Price: 21,456",
          "x": 21456.20670799666,
          "xanchor": "left",
          "xref": "x2",
          "y": "Japan",
          "yanchor": "middle",
          "yref": "y2"
         },
         {
          "showarrow": false,
          "text": "Mean Price: 19,710",
          "x": 19709.64584727134,
          "xanchor": "left",
          "xref": "x2",
          "y": "South Korea",
          "yanchor": "middle",
          "yref": "y2"
         }
        ],
        "showlegend": false,
        "template": {
         "data": {
          "bar": [
           {
            "error_x": {
             "color": "#2a3f5f"
            },
            "error_y": {
             "color": "#2a3f5f"
            },
            "marker": {
             "line": {
              "color": "#E5ECF6",
              "width": 0.5
             },
             "pattern": {
              "fillmode": "overlay",
              "size": 10,
              "solidity": 0.2
             }
            },
            "type": "bar"
           }
          ],
          "barpolar": [
           {
            "marker": {
             "line": {
              "color": "#E5ECF6",
              "width": 0.5
             },
             "pattern": {
              "fillmode": "overlay",
              "size": 10,
              "solidity": 0.2
             }
            },
            "type": "barpolar"
           }
          ],
          "carpet": [
           {
            "aaxis": {
             "endlinecolor": "#2a3f5f",
             "gridcolor": "white",
             "linecolor": "white",
             "minorgridcolor": "white",
             "startlinecolor": "#2a3f5f"
            },
            "baxis": {
             "endlinecolor": "#2a3f5f",
             "gridcolor": "white",
             "linecolor": "white",
             "minorgridcolor": "white",
             "startlinecolor": "#2a3f5f"
            },
            "type": "carpet"
           }
          ],
          "choropleth": [
           {
            "colorbar": {
             "outlinewidth": 0,
             "ticks": ""
            },
            "type": "choropleth"
           }
          ],
          "contour": [
           {
            "colorbar": {
             "outlinewidth": 0,
             "ticks": ""
            },
            "colorscale": [
             [
              0,
              "#0d0887"
             ],
             [
              0.1111111111111111,
              "#46039f"
             ],
             [
              0.2222222222222222,
              "#7201a8"
             ],
             [
              0.3333333333333333,
              "#9c179e"
             ],
             [
              0.4444444444444444,
              "#bd3786"
             ],
             [
              0.5555555555555556,
              "#d8576b"
             ],
             [
              0.6666666666666666,
              "#ed7953"
             ],
             [
              0.7777777777777778,
              "#fb9f3a"
             ],
             [
              0.8888888888888888,
              "#fdca26"
             ],
             [
              1,
              "#f0f921"
             ]
            ],
            "type": "contour"
           }
          ],
          "contourcarpet": [
           {
            "colorbar": {
             "outlinewidth": 0,
             "ticks": ""
            },
            "type": "contourcarpet"
           }
          ],
          "heatmap": [
           {
            "colorbar": {
             "outlinewidth": 0,
             "ticks": ""
            },
            "colorscale": [
             [
              0,
              "#0d0887"
             ],
             [
              0.1111111111111111,
              "#46039f"
             ],
             [
              0.2222222222222222,
              "#7201a8"
             ],
             [
              0.3333333333333333,
              "#9c179e"
             ],
             [
              0.4444444444444444,
              "#bd3786"
             ],
             [
              0.5555555555555556,
              "#d8576b"
             ],
             [
              0.6666666666666666,
              "#ed7953"
             ],
             [
              0.7777777777777778,
              "#fb9f3a"
             ],
             [
              0.8888888888888888,
              "#fdca26"
             ],
             [
              1,
              "#f0f921"
             ]
            ],
            "type": "heatmap"
           }
          ],
          "heatmapgl": [
           {
            "colorbar": {
             "outlinewidth": 0,
             "ticks": ""
            },
            "colorscale": [
             [
              0,
              "#0d0887"
             ],
             [
              0.1111111111111111,
              "#46039f"
             ],
             [
              0.2222222222222222,
              "#7201a8"
             ],
             [
              0.3333333333333333,
              "#9c179e"
             ],
             [
              0.4444444444444444,
              "#bd3786"
             ],
             [
              0.5555555555555556,
              "#d8576b"
             ],
             [
              0.6666666666666666,
              "#ed7953"
             ],
             [
              0.7777777777777778,
              "#fb9f3a"
             ],
             [
              0.8888888888888888,
              "#fdca26"
             ],
             [
              1,
              "#f0f921"
             ]
            ],
            "type": "heatmapgl"
           }
          ],
          "histogram": [
           {
            "marker": {
             "pattern": {
              "fillmode": "overlay",
              "size": 10,
              "solidity": 0.2
             }
            },
            "type": "histogram"
           }
          ],
          "histogram2d": [
           {
            "colorbar": {
             "outlinewidth": 0,
             "ticks": ""
            },
            "colorscale": [
             [
              0,
              "#0d0887"
             ],
             [
              0.1111111111111111,
              "#46039f"
             ],
             [
              0.2222222222222222,
              "#7201a8"
             ],
             [
              0.3333333333333333,
              "#9c179e"
             ],
             [
              0.4444444444444444,
              "#bd3786"
             ],
             [
              0.5555555555555556,
              "#d8576b"
             ],
             [
              0.6666666666666666,
              "#ed7953"
             ],
             [
              0.7777777777777778,
              "#fb9f3a"
             ],
             [
              0.8888888888888888,
              "#fdca26"
             ],
             [
              1,
              "#f0f921"
             ]
            ],
            "type": "histogram2d"
           }
          ],
          "histogram2dcontour": [
           {
            "colorbar": {
             "outlinewidth": 0,
             "ticks": ""
            },
            "colorscale": [
             [
              0,
              "#0d0887"
             ],
             [
              0.1111111111111111,
              "#46039f"
             ],
             [
              0.2222222222222222,
              "#7201a8"
             ],
             [
              0.3333333333333333,
              "#9c179e"
             ],
             [
              0.4444444444444444,
              "#bd3786"
             ],
             [
              0.5555555555555556,
              "#d8576b"
             ],
             [
              0.6666666666666666,
              "#ed7953"
             ],
             [
              0.7777777777777778,
              "#fb9f3a"
             ],
             [
              0.8888888888888888,
              "#fdca26"
             ],
             [
              1,
              "#f0f921"
             ]
            ],
            "type": "histogram2dcontour"
           }
          ],
          "mesh3d": [
           {
            "colorbar": {
             "outlinewidth": 0,
             "ticks": ""
            },
            "type": "mesh3d"
           }
          ],
          "parcoords": [
           {
            "line": {
             "colorbar": {
              "outlinewidth": 0,
              "ticks": ""
             }
            },
            "type": "parcoords"
           }
          ],
          "pie": [
           {
            "automargin": true,
            "type": "pie"
           }
          ],
          "scatter": [
           {
            "fillpattern": {
             "fillmode": "overlay",
             "size": 10,
             "solidity": 0.2
            },
            "type": "scatter"
           }
          ],
          "scatter3d": [
           {
            "line": {
             "colorbar": {
              "outlinewidth": 0,
              "ticks": ""
             }
            },
            "marker": {
             "colorbar": {
              "outlinewidth": 0,
              "ticks": ""
             }
            },
            "type": "scatter3d"
           }
          ],
          "scattercarpet": [
           {
            "marker": {
             "colorbar": {
              "outlinewidth": 0,
              "ticks": ""
             }
            },
            "type": "scattercarpet"
           }
          ],
          "scattergeo": [
           {
            "marker": {
             "colorbar": {
              "outlinewidth": 0,
              "ticks": ""
             }
            },
            "type": "scattergeo"
           }
          ],
          "scattergl": [
           {
            "marker": {
             "colorbar": {
              "outlinewidth": 0,
              "ticks": ""
             }
            },
            "type": "scattergl"
           }
          ],
          "scattermapbox": [
           {
            "marker": {
             "colorbar": {
              "outlinewidth": 0,
              "ticks": ""
             }
            },
            "type": "scattermapbox"
           }
          ],
          "scatterpolar": [
           {
            "marker": {
             "colorbar": {
              "outlinewidth": 0,
              "ticks": ""
             }
            },
            "type": "scatterpolar"
           }
          ],
          "scatterpolargl": [
           {
            "marker": {
             "colorbar": {
              "outlinewidth": 0,
              "ticks": ""
             }
            },
            "type": "scatterpolargl"
           }
          ],
          "scatterternary": [
           {
            "marker": {
             "colorbar": {
              "outlinewidth": 0,
              "ticks": ""
             }
            },
            "type": "scatterternary"
           }
          ],
          "surface": [
           {
            "colorbar": {
             "outlinewidth": 0,
             "ticks": ""
            },
            "colorscale": [
             [
              0,
              "#0d0887"
             ],
             [
              0.1111111111111111,
              "#46039f"
             ],
             [
              0.2222222222222222,
              "#7201a8"
             ],
             [
              0.3333333333333333,
              "#9c179e"
             ],
             [
              0.4444444444444444,
              "#bd3786"
             ],
             [
              0.5555555555555556,
              "#d8576b"
             ],
             [
              0.6666666666666666,
              "#ed7953"
             ],
             [
              0.7777777777777778,
              "#fb9f3a"
             ],
             [
              0.8888888888888888,
              "#fdca26"
             ],
             [
              1,
              "#f0f921"
             ]
            ],
            "type": "surface"
           }
          ],
          "table": [
           {
            "cells": {
             "fill": {
              "color": "#EBF0F8"
             },
             "line": {
              "color": "white"
             }
            },
            "header": {
             "fill": {
              "color": "#C8D4E3"
             },
             "line": {
              "color": "white"
             }
            },
            "type": "table"
           }
          ]
         },
         "layout": {
          "annotationdefaults": {
           "arrowcolor": "#2a3f5f",
           "arrowhead": 0,
           "arrowwidth": 1
          },
          "autotypenumbers": "strict",
          "coloraxis": {
           "colorbar": {
            "outlinewidth": 0,
            "ticks": ""
           }
          },
          "colorscale": {
           "diverging": [
            [
             0,
             "#8e0152"
            ],
            [
             0.1,
             "#c51b7d"
            ],
            [
             0.2,
             "#de77ae"
            ],
            [
             0.3,
             "#f1b6da"
            ],
            [
             0.4,
             "#fde0ef"
            ],
            [
             0.5,
             "#f7f7f7"
            ],
            [
             0.6,
             "#e6f5d0"
            ],
            [
             0.7,
             "#b8e186"
            ],
            [
             0.8,
             "#7fbc41"
            ],
            [
             0.9,
             "#4d9221"
            ],
            [
             1,
             "#276419"
            ]
           ],
           "sequential": [
            [
             0,
             "#0d0887"
            ],
            [
             0.1111111111111111,
             "#46039f"
            ],
            [
             0.2222222222222222,
             "#7201a8"
            ],
            [
             0.3333333333333333,
             "#9c179e"
            ],
            [
             0.4444444444444444,
             "#bd3786"
            ],
            [
             0.5555555555555556,
             "#d8576b"
            ],
            [
             0.6666666666666666,
             "#ed7953"
            ],
            [
             0.7777777777777778,
             "#fb9f3a"
            ],
            [
             0.8888888888888888,
             "#fdca26"
            ],
            [
             1,
             "#f0f921"
            ]
           ],
           "sequentialminus": [
            [
             0,
             "#0d0887"
            ],
            [
             0.1111111111111111,
             "#46039f"
            ],
            [
             0.2222222222222222,
             "#7201a8"
            ],
            [
             0.3333333333333333,
             "#9c179e"
            ],
            [
             0.4444444444444444,
             "#bd3786"
            ],
            [
             0.5555555555555556,
             "#d8576b"
            ],
            [
             0.6666666666666666,
             "#ed7953"
            ],
            [
             0.7777777777777778,
             "#fb9f3a"
            ],
            [
             0.8888888888888888,
             "#fdca26"
            ],
            [
             1,
             "#f0f921"
            ]
           ]
          },
          "colorway": [
           "#636efa",
           "#EF553B",
           "#00cc96",
           "#ab63fa",
           "#FFA15A",
           "#19d3f3",
           "#FF6692",
           "#B6E880",
           "#FF97FF",
           "#FECB52"
          ],
          "font": {
           "color": "#2a3f5f"
          },
          "geo": {
           "bgcolor": "white",
           "lakecolor": "white",
           "landcolor": "#E5ECF6",
           "showlakes": true,
           "showland": true,
           "subunitcolor": "white"
          },
          "hoverlabel": {
           "align": "left"
          },
          "hovermode": "closest",
          "mapbox": {
           "style": "light"
          },
          "paper_bgcolor": "white",
          "plot_bgcolor": "#E5ECF6",
          "polar": {
           "angularaxis": {
            "gridcolor": "white",
            "linecolor": "white",
            "ticks": ""
           },
           "bgcolor": "#E5ECF6",
           "radialaxis": {
            "gridcolor": "white",
            "linecolor": "white",
            "ticks": ""
           }
          },
          "scene": {
           "xaxis": {
            "backgroundcolor": "#E5ECF6",
            "gridcolor": "white",
            "gridwidth": 2,
            "linecolor": "white",
            "showbackground": true,
            "ticks": "",
            "zerolinecolor": "white"
           },
           "yaxis": {
            "backgroundcolor": "#E5ECF6",
            "gridcolor": "white",
            "gridwidth": 2,
            "linecolor": "white",
            "showbackground": true,
            "ticks": "",
            "zerolinecolor": "white"
           },
           "zaxis": {
            "backgroundcolor": "#E5ECF6",
            "gridcolor": "white",
            "gridwidth": 2,
            "linecolor": "white",
            "showbackground": true,
            "ticks": "",
            "zerolinecolor": "white"
           }
          },
          "shapedefaults": {
           "line": {
            "color": "#2a3f5f"
           }
          },
          "ternary": {
           "aaxis": {
            "gridcolor": "white",
            "linecolor": "white",
            "ticks": ""
           },
           "baxis": {
            "gridcolor": "white",
            "linecolor": "white",
            "ticks": ""
           },
           "bgcolor": "#E5ECF6",
           "caxis": {
            "gridcolor": "white",
            "linecolor": "white",
            "ticks": ""
           }
          },
          "title": {
           "x": 0.05
          },
          "xaxis": {
           "automargin": true,
           "gridcolor": "white",
           "linecolor": "white",
           "ticks": "",
           "title": {
            "standoff": 15
           },
           "zerolinecolor": "white",
           "zerolinewidth": 2
          },
          "yaxis": {
           "automargin": true,
           "gridcolor": "white",
           "linecolor": "white",
           "ticks": "",
           "title": {
            "standoff": 15
           },
           "zerolinecolor": "white",
           "zerolinewidth": 2
          }
         }
        },
        "title": {
         "text": "Countries by Display Price (At least 10 times occurred in the dataset)"
        },
        "xaxis": {
         "anchor": "y",
         "domain": [
          0,
          0.45
         ],
         "title": {
          "text": "Median Display Price (USD)"
         }
        },
        "xaxis2": {
         "anchor": "y2",
         "domain": [
          0.55,
          1
         ],
         "title": {
          "text": "Mean Display Price (USD)"
         }
        },
        "yaxis": {
         "anchor": "x",
         "domain": [
          0,
          1
         ],
         "title": {
          "text": "Country"
         }
        },
        "yaxis2": {
         "anchor": "x2",
         "domain": [
          0,
          1
         ],
         "title": {
          "text": "Country"
         }
        }
       }
      }
     },
     "metadata": {},
     "output_type": "display_data"
    }
   ],
   "source": [
    "top_10_countries_median = df.groupby('country').filter(lambda x: len(x) >= 10)\\\n",
    "                            .groupby('country')['display_price'].median()\\\n",
    "                            .sort_values(ascending=False)\\\n",
    "                            .head(10)\n",
    "top_10_countries_median = top_10_countries_median.reset_index()\n",
    "\n",
    "top_10_countries_mean = df.groupby('country').filter(lambda x: len(x) >= 10)\\\n",
    "                          .groupby('country')['display_price'].mean()\\\n",
    "                          .sort_values(ascending=False)\\\n",
    "                          .head(10)\n",
    "top_10_countries_mean = top_10_countries_mean.reset_index()\n",
    "\n",
    "fig1 = px.bar(top_10_countries_median, \n",
    "              x='display_price', \n",
    "              y='country', \n",
    "              orientation='h',\n",
    "              title='Countries by Median Display Price (At least 10 times occurred in the dataset)',\n",
    "              labels={'display_price': 'Median Display Price', 'country': 'Country'},\n",
    "              color_discrete_sequence=px.colors.qualitative.Vivid\n",
    ")\n",
    "\n",
    "fig2 = px.bar(top_10_countries_mean, \n",
    "              x='display_price', \n",
    "              y='country', \n",
    "              orientation='h',\n",
    "              title='Countries by Mean Display Price (At least 10 times occurred in the dataset)',\n",
    "              labels={'display_price': 'Mean Display Price', 'country': 'Country'},\n",
    "              color_discrete_sequence=px.colors.qualitative.G10\n",
    ")\n",
    "\n",
    "fig1.update_xaxes(title_text='Median Display Price (USD)')\n",
    "fig1.update_yaxes(title_text='Country')\n",
    "\n",
    "fig2.update_xaxes(title_text='Mean Display Price (USD)')\n",
    "fig2.update_yaxes(title_text='Country')\n",
    "\n",
    "fig = make_subplots(rows=1, cols=2, subplot_titles=(\"Median Display Price\", \"Mean Display Price\"))\n",
    "\n",
    "for trace in fig1['data']:\n",
    "    fig.add_trace(trace, row=1, col=1)\n",
    "\n",
    "for trace in fig2['data']:\n",
    "    fig.add_trace(trace, row=1, col=2)\n",
    "\n",
    "for i, country in enumerate(top_10_countries_median['country']):\n",
    "    median_price = top_10_countries_median.loc[i, 'display_price']\n",
    "    fig.add_annotation(\n",
    "        x=median_price,\n",
    "        y=country,\n",
    "        text=f\"Median Price: {median_price:,.0f}\",\n",
    "        showarrow=False,\n",
    "        xanchor='left',\n",
    "        yanchor='middle',\n",
    "        row=1,\n",
    "        col=1\n",
    "    )\n",
    "\n",
    "for i, country in enumerate(top_10_countries_mean['country']):\n",
    "    mean_price = top_10_countries_mean.loc[i, 'display_price']\n",
    "    fig.add_annotation(\n",
    "        x=mean_price,\n",
    "        y=country,\n",
    "        text=f\"Mean Price: {mean_price:,.0f}\",\n",
    "        showarrow=False,\n",
    "        xanchor='left',\n",
    "        yanchor='middle',\n",
    "        row=1,\n",
    "        col=2\n",
    "    )\n",
    "\n",
    "fig.update_layout(title_text=\"Countries by Display Price (At least 10 times occurred in the dataset)\",\n",
    "                  showlegend=False)\n",
    "\n",
    "fig.update_xaxes(title_text='Median Display Price (USD)', row=1, col=1)\n",
    "fig.update_xaxes(title_text='Mean Display Price (USD)', row=1, col=2)\n",
    "fig.update_yaxes(title_text='Country', row=1, col=1)\n",
    "fig.update_yaxes(title_text='Country', row=1, col=2)\n",
    "\n",
    "fig.show()\n"
   ]
  },
  {
   "cell_type": "markdown",
   "metadata": {},
   "source": [
    "## Q9 - Visualize and Interpret the Highest,Mean and Median of Car Display Prices by Make\n",
    "* Ferrari,Lamborghini,Rolls-Royce and McLaren has the most expensive cars in the USA based on the metrics we used."
   ]
  },
  {
   "cell_type": "code",
   "execution_count": 34,
   "metadata": {},
   "outputs": [
    {
     "data": {
      "application/vnd.plotly.v1+json": {
       "config": {
        "plotlyServerURL": "https://plot.ly"
       },
       "data": [
        {
         "alignmentgroup": "True",
         "hovertemplate": "Median Display Price=%{x}<br>Car Make=%{y}<extra></extra>",
         "legendgroup": "",
         "marker": {
          "color": "rgb(127, 60, 141)",
          "pattern": {
           "shape": ""
          }
         },
         "name": "",
         "offsetgroup": "",
         "orientation": "h",
         "showlegend": false,
         "textposition": "auto",
         "type": "bar",
         "x": [
          274716,
          253941.5,
          242408.5,
          209900,
          125777,
          99999,
          82500,
          56995,
          41990.5,
          39504.5
         ],
         "xaxis": "x",
         "y": [
          "Ferrari",
          "Lamborghini",
          "Rolls-Royce",
          "McLaren",
          "Aston Martin",
          "Bentley",
          "Rivian",
          "Porsche",
          "Genesis",
          "Land Rover"
         ],
         "yaxis": "y"
        },
        {
         "alignmentgroup": "True",
         "hovertemplate": "Mean Display Price=%{x}<br>Car Make=%{y}<extra></extra>",
         "legendgroup": "",
         "marker": {
          "color": "rgb(136, 204, 238)",
          "pattern": {
           "shape": ""
          }
         },
         "name": "",
         "offsetgroup": "",
         "orientation": "h",
         "showlegend": false,
         "textposition": "auto",
         "type": "bar",
         "x": [
          310953.3937007874,
          260392.33050847458,
          258338.22,
          237857.5934065934,
          157376.50344827585,
          133825.22101449277,
          79006.82926829268,
          70990.93723577236,
          51419.70305164319,
          45105.392795778105
         ],
         "xaxis": "x2",
         "y": [
          "Ferrari",
          "Lamborghini",
          "Rolls-Royce",
          "McLaren",
          "Aston Martin",
          "Bentley",
          "Rivian",
          "Porsche",
          "Genesis",
          "Land Rover"
         ],
         "yaxis": "y2"
        }
       ],
       "layout": {
        "annotations": [
         {
          "font": {
           "size": 16
          },
          "showarrow": false,
          "text": "Median Display Price",
          "x": 0.225,
          "xanchor": "center",
          "xref": "paper",
          "y": 1,
          "yanchor": "bottom",
          "yref": "paper"
         },
         {
          "font": {
           "size": 16
          },
          "showarrow": false,
          "text": "Mean Display Price",
          "x": 0.775,
          "xanchor": "center",
          "xref": "paper",
          "y": 1,
          "yanchor": "bottom",
          "yref": "paper"
         },
         {
          "showarrow": false,
          "text": "Median Price: 274,716",
          "x": 274716,
          "xanchor": "left",
          "xref": "x",
          "y": "Ferrari",
          "yanchor": "middle",
          "yref": "y"
         },
         {
          "showarrow": false,
          "text": "Median Price: 253,942",
          "x": 253941.5,
          "xanchor": "left",
          "xref": "x",
          "y": "Lamborghini",
          "yanchor": "middle",
          "yref": "y"
         },
         {
          "showarrow": false,
          "text": "Median Price: 242,408",
          "x": 242408.5,
          "xanchor": "left",
          "xref": "x",
          "y": "Rolls-Royce",
          "yanchor": "middle",
          "yref": "y"
         },
         {
          "showarrow": false,
          "text": "Median Price: 209,900",
          "x": 209900,
          "xanchor": "left",
          "xref": "x",
          "y": "McLaren",
          "yanchor": "middle",
          "yref": "y"
         },
         {
          "showarrow": false,
          "text": "Median Price: 125,777",
          "x": 125777,
          "xanchor": "left",
          "xref": "x",
          "y": "Aston Martin",
          "yanchor": "middle",
          "yref": "y"
         },
         {
          "showarrow": false,
          "text": "Median Price: 99,999",
          "x": 99999,
          "xanchor": "left",
          "xref": "x",
          "y": "Bentley",
          "yanchor": "middle",
          "yref": "y"
         },
         {
          "showarrow": false,
          "text": "Median Price: 82,500",
          "x": 82500,
          "xanchor": "left",
          "xref": "x",
          "y": "Rivian",
          "yanchor": "middle",
          "yref": "y"
         },
         {
          "showarrow": false,
          "text": "Median Price: 56,995",
          "x": 56995,
          "xanchor": "left",
          "xref": "x",
          "y": "Porsche",
          "yanchor": "middle",
          "yref": "y"
         },
         {
          "showarrow": false,
          "text": "Median Price: 41,990",
          "x": 41990.5,
          "xanchor": "left",
          "xref": "x",
          "y": "Genesis",
          "yanchor": "middle",
          "yref": "y"
         },
         {
          "showarrow": false,
          "text": "Median Price: 39,504",
          "x": 39504.5,
          "xanchor": "left",
          "xref": "x",
          "y": "Land Rover",
          "yanchor": "middle",
          "yref": "y"
         },
         {
          "showarrow": false,
          "text": "Mean Price: 310,953",
          "x": 310953.3937007874,
          "xanchor": "left",
          "xref": "x2",
          "y": "Ferrari",
          "yanchor": "middle",
          "yref": "y2"
         },
         {
          "showarrow": false,
          "text": "Mean Price: 260,392",
          "x": 260392.33050847458,
          "xanchor": "left",
          "xref": "x2",
          "y": "Lamborghini",
          "yanchor": "middle",
          "yref": "y2"
         },
         {
          "showarrow": false,
          "text": "Mean Price: 258,338",
          "x": 258338.22,
          "xanchor": "left",
          "xref": "x2",
          "y": "Rolls-Royce",
          "yanchor": "middle",
          "yref": "y2"
         },
         {
          "showarrow": false,
          "text": "Mean Price: 237,858",
          "x": 237857.5934065934,
          "xanchor": "left",
          "xref": "x2",
          "y": "McLaren",
          "yanchor": "middle",
          "yref": "y2"
         },
         {
          "showarrow": false,
          "text": "Mean Price: 157,377",
          "x": 157376.50344827585,
          "xanchor": "left",
          "xref": "x2",
          "y": "Aston Martin",
          "yanchor": "middle",
          "yref": "y2"
         },
         {
          "showarrow": false,
          "text": "Mean Price: 133,825",
          "x": 133825.22101449277,
          "xanchor": "left",
          "xref": "x2",
          "y": "Bentley",
          "yanchor": "middle",
          "yref": "y2"
         },
         {
          "showarrow": false,
          "text": "Mean Price: 79,007",
          "x": 79006.82926829268,
          "xanchor": "left",
          "xref": "x2",
          "y": "Rivian",
          "yanchor": "middle",
          "yref": "y2"
         },
         {
          "showarrow": false,
          "text": "Mean Price: 70,991",
          "x": 70990.93723577236,
          "xanchor": "left",
          "xref": "x2",
          "y": "Porsche",
          "yanchor": "middle",
          "yref": "y2"
         },
         {
          "showarrow": false,
          "text": "Mean Price: 51,420",
          "x": 51419.70305164319,
          "xanchor": "left",
          "xref": "x2",
          "y": "Genesis",
          "yanchor": "middle",
          "yref": "y2"
         },
         {
          "showarrow": false,
          "text": "Mean Price: 45,105",
          "x": 45105.392795778105,
          "xanchor": "left",
          "xref": "x2",
          "y": "Land Rover",
          "yanchor": "middle",
          "yref": "y2"
         }
        ],
        "showlegend": false,
        "template": {
         "data": {
          "bar": [
           {
            "error_x": {
             "color": "#2a3f5f"
            },
            "error_y": {
             "color": "#2a3f5f"
            },
            "marker": {
             "line": {
              "color": "#E5ECF6",
              "width": 0.5
             },
             "pattern": {
              "fillmode": "overlay",
              "size": 10,
              "solidity": 0.2
             }
            },
            "type": "bar"
           }
          ],
          "barpolar": [
           {
            "marker": {
             "line": {
              "color": "#E5ECF6",
              "width": 0.5
             },
             "pattern": {
              "fillmode": "overlay",
              "size": 10,
              "solidity": 0.2
             }
            },
            "type": "barpolar"
           }
          ],
          "carpet": [
           {
            "aaxis": {
             "endlinecolor": "#2a3f5f",
             "gridcolor": "white",
             "linecolor": "white",
             "minorgridcolor": "white",
             "startlinecolor": "#2a3f5f"
            },
            "baxis": {
             "endlinecolor": "#2a3f5f",
             "gridcolor": "white",
             "linecolor": "white",
             "minorgridcolor": "white",
             "startlinecolor": "#2a3f5f"
            },
            "type": "carpet"
           }
          ],
          "choropleth": [
           {
            "colorbar": {
             "outlinewidth": 0,
             "ticks": ""
            },
            "type": "choropleth"
           }
          ],
          "contour": [
           {
            "colorbar": {
             "outlinewidth": 0,
             "ticks": ""
            },
            "colorscale": [
             [
              0,
              "#0d0887"
             ],
             [
              0.1111111111111111,
              "#46039f"
             ],
             [
              0.2222222222222222,
              "#7201a8"
             ],
             [
              0.3333333333333333,
              "#9c179e"
             ],
             [
              0.4444444444444444,
              "#bd3786"
             ],
             [
              0.5555555555555556,
              "#d8576b"
             ],
             [
              0.6666666666666666,
              "#ed7953"
             ],
             [
              0.7777777777777778,
              "#fb9f3a"
             ],
             [
              0.8888888888888888,
              "#fdca26"
             ],
             [
              1,
              "#f0f921"
             ]
            ],
            "type": "contour"
           }
          ],
          "contourcarpet": [
           {
            "colorbar": {
             "outlinewidth": 0,
             "ticks": ""
            },
            "type": "contourcarpet"
           }
          ],
          "heatmap": [
           {
            "colorbar": {
             "outlinewidth": 0,
             "ticks": ""
            },
            "colorscale": [
             [
              0,
              "#0d0887"
             ],
             [
              0.1111111111111111,
              "#46039f"
             ],
             [
              0.2222222222222222,
              "#7201a8"
             ],
             [
              0.3333333333333333,
              "#9c179e"
             ],
             [
              0.4444444444444444,
              "#bd3786"
             ],
             [
              0.5555555555555556,
              "#d8576b"
             ],
             [
              0.6666666666666666,
              "#ed7953"
             ],
             [
              0.7777777777777778,
              "#fb9f3a"
             ],
             [
              0.8888888888888888,
              "#fdca26"
             ],
             [
              1,
              "#f0f921"
             ]
            ],
            "type": "heatmap"
           }
          ],
          "heatmapgl": [
           {
            "colorbar": {
             "outlinewidth": 0,
             "ticks": ""
            },
            "colorscale": [
             [
              0,
              "#0d0887"
             ],
             [
              0.1111111111111111,
              "#46039f"
             ],
             [
              0.2222222222222222,
              "#7201a8"
             ],
             [
              0.3333333333333333,
              "#9c179e"
             ],
             [
              0.4444444444444444,
              "#bd3786"
             ],
             [
              0.5555555555555556,
              "#d8576b"
             ],
             [
              0.6666666666666666,
              "#ed7953"
             ],
             [
              0.7777777777777778,
              "#fb9f3a"
             ],
             [
              0.8888888888888888,
              "#fdca26"
             ],
             [
              1,
              "#f0f921"
             ]
            ],
            "type": "heatmapgl"
           }
          ],
          "histogram": [
           {
            "marker": {
             "pattern": {
              "fillmode": "overlay",
              "size": 10,
              "solidity": 0.2
             }
            },
            "type": "histogram"
           }
          ],
          "histogram2d": [
           {
            "colorbar": {
             "outlinewidth": 0,
             "ticks": ""
            },
            "colorscale": [
             [
              0,
              "#0d0887"
             ],
             [
              0.1111111111111111,
              "#46039f"
             ],
             [
              0.2222222222222222,
              "#7201a8"
             ],
             [
              0.3333333333333333,
              "#9c179e"
             ],
             [
              0.4444444444444444,
              "#bd3786"
             ],
             [
              0.5555555555555556,
              "#d8576b"
             ],
             [
              0.6666666666666666,
              "#ed7953"
             ],
             [
              0.7777777777777778,
              "#fb9f3a"
             ],
             [
              0.8888888888888888,
              "#fdca26"
             ],
             [
              1,
              "#f0f921"
             ]
            ],
            "type": "histogram2d"
           }
          ],
          "histogram2dcontour": [
           {
            "colorbar": {
             "outlinewidth": 0,
             "ticks": ""
            },
            "colorscale": [
             [
              0,
              "#0d0887"
             ],
             [
              0.1111111111111111,
              "#46039f"
             ],
             [
              0.2222222222222222,
              "#7201a8"
             ],
             [
              0.3333333333333333,
              "#9c179e"
             ],
             [
              0.4444444444444444,
              "#bd3786"
             ],
             [
              0.5555555555555556,
              "#d8576b"
             ],
             [
              0.6666666666666666,
              "#ed7953"
             ],
             [
              0.7777777777777778,
              "#fb9f3a"
             ],
             [
              0.8888888888888888,
              "#fdca26"
             ],
             [
              1,
              "#f0f921"
             ]
            ],
            "type": "histogram2dcontour"
           }
          ],
          "mesh3d": [
           {
            "colorbar": {
             "outlinewidth": 0,
             "ticks": ""
            },
            "type": "mesh3d"
           }
          ],
          "parcoords": [
           {
            "line": {
             "colorbar": {
              "outlinewidth": 0,
              "ticks": ""
             }
            },
            "type": "parcoords"
           }
          ],
          "pie": [
           {
            "automargin": true,
            "type": "pie"
           }
          ],
          "scatter": [
           {
            "fillpattern": {
             "fillmode": "overlay",
             "size": 10,
             "solidity": 0.2
            },
            "type": "scatter"
           }
          ],
          "scatter3d": [
           {
            "line": {
             "colorbar": {
              "outlinewidth": 0,
              "ticks": ""
             }
            },
            "marker": {
             "colorbar": {
              "outlinewidth": 0,
              "ticks": ""
             }
            },
            "type": "scatter3d"
           }
          ],
          "scattercarpet": [
           {
            "marker": {
             "colorbar": {
              "outlinewidth": 0,
              "ticks": ""
             }
            },
            "type": "scattercarpet"
           }
          ],
          "scattergeo": [
           {
            "marker": {
             "colorbar": {
              "outlinewidth": 0,
              "ticks": ""
             }
            },
            "type": "scattergeo"
           }
          ],
          "scattergl": [
           {
            "marker": {
             "colorbar": {
              "outlinewidth": 0,
              "ticks": ""
             }
            },
            "type": "scattergl"
           }
          ],
          "scattermapbox": [
           {
            "marker": {
             "colorbar": {
              "outlinewidth": 0,
              "ticks": ""
             }
            },
            "type": "scattermapbox"
           }
          ],
          "scatterpolar": [
           {
            "marker": {
             "colorbar": {
              "outlinewidth": 0,
              "ticks": ""
             }
            },
            "type": "scatterpolar"
           }
          ],
          "scatterpolargl": [
           {
            "marker": {
             "colorbar": {
              "outlinewidth": 0,
              "ticks": ""
             }
            },
            "type": "scatterpolargl"
           }
          ],
          "scatterternary": [
           {
            "marker": {
             "colorbar": {
              "outlinewidth": 0,
              "ticks": ""
             }
            },
            "type": "scatterternary"
           }
          ],
          "surface": [
           {
            "colorbar": {
             "outlinewidth": 0,
             "ticks": ""
            },
            "colorscale": [
             [
              0,
              "#0d0887"
             ],
             [
              0.1111111111111111,
              "#46039f"
             ],
             [
              0.2222222222222222,
              "#7201a8"
             ],
             [
              0.3333333333333333,
              "#9c179e"
             ],
             [
              0.4444444444444444,
              "#bd3786"
             ],
             [
              0.5555555555555556,
              "#d8576b"
             ],
             [
              0.6666666666666666,
              "#ed7953"
             ],
             [
              0.7777777777777778,
              "#fb9f3a"
             ],
             [
              0.8888888888888888,
              "#fdca26"
             ],
             [
              1,
              "#f0f921"
             ]
            ],
            "type": "surface"
           }
          ],
          "table": [
           {
            "cells": {
             "fill": {
              "color": "#EBF0F8"
             },
             "line": {
              "color": "white"
             }
            },
            "header": {
             "fill": {
              "color": "#C8D4E3"
             },
             "line": {
              "color": "white"
             }
            },
            "type": "table"
           }
          ]
         },
         "layout": {
          "annotationdefaults": {
           "arrowcolor": "#2a3f5f",
           "arrowhead": 0,
           "arrowwidth": 1
          },
          "autotypenumbers": "strict",
          "coloraxis": {
           "colorbar": {
            "outlinewidth": 0,
            "ticks": ""
           }
          },
          "colorscale": {
           "diverging": [
            [
             0,
             "#8e0152"
            ],
            [
             0.1,
             "#c51b7d"
            ],
            [
             0.2,
             "#de77ae"
            ],
            [
             0.3,
             "#f1b6da"
            ],
            [
             0.4,
             "#fde0ef"
            ],
            [
             0.5,
             "#f7f7f7"
            ],
            [
             0.6,
             "#e6f5d0"
            ],
            [
             0.7,
             "#b8e186"
            ],
            [
             0.8,
             "#7fbc41"
            ],
            [
             0.9,
             "#4d9221"
            ],
            [
             1,
             "#276419"
            ]
           ],
           "sequential": [
            [
             0,
             "#0d0887"
            ],
            [
             0.1111111111111111,
             "#46039f"
            ],
            [
             0.2222222222222222,
             "#7201a8"
            ],
            [
             0.3333333333333333,
             "#9c179e"
            ],
            [
             0.4444444444444444,
             "#bd3786"
            ],
            [
             0.5555555555555556,
             "#d8576b"
            ],
            [
             0.6666666666666666,
             "#ed7953"
            ],
            [
             0.7777777777777778,
             "#fb9f3a"
            ],
            [
             0.8888888888888888,
             "#fdca26"
            ],
            [
             1,
             "#f0f921"
            ]
           ],
           "sequentialminus": [
            [
             0,
             "#0d0887"
            ],
            [
             0.1111111111111111,
             "#46039f"
            ],
            [
             0.2222222222222222,
             "#7201a8"
            ],
            [
             0.3333333333333333,
             "#9c179e"
            ],
            [
             0.4444444444444444,
             "#bd3786"
            ],
            [
             0.5555555555555556,
             "#d8576b"
            ],
            [
             0.6666666666666666,
             "#ed7953"
            ],
            [
             0.7777777777777778,
             "#fb9f3a"
            ],
            [
             0.8888888888888888,
             "#fdca26"
            ],
            [
             1,
             "#f0f921"
            ]
           ]
          },
          "colorway": [
           "#636efa",
           "#EF553B",
           "#00cc96",
           "#ab63fa",
           "#FFA15A",
           "#19d3f3",
           "#FF6692",
           "#B6E880",
           "#FF97FF",
           "#FECB52"
          ],
          "font": {
           "color": "#2a3f5f"
          },
          "geo": {
           "bgcolor": "white",
           "lakecolor": "white",
           "landcolor": "#E5ECF6",
           "showlakes": true,
           "showland": true,
           "subunitcolor": "white"
          },
          "hoverlabel": {
           "align": "left"
          },
          "hovermode": "closest",
          "mapbox": {
           "style": "light"
          },
          "paper_bgcolor": "white",
          "plot_bgcolor": "#E5ECF6",
          "polar": {
           "angularaxis": {
            "gridcolor": "white",
            "linecolor": "white",
            "ticks": ""
           },
           "bgcolor": "#E5ECF6",
           "radialaxis": {
            "gridcolor": "white",
            "linecolor": "white",
            "ticks": ""
           }
          },
          "scene": {
           "xaxis": {
            "backgroundcolor": "#E5ECF6",
            "gridcolor": "white",
            "gridwidth": 2,
            "linecolor": "white",
            "showbackground": true,
            "ticks": "",
            "zerolinecolor": "white"
           },
           "yaxis": {
            "backgroundcolor": "#E5ECF6",
            "gridcolor": "white",
            "gridwidth": 2,
            "linecolor": "white",
            "showbackground": true,
            "ticks": "",
            "zerolinecolor": "white"
           },
           "zaxis": {
            "backgroundcolor": "#E5ECF6",
            "gridcolor": "white",
            "gridwidth": 2,
            "linecolor": "white",
            "showbackground": true,
            "ticks": "",
            "zerolinecolor": "white"
           }
          },
          "shapedefaults": {
           "line": {
            "color": "#2a3f5f"
           }
          },
          "ternary": {
           "aaxis": {
            "gridcolor": "white",
            "linecolor": "white",
            "ticks": ""
           },
           "baxis": {
            "gridcolor": "white",
            "linecolor": "white",
            "ticks": ""
           },
           "bgcolor": "#E5ECF6",
           "caxis": {
            "gridcolor": "white",
            "linecolor": "white",
            "ticks": ""
           }
          },
          "title": {
           "x": 0.05
          },
          "xaxis": {
           "automargin": true,
           "gridcolor": "white",
           "linecolor": "white",
           "ticks": "",
           "title": {
            "standoff": 15
           },
           "zerolinecolor": "white",
           "zerolinewidth": 2
          },
          "yaxis": {
           "automargin": true,
           "gridcolor": "white",
           "linecolor": "white",
           "ticks": "",
           "title": {
            "standoff": 15
           },
           "zerolinecolor": "white",
           "zerolinewidth": 2
          }
         }
        },
        "title": {
         "text": "Makes by Display Price (At least 10 times occurred in the dataset)"
        },
        "xaxis": {
         "anchor": "y",
         "domain": [
          0,
          0.45
         ],
         "title": {
          "text": "Median Display Price (USD)"
         }
        },
        "xaxis2": {
         "anchor": "y2",
         "domain": [
          0.55,
          1
         ],
         "title": {
          "text": "Mean Display Price (USD)"
         }
        },
        "yaxis": {
         "anchor": "x",
         "domain": [
          0,
          1
         ],
         "title": {
          "text": "Car Make"
         }
        },
        "yaxis2": {
         "anchor": "x2",
         "domain": [
          0,
          1
         ],
         "title": {
          "text": "Car Make"
         }
        }
       }
      }
     },
     "metadata": {},
     "output_type": "display_data"
    }
   ],
   "source": [
    "top_10_makes_median = df.groupby('make').filter(lambda x: len(x) >= 10)\\\n",
    "                        .groupby('make')['display_price'].median()\\\n",
    "                        .sort_values(ascending=False)\\\n",
    "                        .head(10)\n",
    "top_10_makes_median = top_10_makes_median.reset_index()\n",
    "\n",
    "top_10_makes_mean = df.groupby('make').filter(lambda x: len(x) >= 10)\\\n",
    "                      .groupby('make')['display_price'].mean()\\\n",
    "                      .sort_values(ascending=False)\\\n",
    "                      .head(10)\n",
    "top_10_makes_mean = top_10_makes_mean.reset_index()\n",
    "\n",
    "fig1 = px.bar(top_10_makes_median, \n",
    "              x='display_price', \n",
    "              y='make', \n",
    "              orientation='h',\n",
    "              title='Makes by Median Display Price (At least 10 times occurred in the dataset)',\n",
    "              labels={'display_price': 'Median Display Price', 'make': 'Car Make'},\n",
    "              color_discrete_sequence=px.colors.qualitative.Bold\n",
    ")\n",
    "\n",
    "fig2 = px.bar(top_10_makes_mean, \n",
    "              x='display_price', \n",
    "              y='make', \n",
    "              orientation='h',\n",
    "              title='Makes by Mean Display Price (At least 10 times occurred in the dataset)',\n",
    "              labels={'display_price': 'Mean Display Price', 'make': 'Car Make'},\n",
    "              color_discrete_sequence=px.colors.qualitative.Safe\n",
    ")\n",
    "\n",
    "fig1.update_xaxes(title_text='Median Display Price (USD)')\n",
    "fig1.update_yaxes(title_text='Car Make')\n",
    "\n",
    "fig2.update_xaxes(title_text='Mean Display Price (USD)')\n",
    "fig2.update_yaxes(title_text='Car Make')\n",
    "\n",
    "fig = make_subplots(rows=1, cols=2, subplot_titles=(\"Median Display Price\", \"Mean Display Price\"))\n",
    "\n",
    "for trace in fig1['data']:\n",
    "    fig.add_trace(trace, row=1, col=1)\n",
    "\n",
    "for trace in fig2['data']:\n",
    "    fig.add_trace(trace, row=1, col=2)\n",
    "\n",
    "for i, make in enumerate(top_10_makes_median['make']):\n",
    "    median_price = top_10_makes_median.loc[i, 'display_price']\n",
    "    fig.add_annotation(\n",
    "        x=median_price,\n",
    "        y=make,\n",
    "        text=f\"Median Price: {median_price:,.0f}\",\n",
    "        showarrow=False,\n",
    "        xanchor='left',\n",
    "        yanchor='middle',\n",
    "        row=1,\n",
    "        col=1\n",
    "    )\n",
    "\n",
    "for i, make in enumerate(top_10_makes_mean['make']):\n",
    "    mean_price = top_10_makes_mean.loc[i, 'display_price']\n",
    "    fig.add_annotation(\n",
    "        x=mean_price,\n",
    "        y=make,\n",
    "        text=f\"Mean Price: {mean_price:,.0f}\",\n",
    "        showarrow=False,\n",
    "        xanchor='left',\n",
    "        yanchor='middle',\n",
    "        row=1,\n",
    "        col=2\n",
    "    )\n",
    "\n",
    "fig.update_layout(title_text=\"Makes by Display Price (At least 10 times occurred in the dataset)\",\n",
    "                  showlegend=False)\n",
    "\n",
    "fig.update_xaxes(title_text='Median Display Price (USD)', row=1, col=1)\n",
    "fig.update_xaxes(title_text='Mean Display Price (USD)', row=1, col=2)\n",
    "fig.update_yaxes(title_text='Car Make', row=1, col=1)\n",
    "fig.update_yaxes(title_text='Car Make', row=1, col=2)\n",
    "\n",
    "fig.show()\n"
   ]
  },
  {
   "cell_type": "markdown",
   "metadata": {},
   "source": [
    "## Q10 - Visualize and Interpret the Lowest,Mean and Median of Car Display Prices by Make\n",
    "* FIAT Has the cheapest car in the US based on our dataset."
   ]
  },
  {
   "cell_type": "code",
   "execution_count": 35,
   "metadata": {},
   "outputs": [
    {
     "data": {
      "application/vnd.plotly.v1+json": {
       "config": {
        "plotlyServerURL": "https://plot.ly"
       },
       "data": [
        {
         "alignmentgroup": "True",
         "hovertemplate": "Median Display Price=%{x}<br>Car Make=%{y}<extra></extra>",
         "legendgroup": "",
         "marker": {
          "color": "#636EFA",
          "pattern": {
           "shape": ""
          }
         },
         "name": "",
         "offsetgroup": "",
         "orientation": "h",
         "showlegend": false,
         "textposition": "auto",
         "type": "bar",
         "x": [
          12112.5,
          14995,
          17441,
          17699,
          17991,
          18500,
          18590,
          18699,
          19523,
          19987.5
         ],
         "xaxis": "x",
         "y": [
          "FIAT",
          "HUMMER",
          "Hyundai",
          "Nissan",
          "Mitsubishi",
          "Toyota",
          "MINI",
          "Kia",
          "Chevrolet",
          "Buick"
         ],
         "yaxis": "y"
        },
        {
         "alignmentgroup": "True",
         "hovertemplate": "Mean Display Price=%{x}<br>Car Make=%{y}<extra></extra>",
         "legendgroup": "",
         "marker": {
          "color": "#FECB52",
          "pattern": {
           "shape": ""
          }
         },
         "name": "",
         "offsetgroup": "",
         "orientation": "h",
         "showlegend": false,
         "textposition": "auto",
         "type": "bar",
         "x": [
          12995.087155963303,
          18058.231210615297,
          18102.66246318115,
          18427.256456893414,
          19200.46304614128,
          19560.33523478836,
          19651.393792570747,
          20020.980117820323,
          20098.47611528822,
          20111.843137254902
         ],
         "xaxis": "x2",
         "y": [
          "FIAT",
          "Nissan",
          "Hyundai",
          "Mitsubishi",
          "MINI",
          "Toyota",
          "Kia",
          "Chrysler",
          "Honda",
          "HUMMER"
         ],
         "yaxis": "y2"
        }
       ],
       "layout": {
        "annotations": [
         {
          "font": {
           "size": 16
          },
          "showarrow": false,
          "text": "Median Display Price",
          "x": 0.225,
          "xanchor": "center",
          "xref": "paper",
          "y": 1,
          "yanchor": "bottom",
          "yref": "paper"
         },
         {
          "font": {
           "size": 16
          },
          "showarrow": false,
          "text": "Mean Display Price",
          "x": 0.775,
          "xanchor": "center",
          "xref": "paper",
          "y": 1,
          "yanchor": "bottom",
          "yref": "paper"
         },
         {
          "showarrow": false,
          "text": "Median Price: 12,112",
          "x": 12112.5,
          "xanchor": "left",
          "xref": "x",
          "y": "FIAT",
          "yanchor": "middle",
          "yref": "y"
         },
         {
          "showarrow": false,
          "text": "Median Price: 14,995",
          "x": 14995,
          "xanchor": "left",
          "xref": "x",
          "y": "HUMMER",
          "yanchor": "middle",
          "yref": "y"
         },
         {
          "showarrow": false,
          "text": "Median Price: 17,441",
          "x": 17441,
          "xanchor": "left",
          "xref": "x",
          "y": "Hyundai",
          "yanchor": "middle",
          "yref": "y"
         },
         {
          "showarrow": false,
          "text": "Median Price: 17,699",
          "x": 17699,
          "xanchor": "left",
          "xref": "x",
          "y": "Nissan",
          "yanchor": "middle",
          "yref": "y"
         },
         {
          "showarrow": false,
          "text": "Median Price: 17,991",
          "x": 17991,
          "xanchor": "left",
          "xref": "x",
          "y": "Mitsubishi",
          "yanchor": "middle",
          "yref": "y"
         },
         {
          "showarrow": false,
          "text": "Median Price: 18,500",
          "x": 18500,
          "xanchor": "left",
          "xref": "x",
          "y": "Toyota",
          "yanchor": "middle",
          "yref": "y"
         },
         {
          "showarrow": false,
          "text": "Median Price: 18,590",
          "x": 18590,
          "xanchor": "left",
          "xref": "x",
          "y": "MINI",
          "yanchor": "middle",
          "yref": "y"
         },
         {
          "showarrow": false,
          "text": "Median Price: 18,699",
          "x": 18699,
          "xanchor": "left",
          "xref": "x",
          "y": "Kia",
          "yanchor": "middle",
          "yref": "y"
         },
         {
          "showarrow": false,
          "text": "Median Price: 19,523",
          "x": 19523,
          "xanchor": "left",
          "xref": "x",
          "y": "Chevrolet",
          "yanchor": "middle",
          "yref": "y"
         },
         {
          "showarrow": false,
          "text": "Median Price: 19,988",
          "x": 19987.5,
          "xanchor": "left",
          "xref": "x",
          "y": "Buick",
          "yanchor": "middle",
          "yref": "y"
         },
         {
          "showarrow": false,
          "text": "Mean Price: 12,995",
          "x": 12995.087155963303,
          "xanchor": "left",
          "xref": "x2",
          "y": "FIAT",
          "yanchor": "middle",
          "yref": "y2"
         },
         {
          "showarrow": false,
          "text": "Mean Price: 18,058",
          "x": 18058.231210615297,
          "xanchor": "left",
          "xref": "x2",
          "y": "Nissan",
          "yanchor": "middle",
          "yref": "y2"
         },
         {
          "showarrow": false,
          "text": "Mean Price: 18,103",
          "x": 18102.66246318115,
          "xanchor": "left",
          "xref": "x2",
          "y": "Hyundai",
          "yanchor": "middle",
          "yref": "y2"
         },
         {
          "showarrow": false,
          "text": "Mean Price: 18,427",
          "x": 18427.256456893414,
          "xanchor": "left",
          "xref": "x2",
          "y": "Mitsubishi",
          "yanchor": "middle",
          "yref": "y2"
         },
         {
          "showarrow": false,
          "text": "Mean Price: 19,200",
          "x": 19200.46304614128,
          "xanchor": "left",
          "xref": "x2",
          "y": "MINI",
          "yanchor": "middle",
          "yref": "y2"
         },
         {
          "showarrow": false,
          "text": "Mean Price: 19,560",
          "x": 19560.33523478836,
          "xanchor": "left",
          "xref": "x2",
          "y": "Toyota",
          "yanchor": "middle",
          "yref": "y2"
         },
         {
          "showarrow": false,
          "text": "Mean Price: 19,651",
          "x": 19651.393792570747,
          "xanchor": "left",
          "xref": "x2",
          "y": "Kia",
          "yanchor": "middle",
          "yref": "y2"
         },
         {
          "showarrow": false,
          "text": "Mean Price: 20,021",
          "x": 20020.980117820323,
          "xanchor": "left",
          "xref": "x2",
          "y": "Chrysler",
          "yanchor": "middle",
          "yref": "y2"
         },
         {
          "showarrow": false,
          "text": "Mean Price: 20,098",
          "x": 20098.47611528822,
          "xanchor": "left",
          "xref": "x2",
          "y": "Honda",
          "yanchor": "middle",
          "yref": "y2"
         },
         {
          "showarrow": false,
          "text": "Mean Price: 20,112",
          "x": 20111.843137254902,
          "xanchor": "left",
          "xref": "x2",
          "y": "HUMMER",
          "yanchor": "middle",
          "yref": "y2"
         }
        ],
        "showlegend": false,
        "template": {
         "data": {
          "bar": [
           {
            "error_x": {
             "color": "#2a3f5f"
            },
            "error_y": {
             "color": "#2a3f5f"
            },
            "marker": {
             "line": {
              "color": "#E5ECF6",
              "width": 0.5
             },
             "pattern": {
              "fillmode": "overlay",
              "size": 10,
              "solidity": 0.2
             }
            },
            "type": "bar"
           }
          ],
          "barpolar": [
           {
            "marker": {
             "line": {
              "color": "#E5ECF6",
              "width": 0.5
             },
             "pattern": {
              "fillmode": "overlay",
              "size": 10,
              "solidity": 0.2
             }
            },
            "type": "barpolar"
           }
          ],
          "carpet": [
           {
            "aaxis": {
             "endlinecolor": "#2a3f5f",
             "gridcolor": "white",
             "linecolor": "white",
             "minorgridcolor": "white",
             "startlinecolor": "#2a3f5f"
            },
            "baxis": {
             "endlinecolor": "#2a3f5f",
             "gridcolor": "white",
             "linecolor": "white",
             "minorgridcolor": "white",
             "startlinecolor": "#2a3f5f"
            },
            "type": "carpet"
           }
          ],
          "choropleth": [
           {
            "colorbar": {
             "outlinewidth": 0,
             "ticks": ""
            },
            "type": "choropleth"
           }
          ],
          "contour": [
           {
            "colorbar": {
             "outlinewidth": 0,
             "ticks": ""
            },
            "colorscale": [
             [
              0,
              "#0d0887"
             ],
             [
              0.1111111111111111,
              "#46039f"
             ],
             [
              0.2222222222222222,
              "#7201a8"
             ],
             [
              0.3333333333333333,
              "#9c179e"
             ],
             [
              0.4444444444444444,
              "#bd3786"
             ],
             [
              0.5555555555555556,
              "#d8576b"
             ],
             [
              0.6666666666666666,
              "#ed7953"
             ],
             [
              0.7777777777777778,
              "#fb9f3a"
             ],
             [
              0.8888888888888888,
              "#fdca26"
             ],
             [
              1,
              "#f0f921"
             ]
            ],
            "type": "contour"
           }
          ],
          "contourcarpet": [
           {
            "colorbar": {
             "outlinewidth": 0,
             "ticks": ""
            },
            "type": "contourcarpet"
           }
          ],
          "heatmap": [
           {
            "colorbar": {
             "outlinewidth": 0,
             "ticks": ""
            },
            "colorscale": [
             [
              0,
              "#0d0887"
             ],
             [
              0.1111111111111111,
              "#46039f"
             ],
             [
              0.2222222222222222,
              "#7201a8"
             ],
             [
              0.3333333333333333,
              "#9c179e"
             ],
             [
              0.4444444444444444,
              "#bd3786"
             ],
             [
              0.5555555555555556,
              "#d8576b"
             ],
             [
              0.6666666666666666,
              "#ed7953"
             ],
             [
              0.7777777777777778,
              "#fb9f3a"
             ],
             [
              0.8888888888888888,
              "#fdca26"
             ],
             [
              1,
              "#f0f921"
             ]
            ],
            "type": "heatmap"
           }
          ],
          "heatmapgl": [
           {
            "colorbar": {
             "outlinewidth": 0,
             "ticks": ""
            },
            "colorscale": [
             [
              0,
              "#0d0887"
             ],
             [
              0.1111111111111111,
              "#46039f"
             ],
             [
              0.2222222222222222,
              "#7201a8"
             ],
             [
              0.3333333333333333,
              "#9c179e"
             ],
             [
              0.4444444444444444,
              "#bd3786"
             ],
             [
              0.5555555555555556,
              "#d8576b"
             ],
             [
              0.6666666666666666,
              "#ed7953"
             ],
             [
              0.7777777777777778,
              "#fb9f3a"
             ],
             [
              0.8888888888888888,
              "#fdca26"
             ],
             [
              1,
              "#f0f921"
             ]
            ],
            "type": "heatmapgl"
           }
          ],
          "histogram": [
           {
            "marker": {
             "pattern": {
              "fillmode": "overlay",
              "size": 10,
              "solidity": 0.2
             }
            },
            "type": "histogram"
           }
          ],
          "histogram2d": [
           {
            "colorbar": {
             "outlinewidth": 0,
             "ticks": ""
            },
            "colorscale": [
             [
              0,
              "#0d0887"
             ],
             [
              0.1111111111111111,
              "#46039f"
             ],
             [
              0.2222222222222222,
              "#7201a8"
             ],
             [
              0.3333333333333333,
              "#9c179e"
             ],
             [
              0.4444444444444444,
              "#bd3786"
             ],
             [
              0.5555555555555556,
              "#d8576b"
             ],
             [
              0.6666666666666666,
              "#ed7953"
             ],
             [
              0.7777777777777778,
              "#fb9f3a"
             ],
             [
              0.8888888888888888,
              "#fdca26"
             ],
             [
              1,
              "#f0f921"
             ]
            ],
            "type": "histogram2d"
           }
          ],
          "histogram2dcontour": [
           {
            "colorbar": {
             "outlinewidth": 0,
             "ticks": ""
            },
            "colorscale": [
             [
              0,
              "#0d0887"
             ],
             [
              0.1111111111111111,
              "#46039f"
             ],
             [
              0.2222222222222222,
              "#7201a8"
             ],
             [
              0.3333333333333333,
              "#9c179e"
             ],
             [
              0.4444444444444444,
              "#bd3786"
             ],
             [
              0.5555555555555556,
              "#d8576b"
             ],
             [
              0.6666666666666666,
              "#ed7953"
             ],
             [
              0.7777777777777778,
              "#fb9f3a"
             ],
             [
              0.8888888888888888,
              "#fdca26"
             ],
             [
              1,
              "#f0f921"
             ]
            ],
            "type": "histogram2dcontour"
           }
          ],
          "mesh3d": [
           {
            "colorbar": {
             "outlinewidth": 0,
             "ticks": ""
            },
            "type": "mesh3d"
           }
          ],
          "parcoords": [
           {
            "line": {
             "colorbar": {
              "outlinewidth": 0,
              "ticks": ""
             }
            },
            "type": "parcoords"
           }
          ],
          "pie": [
           {
            "automargin": true,
            "type": "pie"
           }
          ],
          "scatter": [
           {
            "fillpattern": {
             "fillmode": "overlay",
             "size": 10,
             "solidity": 0.2
            },
            "type": "scatter"
           }
          ],
          "scatter3d": [
           {
            "line": {
             "colorbar": {
              "outlinewidth": 0,
              "ticks": ""
             }
            },
            "marker": {
             "colorbar": {
              "outlinewidth": 0,
              "ticks": ""
             }
            },
            "type": "scatter3d"
           }
          ],
          "scattercarpet": [
           {
            "marker": {
             "colorbar": {
              "outlinewidth": 0,
              "ticks": ""
             }
            },
            "type": "scattercarpet"
           }
          ],
          "scattergeo": [
           {
            "marker": {
             "colorbar": {
              "outlinewidth": 0,
              "ticks": ""
             }
            },
            "type": "scattergeo"
           }
          ],
          "scattergl": [
           {
            "marker": {
             "colorbar": {
              "outlinewidth": 0,
              "ticks": ""
             }
            },
            "type": "scattergl"
           }
          ],
          "scattermapbox": [
           {
            "marker": {
             "colorbar": {
              "outlinewidth": 0,
              "ticks": ""
             }
            },
            "type": "scattermapbox"
           }
          ],
          "scatterpolar": [
           {
            "marker": {
             "colorbar": {
              "outlinewidth": 0,
              "ticks": ""
             }
            },
            "type": "scatterpolar"
           }
          ],
          "scatterpolargl": [
           {
            "marker": {
             "colorbar": {
              "outlinewidth": 0,
              "ticks": ""
             }
            },
            "type": "scatterpolargl"
           }
          ],
          "scatterternary": [
           {
            "marker": {
             "colorbar": {
              "outlinewidth": 0,
              "ticks": ""
             }
            },
            "type": "scatterternary"
           }
          ],
          "surface": [
           {
            "colorbar": {
             "outlinewidth": 0,
             "ticks": ""
            },
            "colorscale": [
             [
              0,
              "#0d0887"
             ],
             [
              0.1111111111111111,
              "#46039f"
             ],
             [
              0.2222222222222222,
              "#7201a8"
             ],
             [
              0.3333333333333333,
              "#9c179e"
             ],
             [
              0.4444444444444444,
              "#bd3786"
             ],
             [
              0.5555555555555556,
              "#d8576b"
             ],
             [
              0.6666666666666666,
              "#ed7953"
             ],
             [
              0.7777777777777778,
              "#fb9f3a"
             ],
             [
              0.8888888888888888,
              "#fdca26"
             ],
             [
              1,
              "#f0f921"
             ]
            ],
            "type": "surface"
           }
          ],
          "table": [
           {
            "cells": {
             "fill": {
              "color": "#EBF0F8"
             },
             "line": {
              "color": "white"
             }
            },
            "header": {
             "fill": {
              "color": "#C8D4E3"
             },
             "line": {
              "color": "white"
             }
            },
            "type": "table"
           }
          ]
         },
         "layout": {
          "annotationdefaults": {
           "arrowcolor": "#2a3f5f",
           "arrowhead": 0,
           "arrowwidth": 1
          },
          "autotypenumbers": "strict",
          "coloraxis": {
           "colorbar": {
            "outlinewidth": 0,
            "ticks": ""
           }
          },
          "colorscale": {
           "diverging": [
            [
             0,
             "#8e0152"
            ],
            [
             0.1,
             "#c51b7d"
            ],
            [
             0.2,
             "#de77ae"
            ],
            [
             0.3,
             "#f1b6da"
            ],
            [
             0.4,
             "#fde0ef"
            ],
            [
             0.5,
             "#f7f7f7"
            ],
            [
             0.6,
             "#e6f5d0"
            ],
            [
             0.7,
             "#b8e186"
            ],
            [
             0.8,
             "#7fbc41"
            ],
            [
             0.9,
             "#4d9221"
            ],
            [
             1,
             "#276419"
            ]
           ],
           "sequential": [
            [
             0,
             "#0d0887"
            ],
            [
             0.1111111111111111,
             "#46039f"
            ],
            [
             0.2222222222222222,
             "#7201a8"
            ],
            [
             0.3333333333333333,
             "#9c179e"
            ],
            [
             0.4444444444444444,
             "#bd3786"
            ],
            [
             0.5555555555555556,
             "#d8576b"
            ],
            [
             0.6666666666666666,
             "#ed7953"
            ],
            [
             0.7777777777777778,
             "#fb9f3a"
            ],
            [
             0.8888888888888888,
             "#fdca26"
            ],
            [
             1,
             "#f0f921"
            ]
           ],
           "sequentialminus": [
            [
             0,
             "#0d0887"
            ],
            [
             0.1111111111111111,
             "#46039f"
            ],
            [
             0.2222222222222222,
             "#7201a8"
            ],
            [
             0.3333333333333333,
             "#9c179e"
            ],
            [
             0.4444444444444444,
             "#bd3786"
            ],
            [
             0.5555555555555556,
             "#d8576b"
            ],
            [
             0.6666666666666666,
             "#ed7953"
            ],
            [
             0.7777777777777778,
             "#fb9f3a"
            ],
            [
             0.8888888888888888,
             "#fdca26"
            ],
            [
             1,
             "#f0f921"
            ]
           ]
          },
          "colorway": [
           "#636efa",
           "#EF553B",
           "#00cc96",
           "#ab63fa",
           "#FFA15A",
           "#19d3f3",
           "#FF6692",
           "#B6E880",
           "#FF97FF",
           "#FECB52"
          ],
          "font": {
           "color": "#2a3f5f"
          },
          "geo": {
           "bgcolor": "white",
           "lakecolor": "white",
           "landcolor": "#E5ECF6",
           "showlakes": true,
           "showland": true,
           "subunitcolor": "white"
          },
          "hoverlabel": {
           "align": "left"
          },
          "hovermode": "closest",
          "mapbox": {
           "style": "light"
          },
          "paper_bgcolor": "white",
          "plot_bgcolor": "#E5ECF6",
          "polar": {
           "angularaxis": {
            "gridcolor": "white",
            "linecolor": "white",
            "ticks": ""
           },
           "bgcolor": "#E5ECF6",
           "radialaxis": {
            "gridcolor": "white",
            "linecolor": "white",
            "ticks": ""
           }
          },
          "scene": {
           "xaxis": {
            "backgroundcolor": "#E5ECF6",
            "gridcolor": "white",
            "gridwidth": 2,
            "linecolor": "white",
            "showbackground": true,
            "ticks": "",
            "zerolinecolor": "white"
           },
           "yaxis": {
            "backgroundcolor": "#E5ECF6",
            "gridcolor": "white",
            "gridwidth": 2,
            "linecolor": "white",
            "showbackground": true,
            "ticks": "",
            "zerolinecolor": "white"
           },
           "zaxis": {
            "backgroundcolor": "#E5ECF6",
            "gridcolor": "white",
            "gridwidth": 2,
            "linecolor": "white",
            "showbackground": true,
            "ticks": "",
            "zerolinecolor": "white"
           }
          },
          "shapedefaults": {
           "line": {
            "color": "#2a3f5f"
           }
          },
          "ternary": {
           "aaxis": {
            "gridcolor": "white",
            "linecolor": "white",
            "ticks": ""
           },
           "baxis": {
            "gridcolor": "white",
            "linecolor": "white",
            "ticks": ""
           },
           "bgcolor": "#E5ECF6",
           "caxis": {
            "gridcolor": "white",
            "linecolor": "white",
            "ticks": ""
           }
          },
          "title": {
           "x": 0.05
          },
          "xaxis": {
           "automargin": true,
           "gridcolor": "white",
           "linecolor": "white",
           "ticks": "",
           "title": {
            "standoff": 15
           },
           "zerolinecolor": "white",
           "zerolinewidth": 2
          },
          "yaxis": {
           "automargin": true,
           "gridcolor": "white",
           "linecolor": "white",
           "ticks": "",
           "title": {
            "standoff": 15
           },
           "zerolinecolor": "white",
           "zerolinewidth": 2
          }
         }
        },
        "title": {
         "text": "Makes by Display Price (At least 10 times occurred in the dataset)"
        },
        "xaxis": {
         "anchor": "y",
         "domain": [
          0,
          0.45
         ],
         "title": {
          "text": "Median Display Price (USD)"
         }
        },
        "xaxis2": {
         "anchor": "y2",
         "domain": [
          0.55,
          1
         ],
         "title": {
          "text": "Mean Display Price (USD)"
         }
        },
        "yaxis": {
         "anchor": "x",
         "domain": [
          0,
          1
         ],
         "title": {
          "text": "Car Make"
         }
        },
        "yaxis2": {
         "anchor": "x2",
         "domain": [
          0,
          1
         ],
         "title": {
          "text": "Car Make"
         }
        }
       }
      }
     },
     "metadata": {},
     "output_type": "display_data"
    }
   ],
   "source": [
    "top_10_makes_median = df.groupby('make').filter(lambda x: len(x) >= 10)\\\n",
    "                        .groupby('make')['display_price'].median()\\\n",
    "                        .sort_values(ascending=True)\\\n",
    "                        .head(10)\n",
    "top_10_makes_median = top_10_makes_median.reset_index()\n",
    "\n",
    "top_10_makes_mean = df.groupby('make').filter(lambda x: len(x) >= 10)\\\n",
    "                      .groupby('make')['display_price'].mean()\\\n",
    "                      .sort_values(ascending=True)\\\n",
    "                      .head(10)\n",
    "top_10_makes_mean = top_10_makes_mean.reset_index()\n",
    "\n",
    "fig1 = px.bar(top_10_makes_median, \n",
    "              x='display_price', \n",
    "              y='make', \n",
    "              orientation='h',\n",
    "              title='Makes by Median Display Price (At least 10 times occurred in the dataset)',\n",
    "              labels={'display_price': 'Median Display Price', 'make': 'Car Make'},\n",
    "              color_discrete_sequence=px.colors.qualitative.Plotly\n",
    ")\n",
    "\n",
    "fig2 = px.bar(top_10_makes_mean, \n",
    "              x='display_price', \n",
    "              y='make', \n",
    "              orientation='h',\n",
    "              title='Makes by Mean Display Price (At least 10 times occurred in the dataset)',\n",
    "              labels={'display_price': 'Mean Display Price', 'make': 'Car Make'},\n",
    "              color_discrete_sequence=px.colors.qualitative.Plotly_r\n",
    ")\n",
    "\n",
    "fig1.update_xaxes(title_text='Median Display Price (USD)')\n",
    "fig1.update_yaxes(title_text='Car Make')\n",
    "\n",
    "fig2.update_xaxes(title_text='Mean Display Price (USD)')\n",
    "fig2.update_yaxes(title_text='Car Make')\n",
    "\n",
    "fig = make_subplots(rows=1, cols=2, subplot_titles=(\"Median Display Price\", \"Mean Display Price\"))\n",
    "\n",
    "for trace in fig1['data']:\n",
    "    fig.add_trace(trace, row=1, col=1)\n",
    "\n",
    "for trace in fig2['data']:\n",
    "    fig.add_trace(trace, row=1, col=2)\n",
    "\n",
    "for i, make in enumerate(top_10_makes_median['make']):\n",
    "    median_price = top_10_makes_median.loc[i, 'display_price']\n",
    "    fig.add_annotation(\n",
    "        x=median_price,\n",
    "        y=make,\n",
    "        text=f\"Median Price: {median_price:,.0f}\",\n",
    "        showarrow=False,\n",
    "        xanchor='left',\n",
    "        yanchor='middle',\n",
    "        row=1,\n",
    "        col=1\n",
    "    )\n",
    "\n",
    "for i, make in enumerate(top_10_makes_mean['make']):\n",
    "    mean_price = top_10_makes_mean.loc[i, 'display_price']\n",
    "    fig.add_annotation(\n",
    "        x=mean_price,\n",
    "        y=make,\n",
    "        text=f\"Mean Price: {mean_price:,.0f}\",\n",
    "        showarrow=False,\n",
    "        xanchor='left',\n",
    "        yanchor='middle',\n",
    "        row=1,\n",
    "        col=2\n",
    "    )\n",
    "\n",
    "fig.update_layout(title_text=\"Makes by Display Price (At least 10 times occurred in the dataset)\",\n",
    "                  showlegend=False)\n",
    "\n",
    "fig.update_xaxes(title_text='Median Display Price (USD)', row=1, col=1)\n",
    "fig.update_xaxes(title_text='Mean Display Price (USD)', row=1, col=2)\n",
    "fig.update_yaxes(title_text='Car Make', row=1, col=1)\n",
    "fig.update_yaxes(title_text='Car Make', row=1, col=2)\n",
    "\n",
    "fig.show()\n"
   ]
  },
  {
   "cell_type": "markdown",
   "metadata": {},
   "source": [
    "## Q11- Analyze the price segment and mean/median mileage relationship.\n",
    "* Higher the price segment is lower the mean/median mileage we have.\n",
    "\n",
    "* As mileage goes up our price segment goes low."
   ]
  },
  {
   "cell_type": "code",
   "execution_count": 36,
   "metadata": {},
   "outputs": [
    {
     "data": {
      "application/vnd.plotly.v1+json": {
       "config": {
        "plotlyServerURL": "https://plot.ly"
       },
       "data": [
        {
         "alignmentgroup": "True",
         "hovertemplate": "Median Mileage=%{x}<br>Price Segment=%{y}<extra></extra>",
         "legendgroup": "",
         "marker": {
          "color": "rgb(229, 134, 6)",
          "pattern": {
           "shape": ""
          }
         },
         "name": "",
         "offsetgroup": "",
         "orientation": "h",
         "showlegend": false,
         "textposition": "auto",
         "type": "bar",
         "x": [
          86924.5,
          34442,
          17739,
          13567.5,
          8611
         ],
         "xaxis": "x",
         "y": [
          "0-20k",
          "20k-40k",
          "40k-60k",
          "60k-80k",
          "80k+"
         ],
         "yaxis": "y"
        },
        {
         "alignmentgroup": "True",
         "hovertemplate": "Mean Mileage=%{x}<br>Price Segment=%{y}<extra></extra>",
         "legendgroup": "",
         "marker": {
          "color": "#4C78A8",
          "pattern": {
           "shape": ""
          }
         },
         "name": "",
         "offsetgroup": "",
         "orientation": "h",
         "showlegend": false,
         "textposition": "auto",
         "type": "bar",
         "x": [
          89686.26223182304,
          40063.92235954585,
          23749.392807424592,
          19119.93958402113,
          12671.243580683156
         ],
         "xaxis": "x2",
         "y": [
          "0-20k",
          "20k-40k",
          "40k-60k",
          "60k-80k",
          "80k+"
         ],
         "yaxis": "y2"
        }
       ],
       "layout": {
        "annotations": [
         {
          "font": {
           "size": 16
          },
          "showarrow": false,
          "text": "Median Mileage",
          "x": 0.225,
          "xanchor": "center",
          "xref": "paper",
          "y": 1,
          "yanchor": "bottom",
          "yref": "paper"
         },
         {
          "font": {
           "size": 16
          },
          "showarrow": false,
          "text": "Mean Mileage",
          "x": 0.775,
          "xanchor": "center",
          "xref": "paper",
          "y": 1,
          "yanchor": "bottom",
          "yref": "paper"
         },
         {
          "showarrow": false,
          "text": "Median Price: 14,778",
          "x": 86924.5,
          "xanchor": "left",
          "xref": "x",
          "y": "0-20k",
          "yanchor": "middle",
          "yref": "y"
         },
         {
          "showarrow": false,
          "text": "Median Price: 26,995",
          "x": 34442,
          "xanchor": "left",
          "xref": "x",
          "y": "20k-40k",
          "yanchor": "middle",
          "yref": "y"
         },
         {
          "showarrow": false,
          "text": "Median Price: 46,631",
          "x": 17739,
          "xanchor": "left",
          "xref": "x",
          "y": "40k-60k",
          "yanchor": "middle",
          "yref": "y"
         },
         {
          "showarrow": false,
          "text": "Median Price: 67,986",
          "x": 13567.5,
          "xanchor": "left",
          "xref": "x",
          "y": "60k-80k",
          "yanchor": "middle",
          "yref": "y"
         },
         {
          "showarrow": false,
          "text": "Median Price: 107,499",
          "x": 8611,
          "xanchor": "left",
          "xref": "x",
          "y": "80k+",
          "yanchor": "middle",
          "yref": "y"
         },
         {
          "showarrow": false,
          "text": "Mean Price: 13,939",
          "x": 89686.26223182304,
          "xanchor": "left",
          "xref": "x2",
          "y": "0-20k",
          "yanchor": "middle",
          "yref": "y2"
         },
         {
          "showarrow": false,
          "text": "Mean Price: 27,987",
          "x": 40063.92235954585,
          "xanchor": "left",
          "xref": "x2",
          "y": "20k-40k",
          "yanchor": "middle",
          "yref": "y2"
         },
         {
          "showarrow": false,
          "text": "Mean Price: 47,799",
          "x": 23749.392807424592,
          "xanchor": "left",
          "xref": "x2",
          "y": "40k-60k",
          "yanchor": "middle",
          "yref": "y2"
         },
         {
          "showarrow": false,
          "text": "Mean Price: 68,592",
          "x": 19119.93958402113,
          "xanchor": "left",
          "xref": "x2",
          "y": "60k-80k",
          "yanchor": "middle",
          "yref": "y2"
         },
         {
          "showarrow": false,
          "text": "Mean Price: 143,407",
          "x": 12671.243580683156,
          "xanchor": "left",
          "xref": "x2",
          "y": "80k+",
          "yanchor": "middle",
          "yref": "y2"
         }
        ],
        "showlegend": false,
        "template": {
         "data": {
          "bar": [
           {
            "error_x": {
             "color": "#2a3f5f"
            },
            "error_y": {
             "color": "#2a3f5f"
            },
            "marker": {
             "line": {
              "color": "#E5ECF6",
              "width": 0.5
             },
             "pattern": {
              "fillmode": "overlay",
              "size": 10,
              "solidity": 0.2
             }
            },
            "type": "bar"
           }
          ],
          "barpolar": [
           {
            "marker": {
             "line": {
              "color": "#E5ECF6",
              "width": 0.5
             },
             "pattern": {
              "fillmode": "overlay",
              "size": 10,
              "solidity": 0.2
             }
            },
            "type": "barpolar"
           }
          ],
          "carpet": [
           {
            "aaxis": {
             "endlinecolor": "#2a3f5f",
             "gridcolor": "white",
             "linecolor": "white",
             "minorgridcolor": "white",
             "startlinecolor": "#2a3f5f"
            },
            "baxis": {
             "endlinecolor": "#2a3f5f",
             "gridcolor": "white",
             "linecolor": "white",
             "minorgridcolor": "white",
             "startlinecolor": "#2a3f5f"
            },
            "type": "carpet"
           }
          ],
          "choropleth": [
           {
            "colorbar": {
             "outlinewidth": 0,
             "ticks": ""
            },
            "type": "choropleth"
           }
          ],
          "contour": [
           {
            "colorbar": {
             "outlinewidth": 0,
             "ticks": ""
            },
            "colorscale": [
             [
              0,
              "#0d0887"
             ],
             [
              0.1111111111111111,
              "#46039f"
             ],
             [
              0.2222222222222222,
              "#7201a8"
             ],
             [
              0.3333333333333333,
              "#9c179e"
             ],
             [
              0.4444444444444444,
              "#bd3786"
             ],
             [
              0.5555555555555556,
              "#d8576b"
             ],
             [
              0.6666666666666666,
              "#ed7953"
             ],
             [
              0.7777777777777778,
              "#fb9f3a"
             ],
             [
              0.8888888888888888,
              "#fdca26"
             ],
             [
              1,
              "#f0f921"
             ]
            ],
            "type": "contour"
           }
          ],
          "contourcarpet": [
           {
            "colorbar": {
             "outlinewidth": 0,
             "ticks": ""
            },
            "type": "contourcarpet"
           }
          ],
          "heatmap": [
           {
            "colorbar": {
             "outlinewidth": 0,
             "ticks": ""
            },
            "colorscale": [
             [
              0,
              "#0d0887"
             ],
             [
              0.1111111111111111,
              "#46039f"
             ],
             [
              0.2222222222222222,
              "#7201a8"
             ],
             [
              0.3333333333333333,
              "#9c179e"
             ],
             [
              0.4444444444444444,
              "#bd3786"
             ],
             [
              0.5555555555555556,
              "#d8576b"
             ],
             [
              0.6666666666666666,
              "#ed7953"
             ],
             [
              0.7777777777777778,
              "#fb9f3a"
             ],
             [
              0.8888888888888888,
              "#fdca26"
             ],
             [
              1,
              "#f0f921"
             ]
            ],
            "type": "heatmap"
           }
          ],
          "heatmapgl": [
           {
            "colorbar": {
             "outlinewidth": 0,
             "ticks": ""
            },
            "colorscale": [
             [
              0,
              "#0d0887"
             ],
             [
              0.1111111111111111,
              "#46039f"
             ],
             [
              0.2222222222222222,
              "#7201a8"
             ],
             [
              0.3333333333333333,
              "#9c179e"
             ],
             [
              0.4444444444444444,
              "#bd3786"
             ],
             [
              0.5555555555555556,
              "#d8576b"
             ],
             [
              0.6666666666666666,
              "#ed7953"
             ],
             [
              0.7777777777777778,
              "#fb9f3a"
             ],
             [
              0.8888888888888888,
              "#fdca26"
             ],
             [
              1,
              "#f0f921"
             ]
            ],
            "type": "heatmapgl"
           }
          ],
          "histogram": [
           {
            "marker": {
             "pattern": {
              "fillmode": "overlay",
              "size": 10,
              "solidity": 0.2
             }
            },
            "type": "histogram"
           }
          ],
          "histogram2d": [
           {
            "colorbar": {
             "outlinewidth": 0,
             "ticks": ""
            },
            "colorscale": [
             [
              0,
              "#0d0887"
             ],
             [
              0.1111111111111111,
              "#46039f"
             ],
             [
              0.2222222222222222,
              "#7201a8"
             ],
             [
              0.3333333333333333,
              "#9c179e"
             ],
             [
              0.4444444444444444,
              "#bd3786"
             ],
             [
              0.5555555555555556,
              "#d8576b"
             ],
             [
              0.6666666666666666,
              "#ed7953"
             ],
             [
              0.7777777777777778,
              "#fb9f3a"
             ],
             [
              0.8888888888888888,
              "#fdca26"
             ],
             [
              1,
              "#f0f921"
             ]
            ],
            "type": "histogram2d"
           }
          ],
          "histogram2dcontour": [
           {
            "colorbar": {
             "outlinewidth": 0,
             "ticks": ""
            },
            "colorscale": [
             [
              0,
              "#0d0887"
             ],
             [
              0.1111111111111111,
              "#46039f"
             ],
             [
              0.2222222222222222,
              "#7201a8"
             ],
             [
              0.3333333333333333,
              "#9c179e"
             ],
             [
              0.4444444444444444,
              "#bd3786"
             ],
             [
              0.5555555555555556,
              "#d8576b"
             ],
             [
              0.6666666666666666,
              "#ed7953"
             ],
             [
              0.7777777777777778,
              "#fb9f3a"
             ],
             [
              0.8888888888888888,
              "#fdca26"
             ],
             [
              1,
              "#f0f921"
             ]
            ],
            "type": "histogram2dcontour"
           }
          ],
          "mesh3d": [
           {
            "colorbar": {
             "outlinewidth": 0,
             "ticks": ""
            },
            "type": "mesh3d"
           }
          ],
          "parcoords": [
           {
            "line": {
             "colorbar": {
              "outlinewidth": 0,
              "ticks": ""
             }
            },
            "type": "parcoords"
           }
          ],
          "pie": [
           {
            "automargin": true,
            "type": "pie"
           }
          ],
          "scatter": [
           {
            "fillpattern": {
             "fillmode": "overlay",
             "size": 10,
             "solidity": 0.2
            },
            "type": "scatter"
           }
          ],
          "scatter3d": [
           {
            "line": {
             "colorbar": {
              "outlinewidth": 0,
              "ticks": ""
             }
            },
            "marker": {
             "colorbar": {
              "outlinewidth": 0,
              "ticks": ""
             }
            },
            "type": "scatter3d"
           }
          ],
          "scattercarpet": [
           {
            "marker": {
             "colorbar": {
              "outlinewidth": 0,
              "ticks": ""
             }
            },
            "type": "scattercarpet"
           }
          ],
          "scattergeo": [
           {
            "marker": {
             "colorbar": {
              "outlinewidth": 0,
              "ticks": ""
             }
            },
            "type": "scattergeo"
           }
          ],
          "scattergl": [
           {
            "marker": {
             "colorbar": {
              "outlinewidth": 0,
              "ticks": ""
             }
            },
            "type": "scattergl"
           }
          ],
          "scattermapbox": [
           {
            "marker": {
             "colorbar": {
              "outlinewidth": 0,
              "ticks": ""
             }
            },
            "type": "scattermapbox"
           }
          ],
          "scatterpolar": [
           {
            "marker": {
             "colorbar": {
              "outlinewidth": 0,
              "ticks": ""
             }
            },
            "type": "scatterpolar"
           }
          ],
          "scatterpolargl": [
           {
            "marker": {
             "colorbar": {
              "outlinewidth": 0,
              "ticks": ""
             }
            },
            "type": "scatterpolargl"
           }
          ],
          "scatterternary": [
           {
            "marker": {
             "colorbar": {
              "outlinewidth": 0,
              "ticks": ""
             }
            },
            "type": "scatterternary"
           }
          ],
          "surface": [
           {
            "colorbar": {
             "outlinewidth": 0,
             "ticks": ""
            },
            "colorscale": [
             [
              0,
              "#0d0887"
             ],
             [
              0.1111111111111111,
              "#46039f"
             ],
             [
              0.2222222222222222,
              "#7201a8"
             ],
             [
              0.3333333333333333,
              "#9c179e"
             ],
             [
              0.4444444444444444,
              "#bd3786"
             ],
             [
              0.5555555555555556,
              "#d8576b"
             ],
             [
              0.6666666666666666,
              "#ed7953"
             ],
             [
              0.7777777777777778,
              "#fb9f3a"
             ],
             [
              0.8888888888888888,
              "#fdca26"
             ],
             [
              1,
              "#f0f921"
             ]
            ],
            "type": "surface"
           }
          ],
          "table": [
           {
            "cells": {
             "fill": {
              "color": "#EBF0F8"
             },
             "line": {
              "color": "white"
             }
            },
            "header": {
             "fill": {
              "color": "#C8D4E3"
             },
             "line": {
              "color": "white"
             }
            },
            "type": "table"
           }
          ]
         },
         "layout": {
          "annotationdefaults": {
           "arrowcolor": "#2a3f5f",
           "arrowhead": 0,
           "arrowwidth": 1
          },
          "autotypenumbers": "strict",
          "coloraxis": {
           "colorbar": {
            "outlinewidth": 0,
            "ticks": ""
           }
          },
          "colorscale": {
           "diverging": [
            [
             0,
             "#8e0152"
            ],
            [
             0.1,
             "#c51b7d"
            ],
            [
             0.2,
             "#de77ae"
            ],
            [
             0.3,
             "#f1b6da"
            ],
            [
             0.4,
             "#fde0ef"
            ],
            [
             0.5,
             "#f7f7f7"
            ],
            [
             0.6,
             "#e6f5d0"
            ],
            [
             0.7,
             "#b8e186"
            ],
            [
             0.8,
             "#7fbc41"
            ],
            [
             0.9,
             "#4d9221"
            ],
            [
             1,
             "#276419"
            ]
           ],
           "sequential": [
            [
             0,
             "#0d0887"
            ],
            [
             0.1111111111111111,
             "#46039f"
            ],
            [
             0.2222222222222222,
             "#7201a8"
            ],
            [
             0.3333333333333333,
             "#9c179e"
            ],
            [
             0.4444444444444444,
             "#bd3786"
            ],
            [
             0.5555555555555556,
             "#d8576b"
            ],
            [
             0.6666666666666666,
             "#ed7953"
            ],
            [
             0.7777777777777778,
             "#fb9f3a"
            ],
            [
             0.8888888888888888,
             "#fdca26"
            ],
            [
             1,
             "#f0f921"
            ]
           ],
           "sequentialminus": [
            [
             0,
             "#0d0887"
            ],
            [
             0.1111111111111111,
             "#46039f"
            ],
            [
             0.2222222222222222,
             "#7201a8"
            ],
            [
             0.3333333333333333,
             "#9c179e"
            ],
            [
             0.4444444444444444,
             "#bd3786"
            ],
            [
             0.5555555555555556,
             "#d8576b"
            ],
            [
             0.6666666666666666,
             "#ed7953"
            ],
            [
             0.7777777777777778,
             "#fb9f3a"
            ],
            [
             0.8888888888888888,
             "#fdca26"
            ],
            [
             1,
             "#f0f921"
            ]
           ]
          },
          "colorway": [
           "#636efa",
           "#EF553B",
           "#00cc96",
           "#ab63fa",
           "#FFA15A",
           "#19d3f3",
           "#FF6692",
           "#B6E880",
           "#FF97FF",
           "#FECB52"
          ],
          "font": {
           "color": "#2a3f5f"
          },
          "geo": {
           "bgcolor": "white",
           "lakecolor": "white",
           "landcolor": "#E5ECF6",
           "showlakes": true,
           "showland": true,
           "subunitcolor": "white"
          },
          "hoverlabel": {
           "align": "left"
          },
          "hovermode": "closest",
          "mapbox": {
           "style": "light"
          },
          "paper_bgcolor": "white",
          "plot_bgcolor": "#E5ECF6",
          "polar": {
           "angularaxis": {
            "gridcolor": "white",
            "linecolor": "white",
            "ticks": ""
           },
           "bgcolor": "#E5ECF6",
           "radialaxis": {
            "gridcolor": "white",
            "linecolor": "white",
            "ticks": ""
           }
          },
          "scene": {
           "xaxis": {
            "backgroundcolor": "#E5ECF6",
            "gridcolor": "white",
            "gridwidth": 2,
            "linecolor": "white",
            "showbackground": true,
            "ticks": "",
            "zerolinecolor": "white"
           },
           "yaxis": {
            "backgroundcolor": "#E5ECF6",
            "gridcolor": "white",
            "gridwidth": 2,
            "linecolor": "white",
            "showbackground": true,
            "ticks": "",
            "zerolinecolor": "white"
           },
           "zaxis": {
            "backgroundcolor": "#E5ECF6",
            "gridcolor": "white",
            "gridwidth": 2,
            "linecolor": "white",
            "showbackground": true,
            "ticks": "",
            "zerolinecolor": "white"
           }
          },
          "shapedefaults": {
           "line": {
            "color": "#2a3f5f"
           }
          },
          "ternary": {
           "aaxis": {
            "gridcolor": "white",
            "linecolor": "white",
            "ticks": ""
           },
           "baxis": {
            "gridcolor": "white",
            "linecolor": "white",
            "ticks": ""
           },
           "bgcolor": "#E5ECF6",
           "caxis": {
            "gridcolor": "white",
            "linecolor": "white",
            "ticks": ""
           }
          },
          "title": {
           "x": 0.05
          },
          "xaxis": {
           "automargin": true,
           "gridcolor": "white",
           "linecolor": "white",
           "ticks": "",
           "title": {
            "standoff": 15
           },
           "zerolinecolor": "white",
           "zerolinewidth": 2
          },
          "yaxis": {
           "automargin": true,
           "gridcolor": "white",
           "linecolor": "white",
           "ticks": "",
           "title": {
            "standoff": 15
           },
           "zerolinecolor": "white",
           "zerolinewidth": 2
          }
         }
        },
        "title": {
         "text": "Average and Median Mileage/Price by Price Segments"
        },
        "xaxis": {
         "anchor": "y",
         "domain": [
          0,
          0.45
         ],
         "title": {
          "text": "Median Mileage"
         }
        },
        "xaxis2": {
         "anchor": "y2",
         "domain": [
          0.55,
          1
         ],
         "title": {
          "text": "Mean Mileage"
         }
        },
        "yaxis": {
         "anchor": "x",
         "domain": [
          0,
          1
         ],
         "title": {
          "text": "Price Segment"
         }
        },
        "yaxis2": {
         "anchor": "x2",
         "domain": [
          0,
          1
         ],
         "title": {
          "text": "Price Segment"
         }
        }
       }
      }
     },
     "metadata": {},
     "output_type": "display_data"
    }
   ],
   "source": [
    "top_10_price_segments_median = df.groupby('price_segment').filter(lambda x: len(x) >= 15)\\\n",
    "                                 .groupby('price_segment')['mileage'].median()\\\n",
    "                                 .sort_values(ascending=False)\\\n",
    "                                 .head(10)\n",
    "top_10_price_segments_median = top_10_price_segments_median.reset_index()\n",
    "\n",
    "top_10_price_segments_mean = df.groupby('price_segment').filter(lambda x: len(x) >= 15)\\\n",
    "                               .groupby('price_segment')['mileage'].mean()\\\n",
    "                               .sort_values(ascending=False)\\\n",
    "                               .head(10)\n",
    "top_10_price_segments_mean = top_10_price_segments_mean.reset_index()\n",
    "\n",
    "median_price_median_price_segment = df[df['price_segment'].isin(top_10_price_segments_median['price_segment'])]\\\n",
    "                                    .groupby('price_segment')['display_price'].median()\n",
    "\n",
    "mean_price_mean_price_segment = df[df['price_segment'].isin(top_10_price_segments_mean['price_segment'])]\\\n",
    "                                .groupby('price_segment')['display_price'].mean()\n",
    "\n",
    "fig1 = px.bar(top_10_price_segments_median, \n",
    "              x='mileage', \n",
    "              y='price_segment', \n",
    "              orientation='h',\n",
    "              title='Price Segments by Median Mileage (At least 15 times occurred in the dataset)',\n",
    "              labels={'mileage': 'Median Mileage', 'price_segment': 'Price Segment'},\n",
    "              color_discrete_sequence=px.colors.qualitative.Vivid\n",
    ")\n",
    "\n",
    "fig2 = px.bar(top_10_price_segments_mean, \n",
    "              x='mileage', \n",
    "              y='price_segment', \n",
    "              orientation='h',\n",
    "              title='Price Segments by Mean Mileage (At least 15 times occurred in the dataset)',\n",
    "              labels={'mileage': 'Mean Mileage', 'price_segment': 'Price Segment'},\n",
    "              color_discrete_sequence=px.colors.qualitative.T10\n",
    ")\n",
    "\n",
    "fig1.update_xaxes(title_text='Median Mileage')\n",
    "fig1.update_yaxes(title_text='Price Segment')\n",
    "\n",
    "fig2.update_xaxes(title_text='Mean Mileage')\n",
    "fig2.update_yaxes(title_text='Price Segment')\n",
    "\n",
    "fig = make_subplots(rows=1, cols=2, subplot_titles=(\"Median Mileage\", \"Mean Mileage\"))\n",
    "\n",
    "for trace in fig1['data']:\n",
    "    fig.add_trace(trace, row=1, col=1)\n",
    "\n",
    "for trace in fig2['data']:\n",
    "    fig.add_trace(trace, row=1, col=2)\n",
    "\n",
    "for i, price_segment in enumerate(top_10_price_segments_median['price_segment']):\n",
    "    fig.add_annotation(\n",
    "        x=top_10_price_segments_median.loc[i, 'mileage'],\n",
    "        y=price_segment,\n",
    "        text=f\"Median Price: {median_price_median_price_segment[price_segment]:,.0f}\",\n",
    "        showarrow=False,\n",
    "        xanchor='left',\n",
    "        yanchor='middle',\n",
    "        row=1,\n",
    "        col=1\n",
    "    )\n",
    "\n",
    "for i, price_segment in enumerate(top_10_price_segments_mean['price_segment']):\n",
    "    fig.add_annotation(\n",
    "        x=top_10_price_segments_mean.loc[i, 'mileage'],\n",
    "        y=price_segment,\n",
    "        text=f\"Mean Price: {mean_price_mean_price_segment[price_segment]:,.0f}\",\n",
    "        showarrow=False,\n",
    "        xanchor='left',\n",
    "        yanchor='middle',\n",
    "        row=1,\n",
    "        col=2\n",
    "    )\n",
    "\n",
    "fig.update_layout(title_text=\"Average and Median Mileage/Price by Price Segments\",\n",
    "                  showlegend=False)\n",
    "\n",
    "fig.update_xaxes(title_text='Median Mileage', row=1, col=1)\n",
    "fig.update_xaxes(title_text='Mean Mileage', row=1, col=2)\n",
    "fig.update_yaxes(title_text='Price Segment', row=1, col=1)\n",
    "fig.update_yaxes(title_text='Price Segment', row=1, col=2)\n",
    "\n",
    "fig.show()"
   ]
  }
 ],
 "metadata": {
  "kernelspec": {
   "display_name": "Python 3",
   "language": "python",
   "name": "python3"
  },
  "language_info": {
   "codemirror_mode": {
    "name": "ipython",
    "version": 3
   },
   "file_extension": ".py",
   "mimetype": "text/x-python",
   "name": "python",
   "nbconvert_exporter": "python",
   "pygments_lexer": "ipython3",
   "version": "3.12.2"
  }
 },
 "nbformat": 4,
 "nbformat_minor": 2
}
